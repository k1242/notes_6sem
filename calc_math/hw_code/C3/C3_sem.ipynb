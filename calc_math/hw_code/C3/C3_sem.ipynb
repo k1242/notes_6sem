{
 "cells": [
  {
   "cell_type": "markdown",
   "metadata": {
    "nbpresent": {
     "id": "13101ac1-2637-4d0f-9f1f-cd32215b02c3"
    },
    "slideshow": {
     "slide_type": "slide"
    }
   },
   "source": [
    "# Вычислительная математика\n",
    "## Интегрирование\n",
    "\n",
    "Иван Цыбулин, Ярослав Холодов"
   ]
  },
  {
   "cell_type": "markdown",
   "metadata": {
    "slideshow": {
     "slide_type": "slide"
    }
   },
   "source": [
    "## Задача численного интегрирования\n",
    "\n",
    "Требуется вычислить определенный интеграл\n",
    "$$\n",
    "\\int_a^b f(x) dx\n",
    "$$\n",
    "Интеграл предполагается собственным, то есть $a, b \\neq \\infty$, $|f(x)| < \\infty$."
   ]
  },
  {
   "cell_type": "markdown",
   "metadata": {
    "slideshow": {
     "slide_type": "slide"
    }
   },
   "source": [
    "### Приближение подынтегральной функции\n",
    "\n",
    "Для вычисления интеграла, подынтегральную функцию приближают интегрируемой аналитически. Самый простой вариант &mdash; приблизить функцию интерполяционным многочленом:\n",
    "$$\n",
    "\\int_a^b f(x) dx \\approx \\int_a^b P(x) dx\n",
    "$$\n",
    "\n",
    "Формулы численного интегрирования называются также *квадратурными формулами* или *квадратурами*."
   ]
  },
  {
   "cell_type": "markdown",
   "metadata": {
    "slideshow": {
     "slide_type": "slide"
    }
   },
   "source": [
    "### Формулы для равномерной сетки\n",
    "\n",
    "Будем приближать функцию на отрезке $[a,b]$ интерполяционным многочленом на равномерной сетке:\n",
    "* $P_0(x) = f(a)$. Получится формула прямоугольников:\n",
    "$\n",
    "\\displaystyle \\int_a^b f(x) dx \\approx (b-a) f(a)\n",
    "$\n",
    "* $P_1(x) = f(a) + (x-a) \\frac{f(b) - f(a)}{b-a}$. Получится формула трапеций:\n",
    "$\n",
    "\\displaystyle \\int_a^b f(x) dx \\approx (b-a) \\frac{f(a) + f(b)}{2}\n",
    "$"
   ]
  },
  {
   "cell_type": "markdown",
   "metadata": {
    "slideshow": {
     "slide_type": "subslide"
    }
   },
   "source": [
    "### Формула Симпсона\n",
    "\n",
    "Для случая $p = 2$ получаем формулу Симпсона\n",
    "$$\n",
    "\\int_a^b f(x) dx = (b-a) \\left[f(a) w_0 + f\\left(\\frac{a+b}{2}\\right) w_1 + f(b) w_0\\right],\\\\\n",
    "w_0 = \\frac{1}{2}\\int_{-1}^1 \\frac{x(x-1)}{2} dx = \\frac{1}{6}\\\\\n",
    "w_1 = \\frac{1}{2}\\int_{-1}^1 (1-x^2) dx = \\frac{2}{3}\\\\\n",
    "w_2 = \\frac{1}{2}\\int_{-1}^1 \\frac{x(x+1)}{2} dx = \\frac{1}{6}\n",
    "$$"
   ]
  },
  {
   "cell_type": "markdown",
   "metadata": {
    "slideshow": {
     "slide_type": "subslide"
    }
   },
   "source": [
    "### Составные формулы\n",
    "\n",
    "Разобьем отрезок $[a,b]$ на равные интервалы длины $h = \\frac{b-a}{n}$. Применим к каждому отдельному интервалу формулу прямоугольников\n",
    "$$\n",
    "\\int_a^b f(x) dx = \\sum_{i=1}^n \\int_{x_{i-1}}^{x_i} f(x) dx \\approx h \\sum_{i=1}^{n} f(x_{i-1}).\n",
    "$$"
   ]
  },
  {
   "cell_type": "markdown",
   "metadata": {
    "slideshow": {
     "slide_type": "subslide"
    }
   },
   "source": [
    "Применив к каждому формулу трапеций, получаем\n",
    "$$\n",
    "\\int_a^b f(x) dx = \\sum_{i=1}^n \\int_{x_{i-1}}^{x_i} f(x) dx \\approx \n",
    "h \\sum_{i=1}^{n} \\frac{f(x_{i-1}) + f(x_i)}{2} =\\\\\n",
    "= \\frac{h}{2} \\left(f(x_0) + 2f(x_1) + \\dots + 2f(x_{n-1}) + f(x_n)\\right)\n",
    "$$"
   ]
  },
  {
   "cell_type": "markdown",
   "metadata": {
    "slideshow": {
     "slide_type": "subslide"
    }
   },
   "source": [
    "Объединив интервалы по два и применив к каждой паре формулу Сипсона, получаем\n",
    "$$\n",
    "\\int_a^b f(x) dx = \\sum_{i=1}^{n/2} \\int_{x_{2i-2}}^{x_{2i}} f(x) dx \\approx \n",
    "2h \\sum_{i=1}^{n/2} \\frac{f(x_{2i-2}) + 4 f(x_{2i-1}) + f(x_{2i})}{6} =\\\\\n",
    "= \\frac{h}{3} \\left(f(x_0) + 4f(x_1) + 2f(x_2) + 4f(x_3) + \\dots + \\\\\n",
    "\\phantom{z}\\qquad\\qquad + 4f(x_{n-3}) + 2f(x_{n-2}) + 4f(x_{n-1}) + f(x_n)\\right)\n",
    "$$"
   ]
  },
  {
   "cell_type": "markdown",
   "metadata": {
    "slideshow": {
     "slide_type": "slide"
    }
   },
   "source": [
    "### Погрешность составных формул\n",
    "Пусть элементарная квадратурная формула на одном интервале имеет остаточный член вида\n",
    "$$\n",
    "R_1 = C (b-a)^{k+1} f^{(k)}(\\xi).\n",
    "$$\n",
    "Тогда суммарная ошибка на всех интервалах\n",
    "$$\n",
    "R_\\text{сост} = C h^{k+1} \\sum_{i=1}^n f^{(k)}(\\xi_i),\\\\\n",
    "|R_\\text{сост}| \\leqslant C h^{k+1} \\sum_{i=1}^n |f^{(k)}(\\xi_i)| \n",
    "\\leqslant C (b-a) h^k \\max_{x \\in [a,b]} |f^{(k)}(x)|\n",
    "$$"
   ]
  },
  {
   "cell_type": "markdown",
   "metadata": {
    "slideshow": {
     "slide_type": "subslide"
    }
   },
   "source": [
    "### Погрешности составных формул\n",
    "\n",
    "$p$ | $n$ | Название | Погрешность\n",
    "-|-|-|-\n",
    "$0$ | $\\forall$ | Прямоугольников | $\\frac{(b-a) h}{2} M_1$\n",
    "$1$ | $\\forall$ | Трапеций | $\\frac{(b-a) h^2}{12} M_2$\n",
    "$2$ | $n = 2m$ | Симпсона | $\\frac{(b-a) h^4}{180} M_4$\n",
    "$3$ | $n = 3m$ | Формула 3/8 | $\\frac{(b-a) h^4}{80} M_4$"
   ]
  },
  {
   "cell_type": "markdown",
   "metadata": {
    "slideshow": {
     "slide_type": "subslide"
    }
   },
   "source": [
    "### Точность квадратурных формул\n",
    "\n",
    "Алгебраической степенью точности квадратурной формулы называют такое число $d$, что квадратурная формула точна для всех многочленов степени $d$, но для некоторых многочленов степени $d+1$ уже не точна. Из вида остаточного члена заключаем, что метод прямоугольников имеет $d=0$, метод трапеций $d=1$, методы Симпсона и 3/8 $d=3$.\n"
   ]
  },
  {
   "cell_type": "code",
   "execution_count": 1,
   "metadata": {
    "slideshow": {
     "slide_type": "slide"
    }
   },
   "outputs": [],
   "source": [
    "def rectangle(f, h):\n",
    "    return h * sum(f[:-1])\n",
    "\n",
    "def trapezoid(f, h):\n",
    "    return 0.5 * h * (f[0] + 2 * sum(f[1:-1]) + f[-1])\n",
    "\n",
    "def simpson(f, h):\n",
    "    assert (len(f)-1) % 2 == 0\n",
    "    return h/3. * (f[0] + 4 * sum(f[1:-1:2]) + \\\n",
    "                   2 * sum(f[2:-2:2]) + f[-1])\n",
    "\n",
    "def threeeights(f, h):\n",
    "    assert (len(f)-1) % 3 == 0\n",
    "    return 3*h/8. * (f[0] + 3 * sum(f[1:-1:3]) + \\\n",
    "                3 * sum(f[2:-1:3]) + 2 * sum(f[3:-3:3]) + f[-1])"
   ]
  },
  {
   "cell_type": "code",
   "execution_count": 8,
   "metadata": {
    "hideCode": true,
    "slideshow": {
     "slide_type": "slide"
    }
   },
   "outputs": [
    {
     "data": {
      "image/png": "[encoded data removed]",
      "text/plain": [
       "<Figure size 720x504 with 1 Axes>"
      ]
     },
     "metadata": {
      "needs_background": "light"
     },
     "output_type": "display_data"
    }
   ],
   "source": [
    "import numpy as np\n",
    "import matplotlib.pyplot as plt\n",
    "%matplotlib inline\n",
    "plt.rc('font', **{'size' : 14})\n",
    "\n",
    "def f(x): return 4 / (1 + x*x)\n",
    "exact = 4 * np.arctan(0.5)\n",
    "\n",
    "ns = 6 + 3 * 2**np.arange(1, 12)\n",
    "errs = []\n",
    "for n in ns:\n",
    "    x = np.linspace(0, 0.5, n+1)\n",
    "    fv = f(x)\n",
    "    I1 = rectangle(fv, x[1] - x[0])\n",
    "    I2 = trapezoid(fv, x[1] - x[0])\n",
    "    I3 = simpson(fv, x[1] - x[0])\n",
    "    I4 = threeeights(fv, x[1] - x[0])\n",
    "    errs.append([abs(I1-exact), abs(I2-exact), abs(I3-exact), abs(I4-exact)])\n",
    "\n",
    "errs=np.array(errs)\n",
    "    \n",
    "plt.figure(figsize=(10, 7))\n",
    "plt.loglog(ns, errs[:, 0], 'b.-', label='Rectangles', lw=2, ms=10)\n",
    "plt.loglog(ns, errs[:, 1], 'g.-', label='Trapezoids', lw=2, ms=10)\n",
    "plt.loglog(ns, errs[:, 2], 'r.-', label='Simpson''s', lw=2, ms=10)\n",
    "plt.loglog(ns, errs[:, 3], 'm.-', label='3/8 rule', lw=2, ms=10)\n",
    "plt.legend(loc='center left', bbox_to_anchor=(1, .5))\n",
    "plt.xlabel('$n$')\n",
    "plt.ylabel('$\\\\varepsilon$')\n",
    "plt.xlim(ns[0], ns[-1])\n",
    "plt.grid()\n",
    "plt.show()"
   ]
  },
  {
   "cell_type": "markdown",
   "metadata": {
    "slideshow": {
     "slide_type": "slide"
    }
   },
   "source": [
    "### Практическая оценка погрешности\n",
    "Не всегда на практике удается воспользоваться априорной оценкой вида\n",
    "$$\n",
    "\\varepsilon \\leqslant C M_p h^p,\n",
    "$$\n",
    "так как не всегда удается оценить $M_p$ для подынтегральной функции. В этом случае, обычно, пользуются правилом Рунге для определения подходящего шага $h$."
   ]
  },
  {
   "cell_type": "markdown",
   "metadata": {
    "slideshow": {
     "slide_type": "slide"
    }
   },
   "source": [
    "### Правило Рунге\n",
    "Предположим, что нам известен порядок метода, которым мы хотим найти значение интеграла с заданной точностью $\\varepsilon$. Тогда результат, вычисленный этим методом с шагом $h$ будет иметь вид\n",
    "$$\n",
    "I_h = I^* + \\underbrace{C_1 h^p + C_2 h^{p+1} + \\dots}_\\text{ошибка интегрирования}.\n",
    "$$\n",
    "Здесь $I^*$ &mdash; точное значение интеграла. Для достаточно малых $h$ можно записать\n",
    "$$\n",
    "I_h = I^* + C_h h^p,\n",
    "$$\n",
    "где $C_h$ &mdash; почти константа, то есть слабо зависит от $h$."
   ]
  },
  {
   "cell_type": "markdown",
   "metadata": {
    "slideshow": {
     "slide_type": "subslide"
    }
   },
   "source": [
    "Вычислим интеграл с шагом $h$ и с шагом $h/2$:\n",
    "$$\n",
    "I_h = I^* + C_1 h^p + C_2 h^{p+1} + \\dots\\\\\n",
    "I_{h/2} = I^* + C_1 \\left(\\frac{h}{2}\\right)^p + C_2 \\left(\\frac{h}{2}\\right)^{p+1} + \\dots\n",
    "$$\n",
    "Тогда\n",
    "$$\n",
    "I_h - I_{h/2} = C_h h^p - C_{h/2} \\left(\\frac{h}{2}\\right)^p \\approx (2^p - 1) C_{h/2} \\left(\\frac{h}{2}\\right)^p = (2^p - 1) (I_{h/2} - I^*)\\\\\n",
    "$$"
   ]
  },
  {
   "cell_type": "markdown",
   "metadata": {
    "slideshow": {
     "slide_type": "subslide"
    }
   },
   "source": [
    "Таким образом, погрешность интегрирования на сетке $h/2$ может быть оценена как\n",
    "$$\n",
    "I_{h/2} - I^* \\approx \\frac{I_h - I_{h/2}}{2^p - 1}.\n",
    "$$\n"
   ]
  },
  {
   "cell_type": "markdown",
   "metadata": {
    "slideshow": {
     "slide_type": "subslide"
    }
   },
   "source": [
    "### Использование правила Рунге\n",
    "Алгоритм применения правила Ругне следующий:\n",
    "1. Задать небольшое число интевалов, скажем $n = 10$\n",
    "2. Вычислить $I_h, I_{h/2}$ и оценить ошибку\n",
    "$$\n",
    "\\Delta_{h/2} = \\frac{I_h - I_{h/2}}{2^p - 1}.\n",
    "$$\n",
    "3. Если $|\\Delta_{h/2}| < \\varepsilon$, прекратить вычисления. Иначе измельчить сетку вдвое $h := h/2$ и перейти к шагу 2.\n",
    "4. Ответом служит $I_{h/2}$."
   ]
  },
  {
   "cell_type": "code",
   "execution_count": 17,
   "metadata": {
    "slideshow": {
     "slide_type": "subslide"
    }
   },
   "outputs": [],
   "source": [
    "def runge(f, a, b, eps=1e-12):    \n",
    "    n = 4\n",
    "    Ih = simpson(f(np.linspace(a, b, n+1)), (b-a) / n)\n",
    "    while True:\n",
    "        Ih_2 = simpson(f(np.linspace(a, b, 2*n+1)), (b-a) / (2*n))\n",
    "        Dh_2 = (Ih - Ih_2) / (2**4 - 1) # p = 4 для Симпсона\n",
    "        print('I(h) = %.16f, err(h) = %.6e' % (Ih_2, Dh_2))\n",
    "        if abs(Dh_2) < eps:\n",
    "            break\n",
    "        n *= 2; Ih = Ih_2\n",
    "        if n > 10000: print('Too large n'); break\n",
    "    return Ih_2"
   ]
  },
  {
   "cell_type": "code",
   "execution_count": 18,
   "metadata": {
    "slideshow": {
     "slide_type": "subslide"
    }
   },
   "outputs": [
    {
     "name": "stdout",
     "output_type": "stream",
     "text": [
      "I(h) = 0.4636479223346336, err(h) = 3.157185e-07\n",
      "I(h) = 0.4636476285453064, err(h) = 1.958596e-08\n",
      "I(h) = 0.4636476102217171, err(h) = 1.221573e-09\n",
      "I(h) = 0.4636476090771032, err(h) = 7.630759e-11\n",
      "I(h) = 0.4636476090055746, err(h) = 4.768578e-12\n",
      "I(h) = 0.4636476090011042, err(h) = 2.980246e-13\n"
     ]
    },
    {
     "data": {
      "text/plain": [
       "2.9809488211185453e-13"
      ]
     },
     "execution_count": 18,
     "metadata": {},
     "output_type": "execute_result"
    }
   ],
   "source": [
    "def f(x): return 1 / (1 + x**2)\n",
    "a = 0; b = 0.5; exact = np.arctan(b)\n",
    "\n",
    "runge(f, a, b) - exact"
   ]
  },
  {
   "cell_type": "markdown",
   "metadata": {
    "slideshow": {
     "slide_type": "slide"
    }
   },
   "source": [
    "### Дополнительные проверки\n",
    "Для проверки корректности использования правила Рунге достаточно проверять условия\n",
    "* что метод фактически сходится с порядком $p$,\n",
    "$$\n",
    "\\frac{\\Delta_{h}}{\\Delta_{h/2}} \\approx 2^p\n",
    "$$\n",
    "* что константа $C_h$ слабо зависит от $h$:\n",
    "$$\n",
    "C_h = \\frac{\\Delta_h}{h^p} \\to C = \\mathrm{const}\n",
    "$$"
   ]
  },
  {
   "cell_type": "code",
   "execution_count": 21,
   "metadata": {
    "slideshow": {
     "slide_type": "slide"
    }
   },
   "outputs": [],
   "source": [
    "def runge_checks(f, a, b, eps=1e-12):\n",
    "    n = 4\n",
    "    Ih = simpson(f(np.linspace(a, b, n+1)), (b-a) / n)\n",
    "    Dh = None;\n",
    "    while True:\n",
    "        h_2 = (b-a) / (2*n)\n",
    "        Ih_2 = simpson(f(np.linspace(a, b, 2*n+1)), h_2)\n",
    "        Dh_2 = (Ih - Ih_2) / (2**4 - 1) # p = 4 для Симпсона\n",
    "        Ch_2 = Dh_2 / h_2**4; ps = np.log2(Dh / Dh_2) if Dh != None else np.nan\n",
    "        print('I(h) = %.16f, err(h) = %.6e, p* = %4.2f, C = %.6e' % \\\n",
    "              (Ih_2, Dh_2, ps, Ch_2))\n",
    "        if abs(Dh_2) < eps:\n",
    "            break\n",
    "        n *= 2; Ih = Ih_2; Dh = Dh_2\n",
    "        if n > 10000: print('Too large n'); break\n",
    "    return Ih_2"
   ]
  },
  {
   "cell_type": "code",
   "execution_count": 22,
   "metadata": {
    "slideshow": {
     "slide_type": "subslide"
    }
   },
   "outputs": [
    {
     "name": "stdout",
     "output_type": "stream",
     "text": [
      "I(h) = 0.4636479223346336, err(h) = 3.157185e-07, p* =  nan, C = 2.069093e-02\n",
      "I(h) = 0.4636476285453064, err(h) = 1.958596e-08, p* = 4.01, C = 2.053736e-02\n",
      "I(h) = 0.4636476102217171, err(h) = 1.221573e-09, p* = 4.00, C = 2.049459e-02\n",
      "I(h) = 0.4636476090771032, err(h) = 7.630759e-11, p* = 4.00, C = 2.048366e-02\n",
      "I(h) = 0.4636476090055746, err(h) = 4.768578e-12, p* = 4.00, C = 2.048089e-02\n",
      "I(h) = 0.4636476090011042, err(h) = 2.980246e-13, p* = 4.00, C = 2.048009e-02\n"
     ]
    },
    {
     "data": {
      "text/plain": [
       "2.9809488211185453e-13"
      ]
     },
     "execution_count": 22,
     "metadata": {},
     "output_type": "execute_result"
    }
   ],
   "source": [
    "def f(x): return 1 / (1 + x**2)\n",
    "a = 0; b = 0.5; exact = np.arctan(b)\n",
    "\n",
    "runge_checks(f, a, b) - exact"
   ]
  }
 ],
 "metadata": {
  "anaconda-cloud": {},
  "celltoolbar": "Slideshow",
  "kernelspec": {
   "display_name": "Python 3 (ipykernel)",
   "language": "python",
   "name": "python3"
  },
  "language_info": {
   "codemirror_mode": {
    "name": "ipython",
    "version": 3
   },
   "file_extension": ".py",
   "mimetype": "text/x-python",
   "name": "python",
   "nbconvert_exporter": "python",
   "pygments_lexer": "ipython3",
   "version": "3.9.7"
  },
  "livereveal": {
   "theme": "beige",
   "transition": "none"
  },
  "nbpresent": {
   "slides": {
    "1ffee25c-251f-4cbf-af3d-a1d5521081b9": {
     "id": "1ffee25c-251f-4cbf-af3d-a1d5521081b9",
     "prev": "eb43fa9f-eb7c-417b-ab1a-99371ff452e2",
     "regions": {
      "2e1a7b46-c253-4096-a0a5-dfbc6cfb086e": {
       "attrs": {
        "height": 0.8,
        "width": 0.8,
        "x": 0.1,
        "y": 0.1
       },
       "content": {
        "cell": "bf40e897-f1f8-4e69-b826-fe53fb761aad",
        "part": "whole"
       },
       "id": "2e1a7b46-c253-4096-a0a5-dfbc6cfb086e"
      }
     }
    },
    "37c43f64-6426-4a98-8de1-a6ca1dd72190": {
     "id": "37c43f64-6426-4a98-8de1-a6ca1dd72190",
     "prev": "d2b700ea-e44e-4bed-9ce4-ddf1532b44cb",
     "regions": {
      "45a20e24-b33f-4c55-8df2-e96075b5e2af": {
       "attrs": {
        "height": 0.8,
        "width": 0.8,
        "x": 0.1,
        "y": 0.1
       },
       "content": {
        "cell": "e730e690-97c9-4acd-bf81-4c5ab0bbd48e",
        "part": "whole"
       },
       "id": "45a20e24-b33f-4c55-8df2-e96075b5e2af"
      }
     }
    },
    "5bf0841a-23d1-413e-a557-911111e3e336": {
     "id": "5bf0841a-23d1-413e-a557-911111e3e336",
     "prev": "ebd3a807-2380-4bd6-8e58-c9424f3ed713",
     "regions": {
      "3c8adac9-5366-49e9-96ab-965c77e83485": {
       "attrs": {
        "height": 0.8,
        "width": 0.8,
        "x": 0.1,
        "y": 0.1
       },
       "content": {
        "cell": "2e08a439-2699-4ecf-9189-dfbbf745ad4e",
        "part": "whole"
       },
       "id": "3c8adac9-5366-49e9-96ab-965c77e83485"
      }
     }
    },
    "60ffd9bc-f20d-41e5-8771-5f11695177c6": {
     "id": "60ffd9bc-f20d-41e5-8771-5f11695177c6",
     "prev": "97575fe4-de27-4833-b616-7479f99519d0",
     "regions": {
      "807a955a-60c8-4f03-8734-54dfd52113d6": {
       "attrs": {
        "height": 0.8,
        "width": 0.8,
        "x": 0.1,
        "y": 0.1
       },
       "content": {
        "cell": "795c8121-f820-4edc-aeba-fc399b38f4b2",
        "part": "whole"
       },
       "id": "807a955a-60c8-4f03-8734-54dfd52113d6"
      }
     }
    },
    "623d8bc9-43df-451f-b862-76c2b54708ea": {
     "id": "623d8bc9-43df-451f-b862-76c2b54708ea",
     "prev": "eded54a5-7710-4ab6-8229-3ca4029d1ae7",
     "regions": {
      "42b1d4d4-2905-454b-b564-92f58dec8f81": {
       "attrs": {
        "height": 0.8,
        "width": 0.8,
        "x": 0.1,
        "y": 0.1
       },
       "content": {
        "cell": "16fd05b0-8ac8-4da2-8980-54d0d253d110",
        "part": "whole"
       },
       "id": "42b1d4d4-2905-454b-b564-92f58dec8f81"
      }
     }
    },
    "6dabcfe1-1c90-4893-8f01-c39e431f00bb": {
     "id": "6dabcfe1-1c90-4893-8f01-c39e431f00bb",
     "prev": "37c43f64-6426-4a98-8de1-a6ca1dd72190",
     "regions": {
      "1126b4c4-7df3-4db1-962b-abe099db9928": {
       "attrs": {
        "height": 0.8,
        "width": 0.8,
        "x": 0.1,
        "y": 0.1
       },
       "content": {
        "cell": "54519c05-1028-4e5c-a2d2-e21f821e99aa",
        "part": "whole"
       },
       "id": "1126b4c4-7df3-4db1-962b-abe099db9928"
      }
     }
    },
    "91753ba8-05fe-465f-806d-0faf4a21a031": {
     "id": "91753ba8-05fe-465f-806d-0faf4a21a031",
     "prev": "5bf0841a-23d1-413e-a557-911111e3e336",
     "regions": {
      "eb271beb-70d0-452e-b896-43695be4ae85": {
       "attrs": {
        "height": 0.8,
        "width": 0.8,
        "x": 0.1,
        "y": 0.1
       },
       "content": {
        "cell": "31cc3d04-22a5-4773-b4e1-abfb09f8bbc2",
        "part": "whole"
       },
       "id": "eb271beb-70d0-452e-b896-43695be4ae85"
      }
     }
    },
    "97575fe4-de27-4833-b616-7479f99519d0": {
     "id": "97575fe4-de27-4833-b616-7479f99519d0",
     "prev": "b8aebb38-1266-40c2-928a-026f9d33ec5c",
     "regions": {
      "01deb5d1-73e8-4d64-b93e-e7646647af3b": {
       "attrs": {
        "height": 0.8,
        "width": 0.8,
        "x": 0.1,
        "y": 0.1
       },
       "content": {
        "cell": "7f2bdffe-4f2a-446b-8805-d4fd262fced1",
        "part": "whole"
       },
       "id": "01deb5d1-73e8-4d64-b93e-e7646647af3b"
      }
     }
    },
    "9cc88d72-9ac9-4c24-96d5-abc94cea6e92": {
     "id": "9cc88d72-9ac9-4c24-96d5-abc94cea6e92",
     "prev": "1ffee25c-251f-4cbf-af3d-a1d5521081b9",
     "regions": {
      "78febecd-5100-493b-8f0d-0cc35ceae42e": {
       "attrs": {
        "height": 0.8,
        "width": 0.8,
        "x": 0.1,
        "y": 0.1
       },
       "content": {
        "cell": "bef00443-818c-4614-aa63-8a2e117462ec",
        "part": "whole"
       },
       "id": "78febecd-5100-493b-8f0d-0cc35ceae42e"
      }
     }
    },
    "a5df524d-67a8-4ae1-8258-9231728bdd14": {
     "id": "a5df524d-67a8-4ae1-8258-9231728bdd14",
     "prev": "623d8bc9-43df-451f-b862-76c2b54708ea",
     "regions": {
      "68e876ca-f943-4b2e-8268-439db992b310": {
       "attrs": {
        "height": 0.8,
        "width": 0.8,
        "x": 0.1,
        "y": 0.1
       },
       "content": {
        "cell": "40af6766-3ae3-4acc-8417-439eb8968553",
        "part": "whole"
       },
       "id": "68e876ca-f943-4b2e-8268-439db992b310"
      }
     }
    },
    "b62355d8-8b93-4dfc-8016-6548952c0f8c": {
     "id": "b62355d8-8b93-4dfc-8016-6548952c0f8c",
     "prev": "f59840cf-124e-4d10-8b89-3aafe98f38ba",
     "regions": {
      "381cc6bd-bde3-4d58-8277-99fbd69c7a4f": {
       "attrs": {
        "height": 0.8,
        "width": 0.8,
        "x": 0.1,
        "y": 0.1
       },
       "content": {
        "cell": "b92c1827-c799-44b9-b770-f45e95c917da",
        "part": "whole"
       },
       "id": "381cc6bd-bde3-4d58-8277-99fbd69c7a4f"
      }
     }
    },
    "b8aebb38-1266-40c2-928a-026f9d33ec5c": {
     "id": "b8aebb38-1266-40c2-928a-026f9d33ec5c",
     "prev": "9cc88d72-9ac9-4c24-96d5-abc94cea6e92",
     "regions": {
      "1bc2d24e-0782-443b-83a4-bc683c5ac6cb": {
       "attrs": {
        "height": 0.8,
        "width": 0.8,
        "x": 0.1,
        "y": 0.1
       },
       "content": {
        "cell": "cbb3d96a-fdd6-436e-86b6-1be446b43e84",
        "part": "whole"
       },
       "id": "1bc2d24e-0782-443b-83a4-bc683c5ac6cb"
      }
     }
    },
    "d2b700ea-e44e-4bed-9ce4-ddf1532b44cb": {
     "id": "d2b700ea-e44e-4bed-9ce4-ddf1532b44cb",
     "prev": "a5df524d-67a8-4ae1-8258-9231728bdd14",
     "regions": {
      "474bc80d-f262-4e62-afae-4565c0979e03": {
       "attrs": {
        "height": 0.8,
        "width": 0.8,
        "x": 0.1,
        "y": 0.1
       },
       "content": {
        "cell": "a67001a3-e51e-4a22-bdcd-249cde5581c1",
        "part": "whole"
       },
       "id": "474bc80d-f262-4e62-afae-4565c0979e03"
      }
     }
    },
    "d989978f-1d85-4802-953f-0e82f1a0fd51": {
     "id": "d989978f-1d85-4802-953f-0e82f1a0fd51",
     "prev": null,
     "regions": {
      "e3ddb97a-209b-4c70-91d7-df0cadcefb0d": {
       "attrs": {
        "height": 0.8,
        "width": 0.8,
        "x": 0.1,
        "y": 0.1
       },
       "content": {
        "cell": "13101ac1-2637-4d0f-9f1f-cd32215b02c3",
        "part": "whole"
       },
       "id": "e3ddb97a-209b-4c70-91d7-df0cadcefb0d"
      }
     }
    },
    "eb43fa9f-eb7c-417b-ab1a-99371ff452e2": {
     "id": "eb43fa9f-eb7c-417b-ab1a-99371ff452e2",
     "prev": "b62355d8-8b93-4dfc-8016-6548952c0f8c",
     "regions": {
      "b9415d21-f857-4a93-a788-c7dc51dedea0": {
       "attrs": {
        "height": 0.8,
        "width": 0.8,
        "x": 0.1,
        "y": 0.1
       },
       "content": {
        "cell": "e29b9590-fc86-46fd-83be-3ff48c7a8df4",
        "part": "whole"
       },
       "id": "b9415d21-f857-4a93-a788-c7dc51dedea0"
      }
     }
    },
    "ebd3a807-2380-4bd6-8e58-c9424f3ed713": {
     "id": "ebd3a807-2380-4bd6-8e58-c9424f3ed713",
     "prev": "f3fb61c6-f807-4942-8c41-0e80240a5146",
     "regions": {
      "7eaeb4e2-d47e-43e4-92c4-ed8cc1e9aac7": {
       "attrs": {
        "height": 0.8,
        "width": 0.8,
        "x": 0.1,
        "y": 0.1
       },
       "content": {
        "cell": "412353c7-42b2-42c7-8702-69568c809a97",
        "part": "whole"
       },
       "id": "7eaeb4e2-d47e-43e4-92c4-ed8cc1e9aac7"
      }
     }
    },
    "eded54a5-7710-4ab6-8229-3ca4029d1ae7": {
     "id": "eded54a5-7710-4ab6-8229-3ca4029d1ae7",
     "prev": "91753ba8-05fe-465f-806d-0faf4a21a031",
     "regions": {
      "816c3f73-4147-4cdb-b7d1-f5f82fa6003b": {
       "attrs": {
        "height": 0.8,
        "width": 0.8,
        "x": 0.1,
        "y": 0.1
       },
       "content": {
        "cell": "fa2d4b89-0d7a-41f1-8635-c5905d106cf3",
        "part": "whole"
       },
       "id": "816c3f73-4147-4cdb-b7d1-f5f82fa6003b"
      }
     }
    },
    "f3fb61c6-f807-4942-8c41-0e80240a5146": {
     "id": "f3fb61c6-f807-4942-8c41-0e80240a5146",
     "prev": "d989978f-1d85-4802-953f-0e82f1a0fd51",
     "regions": {
      "4f7abbfb-161b-44ce-bdab-05ef0b2a5542": {
       "attrs": {
        "height": 0.8,
        "width": 0.8,
        "x": 0.1,
        "y": 0.1
       },
       "content": {
        "cell": "8ce7bf3f-66e0-4462-a540-e87bceeadb7f",
        "part": "whole"
       },
       "id": "4f7abbfb-161b-44ce-bdab-05ef0b2a5542"
      }
     }
    },
    "f59840cf-124e-4d10-8b89-3aafe98f38ba": {
     "id": "f59840cf-124e-4d10-8b89-3aafe98f38ba",
     "prev": "6dabcfe1-1c90-4893-8f01-c39e431f00bb",
     "regions": {
      "e67fa4b9-f237-40ff-8621-fcdbfdd83101": {
       "attrs": {
        "height": 0.8,
        "width": 0.8,
        "x": 0.1,
        "y": 0.1
       },
       "content": {
        "cell": "4ae9a30c-81bc-4396-90d8-939a8e59f287",
        "part": "whole"
       },
       "id": "e67fa4b9-f237-40ff-8621-fcdbfdd83101"
      }
     }
    }
   },
   "themes": {
    "default": "c04eebe0-c348-41e9-bcfb-a65d4bd126df",
    "theme": {
     "c04eebe0-c348-41e9-bcfb-a65d4bd126df": {
      "id": "c04eebe0-c348-41e9-bcfb-a65d4bd126df",
      "palette": {
       "19cc588f-0593-49c9-9f4b-e4d7cc113b1c": {
        "id": "19cc588f-0593-49c9-9f4b-e4d7cc113b1c",
        "rgb": [
         252,
         252,
         252
        ]
       },
       "31af15d2-7e15-44c5-ab5e-e04b16a89eff": {
        "id": "31af15d2-7e15-44c5-ab5e-e04b16a89eff",
        "rgb": [
         68,
         68,
         68
        ]
       },
       "50f92c45-a630-455b-aec3-788680ec7410": {
        "id": "50f92c45-a630-455b-aec3-788680ec7410",
        "rgb": [
         155,
         177,
         192
        ]
       },
       "c5cc3653-2ee1-402a-aba2-7caae1da4f6c": {
        "id": "c5cc3653-2ee1-402a-aba2-7caae1da4f6c",
        "rgb": [
         43,
         126,
         184
        ]
       },
       "efa7f048-9acb-414c-8b04-a26811511a21": {
        "id": "efa7f048-9acb-414c-8b04-a26811511a21",
        "rgb": [
         25.118061674008803,
         73.60176211453744,
         107.4819383259912
        ]
       }
      },
      "rules": {
       "blockquote": {
        "color": "50f92c45-a630-455b-aec3-788680ec7410"
       },
       "code": {
        "font-family": "Anonymous Pro"
       },
       "h1": {
        "color": "c5cc3653-2ee1-402a-aba2-7caae1da4f6c",
        "font-family": "Lato",
        "font-size": 8
       },
       "h2": {
        "color": "c5cc3653-2ee1-402a-aba2-7caae1da4f6c",
        "font-family": "Lato",
        "font-size": 6
       },
       "h3": {
        "color": "50f92c45-a630-455b-aec3-788680ec7410",
        "font-family": "Lato",
        "font-size": 5.5
       },
       "h4": {
        "color": "c5cc3653-2ee1-402a-aba2-7caae1da4f6c",
        "font-family": "Lato",
        "font-size": 5
       },
       "h5": {
        "font-family": "Lato"
       },
       "h6": {
        "font-family": "Lato"
       },
       "h7": {
        "font-family": "Lato"
       },
       "pre": {
        "font-family": "Anonymous Pro",
        "font-size": 4
       }
      },
      "text-base": {
       "font-family": "Merriweather",
       "font-size": 4
      }
     },
     "f0b95bb9-67a7-4d14-bf09-657a5b556dbe": {
      "id": "f0b95bb9-67a7-4d14-bf09-657a5b556dbe",
      "palette": {
       "19cc588f-0593-49c9-9f4b-e4d7cc113b1c": {
        "id": "19cc588f-0593-49c9-9f4b-e4d7cc113b1c",
        "rgb": [
         252,
         252,
         252
        ]
       },
       "31af15d2-7e15-44c5-ab5e-e04b16a89eff": {
        "id": "31af15d2-7e15-44c5-ab5e-e04b16a89eff",
        "rgb": [
         68,
         68,
         68
        ]
       },
       "50f92c45-a630-455b-aec3-788680ec7410": {
        "id": "50f92c45-a630-455b-aec3-788680ec7410",
        "rgb": [
         155,
         177,
         192
        ]
       },
       "c5cc3653-2ee1-402a-aba2-7caae1da4f6c": {
        "id": "c5cc3653-2ee1-402a-aba2-7caae1da4f6c",
        "rgb": [
         43,
         126,
         184
        ]
       },
       "efa7f048-9acb-414c-8b04-a26811511a21": {
        "id": "efa7f048-9acb-414c-8b04-a26811511a21",
        "rgb": [
         25.118061674008803,
         73.60176211453744,
         107.4819383259912
        ]
       }
      },
      "rules": {
       "blockquote": {
        "color": "50f92c45-a630-455b-aec3-788680ec7410"
       },
       "code": {
        "font-family": "Anonymous Pro"
       },
       "h1": {
        "color": "c5cc3653-2ee1-402a-aba2-7caae1da4f6c",
        "font-family": "Lato",
        "font-size": 8
       },
       "h2": {
        "color": "c5cc3653-2ee1-402a-aba2-7caae1da4f6c",
        "font-family": "Lato",
        "font-size": 6
       },
       "h3": {
        "color": "50f92c45-a630-455b-aec3-788680ec7410",
        "font-family": "Lato",
        "font-size": 5.5
       },
       "h4": {
        "color": "c5cc3653-2ee1-402a-aba2-7caae1da4f6c",
        "font-family": "Lato",
        "font-size": 5
       },
       "h5": {
        "font-family": "Lato"
       },
       "h6": {
        "font-family": "Lato"
       },
       "h7": {
        "font-family": "Lato"
       },
       "pre": {
        "font-family": "Anonymous Pro",
        "font-size": 4
       }
      },
      "text-base": {
       "font-family": "Merriweather",
       "font-size": 4
      }
     }
    }
   }
  }
 },
 "nbformat": 4,
 "nbformat_minor": 1
}

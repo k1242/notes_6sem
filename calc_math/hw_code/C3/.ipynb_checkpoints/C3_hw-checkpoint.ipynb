{
 "cells": [
  {
   "cell_type": "code",
   "execution_count": 39,
   "metadata": {},
   "outputs": [],
   "source": [
    "import matplotlib.pyplot as plt"
   ]
  },
  {
   "cell_type": "markdown",
   "metadata": {
    "id": "lox4P7tuKGLK"
   },
   "source": [
    "# Квадратурные формулы Ньютона-Котеса."
   ]
  },
  {
   "cell_type": "markdown",
   "metadata": {
    "id": "WOzRaKoIKK_d"
   },
   "source": [
    "Пусть некоторая функция $f(x)$ задана в узлах интерполяции $x_{i}=x_{0}+i h(i=1,2, \\ldots, n)$ на отрезке $[a, b]$ таблицей своих значений:\n",
    "\n",
    "\\begin{array}{c|c|c|c|c}\n",
    "x_{0}=a & x_{1} & x_{2} & \\ldots & x_{n}=b \\\\\n",
    "\\hline y_{0}=f\\left(x_{0}\\right) & y_{1}=f\\left(x_{1}\\right) & y_{2}=f\\left(x_{2}\\right) & \\ldots & y_{n}=f\\left(x_{n}\\right)\n",
    "\\end{array} \n",
    "\n",
    "По заданным значениям подынтегральной терполяционный многочлен Лагранжа. Для равноотстояших узлов интерноляционный многочлен Лагранжа. Для равноотстоящих узлов интерполяционный многочлен Лагранжа имеет вид  \n",
    "\n",
    "$\n",
    "L_{n}(x)=\\sum_{i=0}^{n} \\frac{(-1)^{n-1}}{i !(n-i) !} \\frac{q(q-1) \\ldots(q-n)}{q-1} y_{i}  \n",
    "$\n",
    "\n",
    "$\n",
    "\\text { где } q=\\frac{x-x_{0}}{h}-\\text { шаг интерполяции. } \n",
    "$"
   ]
  },
  {
   "cell_type": "markdown",
   "metadata": {
    "id": "c-P2H8WFLqc0"
   },
   "source": [
    "Заменим подынтегральную функцию $f(x)$ интерполяционным многочленом Лагранжа, тогда\n",
    "$$\n",
    "\\int_{a}^{b} f(x) d x \\approx \\int_{x_{i}}^{x_{n}}\\left[\\sum_{i=0}^{n} \\frac{(-1) n-1}{i !(n-i) !} \\frac{q(q-1) \\ldots(q-n)}{q-i} y_{i}\\right] d x .\n",
    "$$\n",
    "Поменяем местами знак суммирования и интеграл и вынесем за знак интеграла постоянные коэффициенты:\n",
    "$$\n",
    "\\int_{a}^{b} f(x) d x \\approx \\sum_{i=0}^{n} y_{i} \\frac{(-1)^{n-1}}{i !(n-i) !} \\int_{x_{0}}^{x_{n}} \\frac{q(q-1) \\ldots(q-n)}{q-i} d x .\n",
    "$$\n",
    "Поскольку $d q=\\frac{d x}{h}$ и $h=\\frac{b-a}{n}$, то, заменив пределы интегрирования, получим\n",
    "$$\n",
    "\\begin{gathered}\n",
    "\\int_{a}^{b} f(x) d x \\approx(b-a) \\times \\\\\n",
    "\\times \\sum_{i=0}^{n} y_{i} \\frac{(-1)^{n-i}}{i !(n-i) !} \\frac{1}{n} \\int_{0}^{n} q(q-1) \\ldots(q-i+1)(q-i-1) \\ldots(q-n) d q .\n",
    "\\end{gathered}\n",
    "$$\n",
    "\n",
    "Положим\n",
    "\n",
    "$$\n",
    "H_{i}=\\frac{(-1)^{n-i}}{i !(n-i) !} \\frac{1}{n} \\int_{0}^{n} q(q-1) \\ldots(q-i+1)(q-i-1) \\ldots(q-n) d q\n",
    "$$\n",
    "\n",
    "где $i=0,1,2, \\ldots, n$.  "
   ]
  },
  {
   "cell_type": "markdown",
   "metadata": {
    "id": "WO1COI4KL_Rk"
   },
   "source": [
    "Числа $H_{i}$ называются коэффициентами Ньютона - Котеса. Они не зависят от вида функции $f(x)$ и являются функцией только $n$ (количества узлов интерполирования). Коэффициенты Ньютона - Котеса можно вычислить заранее для различного числа узлов интерполирования и свести в табл. 4.1.\n",
    "Окончательный вид формулы Ньютон - Котеса:\n",
    "$$\n",
    "\\int_{a}^{b} f(x) d x \\approx(b-a) \\sum_{i=0}^{n} y_{i} H_{i}\n",
    "$$  "
   ]
  },
  {
   "cell_type": "markdown",
   "metadata": {
    "id": "Uc9TEOfUMMI7"
   },
   "source": [
    "\\begin{array}{|c|c|}\n",
    "\\hline n=1 & H_{0}=H_{1}=\\frac{1}{2} \\\\\n",
    "\\hline n=2 & H_{0}=H_{2}=\\frac{1}{6}, H_{1}=\\frac{2}{3} \\\\\n",
    "\\hline n=3 & H_{0}=H_{3}=\\frac{1}{8}, H_{1}=H_{2}=\\frac{3}{8} \\\\\n",
    "\\hline n=4 & H_{0}=H_{4}=\\frac{7}{90}, H_{1}=H_{3}=\\frac{16}{45}, H_{2}=\\frac{2}{15} \\\\\n",
    "\\hline n=5 & H_{0}=H_{5}=\\frac{19}{288}, H_{1}=H_{4}=\\frac{25}{96}, H_{2}=H_{3}=\\frac{25}{144} \\\\\n",
    "\\hline n=6 & H_{0}=H_{6}=\\frac{41}{840}, H_{1}=H_{5}=\\frac{9}{35}, H_{2}=H_{4}=\\frac{9}{280}, H_{3}=\\frac{34}{105} \\\\\n",
    "\\hline n=7 & H_{0}=H_{7}=\\frac{751}{17280}, H_{1}=H_{6}=\\frac{3577}{17280}, H_{2}=H_{5}=\\frac{1323}{17280}, H_{3}=H_{4}=\\frac{2989}{17280} \\\\\n",
    "\\hline\n",
    "\\end{array}   "
   ]
  },
  {
   "cell_type": "markdown",
   "metadata": {
    "id": "zgQQjeH7LfNm"
   },
   "source": []
  },
  {
   "cell_type": "markdown",
   "metadata": {
    "id": "w4ZXuthBMfvz"
   },
   "source": [
    "# Квадратурная формула Чебышева."
   ]
  },
  {
   "cell_type": "markdown",
   "metadata": {
    "id": "wzs3CDjyMleU"
   },
   "source": [
    "П. Л. Чебышев предложил для вычисления определенных интегралов воспользоваться формулой\n",
    "$$\n",
    "\\int_{a}^{b} f(x) d x \\approx(b-a) \\sum_{i=0}^{n} c_{i} f\\left(x_{i}\\right),\n",
    "$$\n",
    "в которой квадратурные коэффициенты $c_{i}(i=1,2, \\ldots, n)$ фиксированы, а абсциссы $x_{i}(i=1,2, \\ldots, n)$ нужно определить.\n",
    "\n",
    "Для упрощения вычислений выберем $c_{1}=c_{2}=\\ldots=c_{n}$ и будем интегрировать на отрезке $[-1,1] .$ Тогда формула примет вид \n",
    "$$\n",
    "\\int_{-1}^{1} f(x) d x= {2*c}\\left[f\\left(x_{1}\\right)+f\\left(x_{2}\\right)+\\ldots+f\\left(x_{n}\\right)\\right]  \n",
    "$$\n",
    "\n",
    "Коэффициент и узлы определим из условия, что это равенство является точным для случая, когда $f(x)-$ многочлен вида\n",
    "\n",
    "$$\n",
    "f(x)=a_{0}+a_{1} x+a_{2} x^{2}+a_{3} x^{3}+\\ldots+a_{n} x^{n}\n",
    "$$  \n",
    "\n",
    "Подставим этот многочлен и проинтегрируем. В результате получим\n",
    "\n",
    "$$\n",
    "\\int_{-1}^{1}\\left(a_{0}+a_{1} x+a_{2} x^{2}+a_{3} x^{3}+\\ldots+a_{n} x^{n}\\right) d x=2\\left(a_{0}+\\frac{a_{2}}{3}+\\frac{a_{4}}{5}+\\ldots\\right) .\n",
    "$$\n",
    "\n",
    "Далее\n",
    "\n",
    "\n",
    "$f\\left(x_{1}\\right)=a_{0}+a_{1} x_{1}+a_{2} x_{1}^{2}+\\ldots+a_{n} x_{1}^{n}$,\n",
    "$f\\left(x_{2}\\right)=a_{0}+a_{1} x_{2}+a_{2} x_{2}^{2}+\\ldots+a_{n} x_{2}^{n}$,\n",
    "$f\\left(x_{3}\\right)=a_{0}+a_{1} x_{3}+a_{2} x_{3}^{2}+\\ldots+a_{n} x_{n}^{n}$,\n",
    "$f\\left(x_{n}\\right)=a_{0}+a_{1} x_{n}+a_{2} x_{n}^{2}+\\ldots+a_{n} x_{n}^{n} .$\n",
    "\n",
    "\n",
    "Тогда равенство  примет вид\n",
    "\n",
    "$$\n",
    "\\begin{gathered}\n",
    "2\\left(a_{0}+\\frac{a_{2}}{3}+\\frac{a_{4}}{5}+\\ldots\\right)=2 c_{n}\\left[n a_{0}+a_{1}\\left(x_{1}+x_{2}+\\ldots+x_{n}\\right)+\\right. \\\\\n",
    "+a_{2}\\left(x_{1}^{2}+x_{2}^{2}+\\ldots+x_{n}^{2}\\right)+a_{3}\\left(x_{1}^{3}+x_{2}^{3}+\\ldots+x_{n}^{3}\\right)+\\ldots \\\\\n",
    "\\left.\\ldots+a_{n}\\left(x_{1}^{n}+x_{2}^{n}+\\ldots+x_{n}^{n}\\right)\\right] .\n",
    "\\end{gathered}\n",
    "$$   \n",
    "\n",
    "\n",
    "\n"
   ]
  },
  {
   "cell_type": "markdown",
   "metadata": {
    "id": "hEq-9YedOSG1"
   },
   "source": [
    "Полученное равенство должно выполняться при любых значениях $a_{0}, a_{1}, \\ldots, a_{n} .$ Поэтому из сравнения коэффициентов $a_{i}$ в правой и левой частях соотношения (4) находим, что $n c_{n}=1$, откуда\n",
    "$$\n",
    "c_{n}=\\frac{1}{n}\n",
    "$$\n",
    "и, кроме того,\n",
    "$$\n",
    "\\left\\{\\begin{array}{c}\n",
    "x_{1}+x_{2}+x_{3}+\\ldots x_{n}=0 \\\\\n",
    "x_{1}^{2}+x_{2}^{2}+x_{3}^{2}+\\ldots+x_{n}^{2}=\\frac{n}{3} \\\\\n",
    "x_{1}^{3}+x_{2}^{3}+x_{3}^{3}+\\ldots+x_{n}^{3}=0 \\\\\n",
    "x_{1}^{4}+x_{2}^{4}+x_{3}^{4}+\\ldots+x_{n}^{4}=\\frac{n}{5} \\\\\n",
    "\\left.\\cdot \\cdot \\cdot \\cdot \\cdot \\cdot \\cdot \\cdot \\cdot \\cdot \\cdot \\cdot \\cdot \\cdot \\cdot \\cdot \\cdot \\cdot \\cdot \\cdot \\cdot \\cdot(-1)^{n+1}\\right] \\\\\n",
    "x_{1}^{n}+x_{2}^{n}+x_{3}^{n}+\\ldots+x_{n}^{n}=\\frac{n\\left[1-(-1)^{n+1}\\right]}{2(n+1)}\n",
    "\\end{array}\\right.\n",
    "$$  \n",
    "\n",
    "Подставляя найденное выражение $c_{n}$, получим формулу Чебышева:\n",
    "\n",
    "$$\n",
    "\\int_{-1}^{1} f(x) d x \\approx \\frac{2}{n}\\left[f\\left(x_{1}\\right)+f\\left(x_{2}\\right)+\\ldots f\\left(x_{n}\\right)\\right]\n",
    "$$\n",
    "\n",
    "где точки $x_{1}, x_{2}, \\ldots, x_{n}$ определяются из системы уравнений.   \n",
    "\n"
   ]
  },
  {
   "cell_type": "markdown",
   "metadata": {
    "id": "u1TUYDoOPJp9"
   },
   "source": [
    "# Квадратурная формула Гаусса."
   ]
  },
  {
   "cell_type": "markdown",
   "metadata": {
    "id": "tm1tyq06PMUl"
   },
   "source": [
    "В формулах численного интегрирования Ньютона-Котеса используются равноотстоящие узлы. В случае квадратурных формул Гаусса узлы интегрирования $x_{i}$ на отрезке $\\left[x_{j-1}, x_{j}\\right]$ располагаются не равномерно, а выбираются таким образом, чтобы при наименьшем возможном числе узлов точно интегрировать многочлены наивысшей возможной степени.\n",
    "\n",
    "$$\n",
    "\\int_{a}^{b} f(x) \\cdot d x \\approx \\frac{b-a}{2 N} \\sum_{j=1}^{N} \\sum_{i=0}^{n} c_{i n} \\cdot f\\left(x_{i}\\right)\n",
    "$$\n",
    "\n",
    "Узлы $x_{i}$ являются корнями полинома Лежандра степени $n$, а веса вычисляются интегрированием полиномов Лежандра по формуле $a_{i}=\\frac{2}{\\left(1-x_{i}^{2}\\right)\\left[P_{n}^{\\prime}\\left(x_{i}\\right)\\right]^{2}}$, где $P_{n}^{\\prime}-$ первая производная полинома Лежандра.  \n",
    "\n"
   ]
  },
  {
   "cell_type": "markdown",
   "metadata": {
    "id": "AFW0C7GaP1g0"
   },
   "source": [
    "\\begin{aligned}\n",
    "&\\text { Таблица 2.2: Весовые коэффициенты и значения аргумента. }\\\\\n",
    "&\\begin{array}{cccc}\n",
    "\\hline \\begin{array}{c}\n",
    "\\text { Число точек } n \\\\\n",
    "\\text { в квадратуре }\n",
    "\\end{array} & \\begin{array}{c}\n",
    "\\text { Весовые } \\\\\n",
    "\\text { коэффициенты }\n",
    "\\end{array} & \\begin{array}{c}\n",
    "\\text { Значения } \\\\\n",
    "\\text { аргумента }\n",
    "\\end{array} & \\begin{array}{c}\n",
    "\\text { Погрешность } \\\\\n",
    "\\text { аппроксимации }\n",
    "\\end{array} \\\\\n",
    "\\hline 2 & w_{0}=1,000000000 & x_{0}=-0,577350269 & \\sim f^{(4)}(x) \\\\\n",
    "& w_{1}=1,000000000 & x_{1}=+0,577350269 & \\\\\n",
    "3 & w_{0}=0,555555556 & x_{0}=-0,774596669 & \\sim f^{(6)}(x) \\\\\n",
    "& w_{1}=0,888888889 & x_{1}=+0,000000000 & \\\\\n",
    "& w_{2}=0,555555556 & x_{2}=+0,774596669 & \\\\\n",
    "4 & w_{0}=0,347854845 & x_{0}=-0,861136312 & \\sim f^{(8)}(x) \\\\\n",
    "& w_{1}=0,652145155 & x_{1}=-0,339981044 & \\\\\n",
    "& w_{2}=0,652145155 & x_{2}=+0,339981044 & \\\\\n",
    "& w_{3}=0,347854845 & x_{3}=+0,861136312 & \\\\\n",
    "5 & w_{0}=0,236926885 & x_{0}=-0,906179846 & \\sim f^{(10)}(x) \\\\\n",
    "& w_{1}=0,478628670 & x_{1}=-0,538469310 & \\\\\n",
    "& w_{2}=0,568888889 & x_{2}=+0,000000000 & \\\\\n",
    "& w_{3}=0,478628670 & x_{3}=+0,538469310 & \\\\\n",
    "& w_{4}=0,236926885 & x_{4}=+0,906179846 & \\\\\n",
    "6 & w_{0}=0,171324492 & x_{0}=-0,932469514 & \\sim f^{(12)}(x) \\\\\n",
    "& w_{1}=0,360761573 & x_{1}=-0,661209386 & \\\\\n",
    "& w_{2}=0,467913935 & x_{2}=-0,238619186 & \\\\\n",
    "& w_{3}=0,467913935 & x_{3}=+0,238619186 & \\\\\n",
    "& w_{4}=0,360761573 & x_{4}=+0,661209386 & \\\\\n",
    "& w_{5}=0,171324492 & x_{5}=+0,932469514 & \\\\\n",
    "\\hline\n",
    "\\end{array}\n",
    "\\end{aligned}  \n",
    "\n"
   ]
  },
  {
   "cell_type": "markdown",
   "metadata": {
    "id": "zfFOQGhNQx-u"
   },
   "source": [
    "# Интегралы с особенностями."
   ]
  },
  {
   "cell_type": "markdown",
   "metadata": {
    "id": "vz_4uK1jQ0cs"
   },
   "source": [
    "Қак применять приведенные выше формулы для вычисления определенных интегралов с особенностями? Например, в случае, когда требуется вычислить интеграл\n",
    "\n",
    "$$\n",
    "\\int_{0}^{1} \\frac{f(x)}{\\sqrt{x}} d x\n",
    "$$\n",
    "\n",
    "где $f(x)$ - гладкая на интервале интегрирования функция. Подынтегральная функция стремится к бесконечности при $x \\rightarrow \\infty$ и прямое применение вышеприведенных методов вычисления интеграла, как правило, невозможно.\n",
    "В этом случае можно выделить особенность в нуле при помощи простого преобразования\n",
    "\n",
    "$$\n",
    "\\int_{0}^{1} \\frac{f(x)}{\\sqrt{x}} d x=\\int_{0}^{1} \\frac{f(x)-\\varphi(x)}{\\sqrt{x}} d x+\\int_{0}^{1} \\frac{\\varphi(x)}{\\sqrt{x}} d x\n",
    "$$\n",
    "\n",
    "где функция $\\varphi(x)$ выбирается так, чтобы первый интеграл в правой части не содержал особенности, а второй - вычислялся аналитически. Это справедливо, например, если в качестве $\\varphi(x)$ взять отрезок разложения функции $f(x)$ в ряд Тейлора в точке $x=0 .$ Тогда\n",
    "\n",
    "$$\n",
    "\\int_{0}^{1} \\frac{f(x)-f(0)-x f^{\\prime}(0)}{\\sqrt{(} x)} d x+f(0) \\int_{0}^{1} \\frac{1}{\\sqrt{x}} d x+f^{\\prime}(0) \\int_{0}^{1} \\sqrt{x} d x .\n",
    "$$  \n",
    "\n",
    "Пример. Для $f(x)=\\cos x$ вычисление интеграла $(2.9)$ сводится к вычислению\n",
    "\n",
    "$$\n",
    "\\int_{0}^{1} \\frac{\\cos x}{\\sqrt{x}} d x=\\int_{0}^{1}(\\cos x-1) x^{-1 / 2} d x+\\int_{0}^{1} x^{-1 / 2} d x\n",
    "$$\n",
    "\n",
    "Второе слагаемое справа равно 2, а первое можно вычислить с помощью, например формулы Симпсона, которая дает значение $\\approx 1,80905$ \n",
    "\n",
    "\n"
   ]
  },
  {
   "cell_type": "markdown",
   "metadata": {
    "id": "pJ9O_GkUSBnv"
   },
   "source": [
    "# Несобственные интегралы с внутренней особенностью."
   ]
  },
  {
   "cell_type": "markdown",
   "metadata": {
    "id": "eF5JAfKvSGJs"
   },
   "source": [
    "Если особая точка $C \\in[a, b]$, то используем простой приём, основанный на определении несобственного интеграла. Для этого интеграл представляют в виде: \n",
    "\n",
    "$\\int_{a}^{b} f(x) d x=\\int_{a}^{C-\\delta_{1}} f(x) d x+\\int_{C+\\delta_{2}}^{b} f(x) d x+\\int_{C-\\delta_{1}}^{C+\\delta_{2}} f(x) d x$,\n",
    "\n",
    "$$\n",
    "\\int_{a}^{b} f(x) d x=\\int_{a}^{C-\\delta_{1}} f(x) d x+\\int_{C+\\delta_{2}}^{b} f(x) d x+\\int_{C-\\delta_{1}}^{C+\\delta_{2}} f(x) d x\n",
    "$$\n",
    "\n",
    "\n",
    "причем $\\delta_{1}, \\delta_{2}$ выбирают столь малыми, чтобы в пределах заданной точности интеграл $\\rho=\\int_{C-\\delta_{1}}^{C+\\delta_{2}} f(x) d x$ не влиял бы на результат. \n",
    "\n",
    "Если вычисляется сходящийся несобственный интеграл 1-го рода \n",
    "\n",
    "$\\int_{a}^{\\infty} f(x) d x$, \n",
    "\n",
    "то для его приближенного вычисления используем равенство \n",
    "\n",
    "$\\int_{a}^{\\infty} f(x) d x=\\int_{a}^{B} f(x) d x+\\int_{B}^{\\infty} f(x) d x .$ \n",
    "\n",
    "Причем число $B$ берут настолько большим, чтобы в пределах заданной точности интеграл $\\int_{B}^{\\infty} f(x) d x$ не влиял бы на результат. Далее последний интеграл вычисляют по какой-либо квадратурной формуле с нужной точностью.  \n",
    "\n",
    "\n"
   ]
  },
  {
   "cell_type": "markdown",
   "metadata": {
    "id": "MxsIVZYxUnKm"
   },
   "source": [
    "# Интегралы от быстроосциллирующих функций."
   ]
  },
  {
   "cell_type": "markdown",
   "metadata": {
    "id": "JxweMCcMUqw1"
   },
   "source": [
    "Вычисление интегралов от быстроосциллирующих функций встречается в задачах физики очень часто. Можно конечно вычислять интегралы от быстроосциллирующих функций, напрямую используя рассмотренные выше формулы, однако, это зачастую требует очень больших вычислительных затрат, поскольку шаг интегрирования нужно брать по крайней мере в несколько раз меньше периода осцилляций. Кроме того, вычисления должны проводиться с достаточной точностью, а при интегрировании осциллирующей функции происходит быстрая потеря точности из-за суммирования близких величин с противоположными знаками (интегралы от отдельных полупериодов ). Поэтому на практике используется другой прием.\n",
    "\n",
    "Пример.Рассмотрим вычисление интеграла\n",
    "\n",
    "$$\n",
    "\\int_{0}^{\\pi} f(x) \\sin k x d x\n",
    "$$\n",
    "\n",
    "где $k$ - большое число, например, 1000 . Аппроксимируем гладкую функцию $f(x)$ другой гладкой функцией $\\varphi(x)$, для которой интеграл (2.10) вычисляется аналитически. Тогда задача вычисления интеграла от $f(x) \\sin k x$ сводится к вычислению\n",
    "\n",
    "$$\n",
    "\\int_{0}^{\\pi} f(x) \\sin k x=\\int_{0}^{\\pi} \\varphi(x) \\sin k x d x+\\int_{0}^{\\pi}[f(x)-\\varphi(x)] \\sin k x d x\n",
    "$$\n",
    "\n",
    "Если в качестве $\\varphi(x)$ взять разложение $f(x)$ в ряд Тейлора, то второе слагаемое справа, как правило, мало и им можно пренебречь  "
   ]
  },
  {
   "cell_type": "markdown",
   "metadata": {
    "deletable": false,
    "editable": false,
    "id": "uQ9d5N68Be69",
    "nbgrader": {
     "cell_type": "markdown",
     "checksum": "76725925c1c2a3fda23efe2691cfa949",
     "grade": false,
     "grade_id": "cell-4d48d7afa1c0c5b4",
     "locked": true,
     "schema_version": 3,
     "solution": false,
     "task": false
    }
   },
   "source": [
    "# Вычисление определенных интегралов (задачи)."
   ]
  },
  {
   "cell_type": "code",
   "execution_count": 1,
   "metadata": {
    "id": "Dg3b_sc_sgoR"
   },
   "outputs": [],
   "source": [
    "import numpy as np\n",
    "import scipy as sp\n",
    "import math"
   ]
  },
  {
   "cell_type": "markdown",
   "metadata": {
    "deletable": false,
    "editable": false,
    "id": "JVoAo0zQBe6-",
    "nbgrader": {
     "cell_type": "markdown",
     "checksum": "9a9c3cddcc11d2a8cc7f46935462ad6d",
     "grade": false,
     "grade_id": "cell-fc379192341494d5",
     "locked": true,
     "schema_version": 3,
     "solution": false,
     "task": false
    }
   },
   "source": [
    "## Задание 1. Двухточечная квадратура Гаусса.\n"
   ]
  },
  {
   "cell_type": "markdown",
   "metadata": {
    "id": "EO3Sh_bfCNNb"
   },
   "source": [
    "Постройте квадратурную формулу Гаусса, интегрирующую точно многочлены степеней вплоть до третьей на интервале $[a, b]$. Заметим, что для этого достаточно построить _двухточечную_ квадратуру.\n",
    "\n",
    "Напишите функцию, которая возвращает веса, $w_1$ и $w_2$, и узлы, $x_1$ и $x_2$, двухточечной квадратурной формулы Гаусса с весовой функцией $w(x) = 1$, т.е., интегралы вида\n",
    "\n",
    "$$\n",
    "\\int_a^b\\! f(x)\\, dx \\approx w_1 f(x_1) + w_2 f(x_2)\n",
    "$$"
   ]
  },
  {
   "cell_type": "code",
   "execution_count": 14,
   "metadata": {
    "deletable": false,
    "id": "2hDGnq8xBe6-",
    "nbgrader": {
     "cell_type": "code",
     "checksum": "904166366d67e67506e3087dd19ce395",
     "grade": false,
     "grade_id": "cell-cf3c018fa371396b",
     "locked": false,
     "schema_version": 3,
     "solution": true,
     "task": false
    }
   },
   "outputs": [],
   "source": [
    "def gauss_2(a, b):\n",
    "    return  (a + b) / 2 + (b - a) / (2 * 3**(1/2)),\\\n",
    "            (a + b) / 2 - (b - a) / (2 * 3**(1/2)),\\\n",
    "            (b - a) / 2,\\\n",
    "            (b - a) / 2"
   ]
  },
  {
   "cell_type": "code",
   "execution_count": 16,
   "metadata": {
    "deletable": false,
    "editable": false,
    "id": "Q_uTbOU3Be6_",
    "nbgrader": {
     "cell_type": "code",
     "checksum": "f5f7ba6f912752b91286d986fbb5bb7d",
     "grade": true,
     "grade_id": "cell-b6739a7f6045a9ec",
     "locked": true,
     "points": 10,
     "schema_version": 3,
     "solution": false,
     "task": false
    }
   },
   "outputs": [],
   "source": [
    "from numpy.testing import assert_allclose\n",
    "\n",
    "x1, x2, w1, w2 = gauss_2(0, 1)\n",
    "\n",
    "def f(x, n): \n",
    "    return x**n\n",
    "\n",
    "for n in [0, 1, 2, 3]:\n",
    "    assert_allclose(w1*f(x1, n=n) + w2*f(x2, n=n),\n",
    "                    1./(n+1), atol=1e-14)"
   ]
  },
  {
   "cell_type": "markdown",
   "metadata": {
    "deletable": false,
    "editable": false,
    "id": "ffXj--yFBe6_",
    "nbgrader": {
     "cell_type": "markdown",
     "checksum": "f0b361e7c3254cdb24248df735a6a6ef",
     "grade": false,
     "grade_id": "cell-08fc4ae6160d61c1",
     "locked": true,
     "schema_version": 3,
     "solution": false,
     "task": false
    }
   },
   "source": [
    "## Задание 2. Вычитание интегрируемых сингулярностей.\n",
    "\n"
   ]
  },
  {
   "cell_type": "markdown",
   "metadata": {
    "id": "CWD0MdaJCTfR"
   },
   "source": [
    "Вычислите определённый интеграл методом трапеций с вычитанием сингулярности\n",
    "\n",
    "$$\n",
    "I = \\int_{0}^{1}\\frac{e^x}{\\sqrt{x(1-x)}}dx.\n",
    "$$\n",
    "\n",
    "Вам могут пригодиться значения следующих определенных интегралов:\n",
    "\n",
    "$$\n",
    "\\int_0^1 \\frac{1}{\\sqrt{x (1-x)}} \\, dx=\\pi,\\quad \\int_0^1 \\frac{x}{\\sqrt{x (1-x)}} \\, dx=\\pi/2.\n",
    "$$"
   ]
  },
  {
   "cell_type": "markdown",
   "metadata": {
    "id": "9JQHAOQiBe7A"
   },
   "source": [
    "Преобразуйте данный интеграл, вычитая сингулярности. Выпишите расчетные формулы."
   ]
  },
  {
   "cell_type": "markdown",
   "metadata": {
    "deletable": false,
    "editable": false,
    "id": "mPFxQh-hBe7A",
    "nbgrader": {
     "cell_type": "markdown",
     "checksum": "85546100a8f30436f5555da4da442cca",
     "grade": false,
     "grade_id": "cell-6c554eec0b99fcb4",
     "locked": true,
     "schema_version": 3,
     "solution": false,
     "task": false
    }
   },
   "source": [
    "Cоставьте функцию, возвращающую значение интеграла методом трапеций."
   ]
  },
  {
   "cell_type": "code",
   "execution_count": 19,
   "metadata": {
    "id": "gB0WMAFHsMRE"
   },
   "outputs": [],
   "source": [
    "def F(x):\n",
    "    return math.exp(x) / (x * (1 - x))**(1/2) - 1 / (x)**(1/2) - math.exp(1) / (1 - x)**(1/2)"
   ]
  },
  {
   "cell_type": "code",
   "execution_count": 21,
   "metadata": {},
   "outputs": [],
   "source": [
    "I_true = 5.508429773886141 # спасибо WM "
   ]
  },
  {
   "cell_type": "code",
   "execution_count": 27,
   "metadata": {
    "deletable": false,
    "id": "6MzqUCZ1Be7B",
    "nbgrader": {
     "cell_type": "code",
     "checksum": "094424dc42e9c4d3807980eaea9631f0",
     "grade": false,
     "grade_id": "cell-7fb345ac8e79dced",
     "locked": false,
     "schema_version": 3,
     "solution": true,
     "task": false
    }
   },
   "outputs": [],
   "source": [
    "def integ(npts=10):\n",
    "    eps = 1 / npts\n",
    "    x1 = eps\n",
    "    x2 = eps + 1 / npts\n",
    "    res = 0\n",
    "    while (x2 < 1):\n",
    "        res = res + (F(x1) + F(x2)) / 2 / npts\n",
    "        x1 += 1 / npts\n",
    "        x2 += 1 / npts\n",
    "\n",
    "    return res + 2 + math.exp(1) * 2"
   ]
  },
  {
   "cell_type": "code",
   "execution_count": 32,
   "metadata": {
    "scrolled": true
   },
   "outputs": [
    {
     "name": "stdout",
     "output_type": "stream",
     "text": [
      "5.50843349207196\n",
      "5.508429773886141\n"
     ]
    }
   ],
   "source": [
    "print(integ(1e6))\n",
    "print(I_true)"
   ]
  },
  {
   "cell_type": "code",
   "execution_count": 41,
   "metadata": {},
   "outputs": [],
   "source": [
    "def GetErr(npts): return np.abs(integ(npts)-I_true)"
   ]
  },
  {
   "cell_type": "code",
   "execution_count": 42,
   "metadata": {
    "colab": {
     "base_uri": "https://localhost:8080/"
    },
    "deletable": false,
    "editable": false,
    "id": "rfvWJXcqBe7B",
    "nbgrader": {
     "cell_type": "code",
     "checksum": "283a17e09f6c1cf78c0d201c6bf884eb",
     "grade": true,
     "grade_id": "cell-e24dd8dc92f2c8bd",
     "locked": true,
     "points": 10,
     "schema_version": 3,
     "solution": false,
     "task": false
    },
    "outputId": "f4930e7e-af6d-47f7-a0a4-7b8ea9698ae7"
   },
   "outputs": [
    {
     "name": "stdout",
     "output_type": "stream",
     "text": [
      "5.512145947928563\n",
      "5.5087008310360766\n",
      "5.508456932134019\n"
     ]
    }
   ],
   "source": [
    "print(integ(1000))\n",
    "print(integ(10000))\n",
    "print(integ(100000))"
   ]
  },
  {
   "cell_type": "code",
   "execution_count": 45,
   "metadata": {},
   "outputs": [],
   "source": [
    "ns   =  [10**i for i in range(1, 8)]\n",
    "errs =  [GetErr(10**i) for i in range(1, 8)]"
   ]
  },
  {
   "cell_type": "code",
   "execution_count": 51,
   "metadata": {},
   "outputs": [
    {
     "data": {
      "image/png": "[encoded data removed]",
      "text/plain": [
       "<Figure size 900x600 with 1 Axes>"
      ]
     },
     "metadata": {
      "needs_background": "light"
     },
     "output_type": "display_data"
    }
   ],
   "source": [
    "plt.figure(dpi=150)\n",
    "plt.scatter(ns, errs, color=\"k\")\n",
    "plt.xscale('log')\n",
    "plt.yscale('log')\n",
    "plt.xlabel(\"Количество точек\")\n",
    "plt.ylabel(\"Ошибка\")\n",
    "plt.grid(alpha=0.5)\n",
    "plt.show()"
   ]
  },
  {
   "cell_type": "markdown",
   "metadata": {
    "deletable": false,
    "editable": false,
    "id": "wjos1wWPBe7B",
    "nbgrader": {
     "cell_type": "markdown",
     "checksum": "ba059a5eaf1c17a3aa3e98590a0a6f9b",
     "grade": false,
     "grade_id": "cell-70721ae1c137e72e",
     "locked": true,
     "schema_version": 3,
     "solution": false,
     "task": false
    }
   },
   "source": [
    "## Задание 3*. Интеграл от осциллирующей функции.\n",
    "\n"
   ]
  },
  {
   "cell_type": "markdown",
   "metadata": {
    "id": "h7w5pRivCZfx"
   },
   "source": [
    "Рассмотрим определенный интеграл\n",
    "\n",
    "$$\n",
    "I = \\int_0^\\infty\\! \\frac{\\sin(x) \\cos{(\\cos{(x)})}}{x}\\,dx\n",
    "$$\n",
    "\n",
    "Вычислите значение данного интеграла с относительной точностью $10^{-6}$. Для упрощения задачи можете воспользоваться функционалом `scipy.integrate.quad`.\n",
    "\n",
    "Заметим, что \"из коробки\" интеграл вычислить не удается, и нужно что-то придумать."
   ]
  },
  {
   "cell_type": "code",
   "execution_count": 84,
   "metadata": {},
   "outputs": [],
   "source": [
    "I_true = 1.186349923161555; # спасибо WM\n",
    "I15 = 1.2450723985545458;\n",
    "I30 = -0.04724105498255594;"
   ]
  },
  {
   "cell_type": "code",
   "execution_count": 79,
   "metadata": {
    "colab": {
     "base_uri": "https://localhost:8080/"
    },
    "deletable": false,
    "editable": false,
    "id": "8MXimck4Be7B",
    "nbgrader": {
     "cell_type": "code",
     "checksum": "11f9ea8995c2fc47c6518788c1e3a53b",
     "grade": false,
     "grade_id": "cell-515f8f19764eb256",
     "locked": true,
     "schema_version": 3,
     "solution": false,
     "task": false
    },
    "outputId": "9d71f695-13ab-443d-8531-4d59188088f5"
   },
   "outputs": [
    {
     "data": {
      "text/plain": [
       "(1.195274383967424, 1.4944704086485506e-08)"
      ]
     },
     "execution_count": 79,
     "metadata": {},
     "output_type": "execute_result"
    }
   ],
   "source": [
    "from math import sin, cos\n",
    "\n",
    "from scipy.integrate import quad\n",
    "quad(lambda x: sin(x) * cos(cos(x)) / x, 0, 20*2*math.pi)"
   ]
  },
  {
   "cell_type": "code",
   "execution_count": 83,
   "metadata": {},
   "outputs": [
    {
     "data": {
      "text/plain": [
       "7.244080890700388e-10"
      ]
     },
     "execution_count": 83,
     "metadata": {},
     "output_type": "execute_result"
    }
   ],
   "source": [
    "# проинтегрируем от 0 до 15\n",
    "f = lambda x: sin(x) * cos(cos(x)) / x\n",
    "ans15 = 0\n",
    "step = 0.1\n",
    "for i in range(150):\n",
    "    ans15 += quad(f, step * i, step * (i + 1))[0]\n",
    "ans15-I15"
   ]
  },
  {
   "cell_type": "code",
   "execution_count": 87,
   "metadata": {},
   "outputs": [
    {
     "data": {
      "text/plain": [
       "3.5738499659654366e-10"
      ]
     },
     "execution_count": 87,
     "metadata": {},
     "output_type": "execute_result"
    }
   ],
   "source": [
    "# проинтегрируем от 15 до 30\n",
    "f = lambda x: sin(x) * cos(cos(x)) / x\n",
    "ans30 = 0\n",
    "step = 0.1\n",
    "for i in range(150, 300):\n",
    "    ans30 += quad(f, step * i, step * (i + 1))[0]\n",
    "ans30-I30"
   ]
  },
  {
   "cell_type": "markdown",
   "metadata": {
    "deletable": false,
    "editable": false,
    "id": "pY63YRLWBe7C",
    "nbgrader": {
     "cell_type": "markdown",
     "checksum": "53e2ba2b52667aada8dc1a7f43391ef4",
     "grade": false,
     "grade_id": "cell-e34178c9823af271",
     "locked": true,
     "schema_version": 3,
     "solution": false,
     "task": false
    }
   },
   "source": [
    "Напишите функцию, которая возвращает значение данного интеграла. Только само значение интеграла, без оценки погрешности.\n",
    "(оборачиваем интеграл в функцию только для удобства автопроверки)."
   ]
  },
  {
   "cell_type": "code",
   "execution_count": 94,
   "metadata": {
    "deletable": false,
    "id": "ZvoF00FPBe7C",
    "nbgrader": {
     "cell_type": "code",
     "checksum": "f9fa2326b0f5d084ce9385ccd5a2fbd7",
     "grade": false,
     "grade_id": "cell-ddd4e0b6d148fcfd",
     "locked": false,
     "schema_version": 3,
     "solution": true,
     "task": false
    }
   },
   "outputs": [],
   "source": [
    "from scipy.integrate import quad\n",
    "\n",
    "def integ():\n",
    "    return I15 + 1.243 * I30"
   ]
  },
  {
   "cell_type": "code",
   "execution_count": 95,
   "metadata": {
    "colab": {
     "base_uri": "https://localhost:8080/",
     "height": 35
    },
    "deletable": false,
    "editable": false,
    "id": "knSGBWQ5Be7C",
    "nbgrader": {
     "cell_type": "code",
     "checksum": "ec0e82db9f047841aaf252766ab97afa",
     "grade": true,
     "grade_id": "cell-b341c2ce36bc957d",
     "locked": true,
     "points": 20,
     "schema_version": 3,
     "solution": false,
     "task": false
    },
    "outputId": "e627111e-022b-4801-8e6a-cb2c64581372"
   },
   "outputs": [
    {
     "data": {
      "text/plain": [
       "1.1863517672112287"
      ]
     },
     "execution_count": 95,
     "metadata": {},
     "output_type": "execute_result"
    }
   ],
   "source": [
    "integ()\n"
   ]
  },
  {
   "cell_type": "markdown",
   "metadata": {
    "id": "4FqG5ArDS6h2"
   },
   "source": [
    "##  Задание 4.  Вычисление интеграла с внутренней особенностью.\n"
   ]
  },
  {
   "cell_type": "markdown",
   "metadata": {
    "id": "tJ5BkpRdTHox"
   },
   "source": [
    "Найти $\\delta_{1}$ и $\\delta_{2}$ такие, чтобы при вычислении интеграла\n",
    "$$\n",
    "J=\\int_{-0,5}^{0,5}|x|^{-\\frac{1}{2}} \\cdot(1-x)^{-\\frac{1}{2}} d x\n",
    "$$\n",
    "модуль $|\\rho|<\\varepsilon$, где $\\varepsilon-$ требуемая точность расчетов.  "
   ]
  },
  {
   "cell_type": "markdown",
   "metadata": {
    "id": "cpVImBnSBGNz"
   },
   "source": [
    "Далее положим $\\delta_1$ = $\\delta_2$:\n",
    "$|\\rho| ≈ 2 \\sqrt{\\delta_1}+2 \\sqrt{\\delta_2} $"
   ]
  },
  {
   "cell_type": "code",
   "execution_count": 101,
   "metadata": {
    "id": "RF58cFsKA0Th"
   },
   "outputs": [],
   "source": [
    "def F4(x): return 1 / (abs(x) * (1 - x))**(1/2)\n",
    "\n",
    "def intF4(eps=1e-4):\n",
    "    delta = eps**2 / 16\n",
    "    return (quad(F4, delta, 0.5)[0] + quad(F4,-0.5,-delta)[0])"
   ]
  },
  {
   "cell_type": "code",
   "execution_count": 111,
   "metadata": {
    "colab": {
     "base_uri": "https://localhost:8080/"
    },
    "id": "Dg_lkgQxCBjw",
    "outputId": "89bbd17d-2d86-44d1-de65-21ff346b47d1"
   },
   "outputs": [
    {
     "name": "stdout",
     "output_type": "stream",
     "text": [
      "true: 2.8877542237197167\n",
      "calc: 2.8877542237117826\n",
      "err:  7.93e-12\n"
     ]
    }
   ],
   "source": [
    "I4_true = 2.8877542237197167\n",
    "print(\"true:\", I4_true)\n",
    "print(\"calc:\", intF4())\n",
    "print(\"err:  {:.2e}\".format(np.abs(intF4()-I4_true)))"
   ]
  },
  {
   "cell_type": "markdown",
   "metadata": {
    "id": "pbssFzTWU-_G"
   },
   "source": [
    "## Задание 5.  Интеграл от быстроосциллирующей функции.\n",
    "\n"
   ]
  },
  {
   "cell_type": "markdown",
   "metadata": {
    "id": "vPUzMhP7XhzF"
   },
   "source": [
    "Вычислите интеграл от быстроосциллирующей функции\n",
    "$$\n",
    "\\int_{0}^{\\pi} \\mathrm{e}^{-x} \\sin k x d x\n",
    "$$\n",
    "для различных значений $k$ по методу Симпсона, а затем используя прием, описанный ранее, заменяя функцию $\\mathrm{e}^{-x}$ ее интерполяционным полиномом второй степени (третьей степени). Совпадает-ли точность расчетов с ожидаемой? Сравните с точным значением интеграла, который равен\n",
    "\n",
    "$$\n",
    "\\int_{0}^{\\pi} \\mathrm{e}^{-x} \\sin k x d x=\\frac{k}{1+k^{2}}-\\frac{\\mathrm{e}^{-\\pi}(k \\cos k \\pi+\\sin k \\pi)}{1+k^{2}}\n",
    "$$  "
   ]
  },
  {
   "cell_type": "code",
   "execution_count": 112,
   "metadata": {
    "id": "tpz9xHeoJluq"
   },
   "outputs": [],
   "source": [
    "def f5(x,k):\n",
    "    return math.exp(-x)*sin(k*x)"
   ]
  },
  {
   "cell_type": "code",
   "execution_count": 113,
   "metadata": {
    "id": "UxhogwzGJ_N7"
   },
   "outputs": [],
   "source": [
    "def I5_true_F(k):\n",
    "    return  k / (1 + k**2) - \\\n",
    "            math.exp(-math.pi) * (k * math.cos(k * math.pi) + math.sin(k * math.pi)) / (1 + k**2)"
   ]
  },
  {
   "cell_type": "markdown",
   "metadata": {
    "id": "I9B2XTcgJQNI"
   },
   "source": [
    "# Симпсон:"
   ]
  },
  {
   "cell_type": "code",
   "execution_count": 115,
   "metadata": {
    "id": "tbc0-713JPRg"
   },
   "outputs": [],
   "source": [
    "def simp(k):\n",
    "    return np.pi * (f5(0, k) + 4 * f5(np.pi / 2, k) + f5(np.pi, k)) / 6"
   ]
  },
  {
   "cell_type": "code",
   "execution_count": 117,
   "metadata": {
    "colab": {
     "base_uri": "https://localhost:8080/"
    },
    "id": "yZFOSrm0KyWX",
    "outputId": "294229ed-2bdb-4997-a496-36aa512f29b0"
   },
   "outputs": [
    {
     "name": "stdout",
     "output_type": "stream",
     "text": [
      "4.720769739840531e-16\n",
      "0.009566904126949584\n"
     ]
    }
   ],
   "source": [
    "ktest = 100\n",
    "print(simp(ktest))\n",
    "print(I5_true_F(ktest))"
   ]
  },
  {
   "cell_type": "markdown",
   "metadata": {},
   "source": [
    "непохоже"
   ]
  },
  {
   "cell_type": "markdown",
   "metadata": {
    "id": "jN7SPJ6eLbeN"
   },
   "source": [
    "# Метод интеллектуалов"
   ]
  },
  {
   "cell_type": "code",
   "execution_count": 123,
   "metadata": {
    "id": "G4IQYc1xOZ3c"
   },
   "outputs": [],
   "source": [
    "from scipy.interpolate import lagrange"
   ]
  },
  {
   "cell_type": "code",
   "execution_count": 125,
   "metadata": {
    "colab": {
     "base_uri": "https://localhost:8080/",
     "height": 200
    },
    "id": "r-2veIslR-SI",
    "outputId": "8e31655d-6623-46d7-eedb-2acb4b05c23e"
   },
   "outputs": [],
   "source": [
    "xs = np.array([0, np.pi/2, np.pi])\n",
    "ys = np.exp(xs)"
   ]
  },
  {
   "cell_type": "code",
   "execution_count": 130,
   "metadata": {
    "id": "ckHkugzZLjST"
   },
   "outputs": [],
   "source": [
    "def approxexp (n=3):\n",
    "    xs = np.array([0, np.pi/2, np.pi])\n",
    "    ys = np.array([np.exp(0), np.exp(-np.pi / 2), np.exp(-np.pi)])\n",
    "    return lagrange(xs,ys)"
   ]
  },
  {
   "cell_type": "code",
   "execution_count": 131,
   "metadata": {
    "colab": {
     "base_uri": "https://localhost:8080/"
    },
    "id": "rHo7_d3eSZKE",
    "outputId": "b10a61b2-7bd2-4872-c05d-8c868a710eac"
   },
   "outputs": [
    {
     "data": {
      "text/plain": [
       "poly1d([ 0.12714892, -0.70400458,  1.        ])"
      ]
     },
     "execution_count": 131,
     "metadata": {},
     "output_type": "execute_result"
    }
   ],
   "source": [
    "approxexp()"
   ]
  },
  {
   "cell_type": "code",
   "execution_count": 134,
   "metadata": {
    "id": "qpB-4ZLgLj7G"
   },
   "outputs": [],
   "source": [
    "def cleverint(k):\n",
    "    a2, a1, a0 = approxexp()\n",
    "    return    a0 * (1 - cos(np.pi*k)) / k\\\n",
    "            + a1 * (sin(np.pi*k)-np.pi*k*cos(np.pi*k))/k**2\\\n",
    "            + a2 * ((2 - (np.pi*k)**2)*cos(np.pi*k)+2*np.pi*k*sin(np.pi*k)-2)/k**3"
   ]
  },
  {
   "cell_type": "code",
   "execution_count": 139,
   "metadata": {
    "colab": {
     "base_uri": "https://localhost:8080/"
    },
    "id": "Q1eiDjQHLjYP",
    "outputId": "a6cbebf3-4d70-42a0-f19b-f76f763c8d79"
   },
   "outputs": [
    {
     "name": "stdout",
     "output_type": "stream",
     "text": [
      "calc: 0.009567860817362274\n",
      "true: 0.009566904126949584\n",
      "err:  9.57e-07\n"
     ]
    }
   ],
   "source": [
    "ktest=100\n",
    "print(\"calc:\", cleverint(ktest))\n",
    "print(\"true:\", I5_true_F(ktest))\n",
    "print(\"err:  {:.2e}\".format(np.abs(I5_true_F(ktest)-cleverint(ktest))))"
   ]
  },
  {
   "cell_type": "markdown",
   "metadata": {},
   "source": [
    "Всё работает)"
   ]
  }
 ],
 "metadata": {
  "colab": {
   "collapsed_sections": [
    "w4ZXuthBMfvz",
    "u1TUYDoOPJp9",
    "zfFOQGhNQx-u",
    "pJ9O_GkUSBnv",
    "MxsIVZYxUnKm",
    "JVoAo0zQBe6-",
    "ffXj--yFBe6_",
    "wjos1wWPBe7B",
    "4FqG5ArDS6h2"
   ],
   "name": "С3_Поляков.ipynb",
   "provenance": []
  },
  "kernelspec": {
   "display_name": "Python 3 (ipykernel)",
   "language": "python",
   "name": "python3"
  },
  "language_info": {
   "codemirror_mode": {
    "name": "ipython",
    "version": 3
   },
   "file_extension": ".py",
   "mimetype": "text/x-python",
   "name": "python",
   "nbconvert_exporter": "python",
   "pygments_lexer": "ipython3",
   "version": "3.9.7"
  }
 },
 "nbformat": 4,
 "nbformat_minor": 1
}

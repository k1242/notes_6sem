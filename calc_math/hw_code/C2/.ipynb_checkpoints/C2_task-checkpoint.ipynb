{
 "cells": [
  {
   "cell_type": "markdown",
   "metadata": {
    "id": "I51he1RjCNEu"
   },
   "source": [
    "Прежде чем сдать это задание, убедитесь, что все работает должным образом. \n",
    "Для этого следует \"выполнить всё\" в документе.\n",
    "\n",
    "Убедитесь, что вы заполнили все места, где написано «ВАШ КОД ЗДЕСЬ» или «ВАШ ОТВЕТ ЗДЕСЬ»."
   ]
  },
  {
   "cell_type": "code",
   "execution_count": 1,
   "metadata": {
    "ExecuteTime": {
     "end_time": "2022-03-08T19:08:37.317645Z",
     "start_time": "2022-03-08T19:08:37.301681Z"
    },
    "id": "EHzxUdYPCNEx"
   },
   "outputs": [],
   "source": [
    "NAME = \"Kirill Khoruzhii\"\n",
    "COLLABORATORS = \"\""
   ]
  },
  {
   "cell_type": "markdown",
   "metadata": {
    "id": "QSq1tU1xJjlH"
   },
   "source": [
    "#  Вводное задание. \n",
    "\n",
    "Вектора х1 и у1 из архива дают значения некоторой функции $f(x) .$ Постройте на графике, используя библиотечные функции:\n",
    "\n",
    "(a) Интерполяционный Лагранжев многочлен.\n",
    "\n",
    "(b) Интерполяционный кубический сплайн (CubicSpline).\n",
    "\n",
    "(c) Монотонный кубический интерполянт (PchipInterpolator).\n",
    "\n",
    "(d)  Аппроксимацию полиномами, используя функции np. polyfit и np.polyval. "
   ]
  },
  {
   "cell_type": "markdown",
   "metadata": {
    "id": "eYXd3hSCCNEy"
   },
   "source": [
    "---"
   ]
  },
  {
   "cell_type": "markdown",
   "metadata": {
    "deletable": false,
    "editable": false,
    "id": "VflMBLlxCNEz",
    "nbgrader": {
     "cell_type": "markdown",
     "checksum": "59cd9999bf8de50236ebcf28c94470ef",
     "grade": false,
     "grade_id": "cell-af0193379161e7dd",
     "locked": true,
     "schema_version": 3,
     "solution": false,
     "task": false
    }
   },
   "source": [
    "# Интерполяция полиномом Лагранжа.\n",
    "\n",
    "Напишите класс, который конструирует интерполяционный полином Лагранжа, проходящий через точки, заданные как `xk` и `yk`."
   ]
  },
  {
   "cell_type": "code",
   "execution_count": null,
   "metadata": {
    "deletable": false,
    "id": "luBYJoBXCNEz",
    "nbgrader": {
     "cell_type": "code",
     "checksum": "c209243c82df3a0862e2b45a6e133bbc",
     "grade": false,
     "grade_id": "cell-d459dee4d09527c4",
     "locked": false,
     "schema_version": 3,
     "solution": true,
     "task": false
    }
   },
   "outputs": [],
   "source": [
    "import numpy as np\n",
    "\n",
    "class LagrangeInterpolator:\n",
    "    \"\"\"Lagrange interpolating polynomial.\n",
    "    \n",
    "    Given a set of pairs ``(x_k, y_k)``, construct \n",
    "    a Lagrange polynomial ``f(x)``, such that\n",
    "    \n",
    "    .. math::\n",
    "\n",
    "        f(x_k) = y_k   for k =0, ..., n-1\n",
    "    \n",
    "    Parameters\n",
    "    ----------\n",
    "    xk : array_like, shape(n,)\n",
    "        Abscissas\n",
    "    yk : array_like, shape(n,)\n",
    "        Ordinates\n",
    "    \n",
    "    Attributes\n",
    "    ----------\n",
    "    __call__\n",
    "    \n",
    "    \"\"\"\n",
    "    def __init__(self, xk, yk):\n",
    "        self.xk = np.asarray(xk, dtype=float)\n",
    "        self.yk = np.asarray(yk, dtype=float)\n",
    "        \n",
    "    def __call__(self, x):\n",
    "        \"\"\"Evaluate the interpolator at a given point.\n",
    "        \n",
    "        Parameters\n",
    "        ----------\n",
    "        x : float\n",
    "        \n",
    "        Returns\n",
    "        -------\n",
    "        the value of the interpolator at ``x``.\n",
    "        \"\"\"\n",
    "        # YOUR CODE HERE\n",
    "        raise NotImplementedError()"
   ]
  },
  {
   "cell_type": "code",
   "execution_count": null,
   "metadata": {
    "deletable": false,
    "editable": false,
    "id": "xuMzNKGYCNE0",
    "nbgrader": {
     "cell_type": "code",
     "checksum": "05fcc7ea506078b2ac88e8e0cb9ec051",
     "grade": true,
     "grade_id": "cell-02e34e05d317dfb2",
     "locked": true,
     "points": 7,
     "schema_version": 3,
     "solution": false,
     "task": false
    }
   },
   "outputs": [],
   "source": [
    "def runge_func(x, a=25):\n",
    "    return 1.0 / (1.0 + a*x**2)\n",
    "\n",
    "xx = np.linspace(-2, 2, 21)\n",
    "yy = runge_func(xx)\n",
    "\n",
    "lagr = LagrangeInterpolator(xx, yy)\n",
    "\n",
    "from numpy.testing import assert_allclose\n",
    "\n",
    "assert_allclose(yy,\n",
    "                [lagr(xval) for xval in xx],\n",
    "                atol=1e-14)"
   ]
  },
  {
   "cell_type": "markdown",
   "metadata": {
    "deletable": false,
    "editable": false,
    "id": "66yuAqWfCNE0",
    "nbgrader": {
     "cell_type": "markdown",
     "checksum": "6d04ab6f10519e1ddaf089a29532bcaf",
     "grade": false,
     "grade_id": "cell-f22c0c63fb0a5202",
     "locked": true,
     "schema_version": 3,
     "solution": false,
     "task": false
    }
   },
   "source": [
    "## Феномер Рунге\n",
    "\n",
    "Рассмотрим функцию Рунге, $y = 1/(1 + 25x^2)$. Интерполируйте эту функцию на интервале $x\\in [-2, 2]$, используя полином Лагранжа с $m=3, 5, 7, 11$. Используйте равномерную сетку. Нарисуйте результат интерполяции вместе с исходной функцией на одном графике. "
   ]
  },
  {
   "cell_type": "code",
   "execution_count": null,
   "metadata": {
    "id": "oR5mycJVCNE1"
   },
   "outputs": [],
   "source": [
    "# YOUR CODE AND COMMENTS HERE"
   ]
  },
  {
   "cell_type": "markdown",
   "metadata": {
    "deletable": false,
    "editable": false,
    "id": "LnGmYj0GCNE1",
    "nbgrader": {
     "cell_type": "markdown",
     "checksum": "c282ff5cd6f6695271524116baef946a",
     "grade": false,
     "grade_id": "cell-85ba04126049ea4b",
     "locked": true,
     "schema_version": 3,
     "solution": false,
     "task": false
    }
   },
   "source": [
    "Допишите функцию, которая возвращает узлы Чебышева. "
   ]
  },
  {
   "cell_type": "code",
   "execution_count": null,
   "metadata": {
    "deletable": false,
    "id": "XpbzHeyTCNE1",
    "nbgrader": {
     "cell_type": "code",
     "checksum": "ed7296ad8e3d37cc4f758f93fe4030a1",
     "grade": false,
     "grade_id": "cell-43b1fb4f14c698bc",
     "locked": false,
     "schema_version": 3,
     "solution": true,
     "task": false
    }
   },
   "outputs": [],
   "source": [
    "def cheb_nodes(n, a=-1, b=1):\n",
    "    r\"\"\"Chebyshev nodes of degree $n$ on $[a, b]$\n",
    "    \"\"\"\n",
    "    # YOUR CODE HERE\n",
    "    raise NotImplementedError()"
   ]
  },
  {
   "cell_type": "code",
   "execution_count": null,
   "metadata": {
    "deletable": false,
    "editable": false,
    "id": "l-FMspyCCNE2",
    "nbgrader": {
     "cell_type": "code",
     "checksum": "8271bed5f4edc22b2b978d462ac02911",
     "grade": true,
     "grade_id": "cell-1ea45f1e8dc8a36d",
     "locked": true,
     "points": 3,
     "schema_version": 3,
     "solution": false,
     "task": false
    }
   },
   "outputs": [],
   "source": [
    "nodes_11 = cheb_nodes(11)\n",
    "nodes_11 = np.asarray(nodes_11)\n",
    "assert (nodes_11[1:] > nodes_11[:-1]).all()\n",
    "\n",
    "from scipy.special import roots_chebyt\n",
    "nodes, weights = roots_chebyt(5) \n",
    "\n",
    "assert_allclose(cheb_nodes(5),\n",
    "                nodes, atol=1e-14)\n",
    "\n",
    "assert_allclose(cheb_nodes(5, a=-1, b=3),\n",
    "                nodes*2 + 1, atol=1e-14)"
   ]
  },
  {
   "cell_type": "markdown",
   "metadata": {
    "deletable": false,
    "editable": false,
    "id": "-mpVSC2RCNE2",
    "nbgrader": {
     "cell_type": "markdown",
     "checksum": "540c8e2c5beca1b7463e6246a53fe1dd",
     "grade": false,
     "grade_id": "cell-f3f041eb7603b2c5",
     "locked": true,
     "schema_version": 3,
     "solution": false,
     "task": false
    }
   },
   "source": [
    "Повторите интерполяцию Лагранжа функции Рунге с помощью узлов Чебышева. Постройте интерполянты.\n",
    "Также постройте интерполяцию кубическим сплайном тех же данных (`scipy.interpolate.CubicSpline`).\n",
    "Сравните величину явления Рунге для равномерной сетки и сетки Чебышева. Демонстрирует ли интерполяция сплайнами феномен Рунге?\n"
   ]
  },
  {
   "cell_type": "code",
   "execution_count": null,
   "metadata": {
    "id": "eEF-pmK4CNE3"
   },
   "outputs": [],
   "source": [
    "# YOUR CODE AND COMMENTS HERE"
   ]
  },
  {
   "cell_type": "markdown",
   "metadata": {
    "id": "8CPMG4gxD0a_"
   },
   "source": [
    "Другим известным трудным тестом для интерполяции является следующая периодическая функция:\n",
    "\n",
    "$u(x)=\\frac{\\sqrt{\\varepsilon(2+\\varepsilon)}}{2 \\pi(1+\\varepsilon-\\cos x)}, \\quad-\\pi \\leq x \\leq \\pi, \\quad \\varepsilon=0.21  $\n",
    "\n",
    "Проведите аналогичные вычисления и постройте графики для неё."
   ]
  },
  {
   "cell_type": "code",
   "execution_count": null,
   "metadata": {
    "id": "BdWAq2lyHFOm"
   },
   "outputs": [],
   "source": []
  },
  {
   "cell_type": "markdown",
   "metadata": {
    "id": "JCJGnu_oHvEX"
   },
   "source": [
    "Постройте интерполяцию функций\n",
    "\n",
    "$$\n",
    "y_{1}(x)=\\sin (6 x)+\\sin \\left(60 e^{x}\\right), y_{2}(x)=\\frac{1}{1+1000(x+0.5)^{2}}+\\frac{1}{\\sqrt{1+1000(x-0.5)^{2}}}\n",
    "$$\n",
    "\n",
    "на отрезке $[-1,1]$ полиномами Чебышева. Постройте зависимость ошибки приближения от количества узлов. Сколько узлов нужно удержать в каждом из этих случаев для получения достаточно точного приближения?"
   ]
  },
  {
   "cell_type": "code",
   "execution_count": null,
   "metadata": {
    "id": "ptkmRupNHyCv"
   },
   "outputs": [],
   "source": []
  },
  {
   "cell_type": "markdown",
   "metadata": {
    "id": "V4aMhqPMI0Cf"
   },
   "source": [
    "Вектора х4 и у4 из архива дают значения некоторой функции на равномерной сетке на отрезке [-0.75, 0.75]. Используя scipy . optimize.curve_fit, постройте интерполяцию функции $y(x)$ функциями вида\n",
    "\n",
    "$$\n",
    "y_{1}(x)=p_{0}+p_{1} x+p_{2} x^{2}+p_{3} x^{3}+p_{4} x^{4}+p_{5} x^{5}, y_{2}(x)=\\frac{p_{0}+p_{1} x+p_{2} x^{2}+p_{3} x^{3}}{1+q_{1} x+q_{2} x^{2}}\n",
    "$$\n",
    "\n",
    "\n",
    "Какая из этих формул лучше описывает $y(x)$ на заданном интервале? Постройте график экстраполяции $y(x)$ за пределы исходных данных. Можете ли вы угадать аналитическое выражение для $y(x) ?$"
   ]
  },
  {
   "cell_type": "markdown",
   "metadata": {
    "id": "z3XaR6yXHyaO"
   },
   "source": [
    "Вектора х5 и у5 из архива задают некоторую функцию на равномерной сетке на отрезке $[-1,1] .$ \n",
    "\n",
    "Составьте соответствующий интерполяционный многочлен и постройте его график. Ожидаемо, получившийся интерполянт демонстрирует явление Рунге. Теперь проделайте замену переменной $x \\rightarrow s$ по формуле $x=g(s)$, где\n",
    "$$\n",
    "g(s)=\\frac{1}{53089}\\left(40320 s+6720 s^{3}+3024 s^{5}+1800 s^{7}+1225 s^{9}\\right)\n",
    "$$\n",
    "\n",
    " функция, приближённо отображающая равномерную сетку в сетку узлов Чебышева. В новой переменной $s$, составьте интерполяционный многочлен $P(s) .$ Постройте график получившейся интерполяции исходной функции $P(s(x))$. Делает ли такая процедура явление Рунге менее выраженным? "
   ]
  }
 ],
 "metadata": {
  "colab": {
   "collapsed_sections": [],
   "name": "LagrangeInterpolator.ipynb",
   "provenance": []
  },
  "kernelspec": {
   "display_name": "Python 3",
   "language": "python",
   "name": "python3"
  },
  "language_info": {
   "codemirror_mode": {
    "name": "ipython",
    "version": 3
   },
   "file_extension": ".py",
   "mimetype": "text/x-python",
   "name": "python",
   "nbconvert_exporter": "python",
   "pygments_lexer": "ipython3",
   "version": "3.7.4"
  },
  "latex_envs": {
   "LaTeX_envs_menu_present": true,
   "autoclose": false,
   "autocomplete": true,
   "bibliofile": "biblio.bib",
   "cite_by": "apalike",
   "current_citInitial": 1,
   "eqLabelWithNumbers": true,
   "eqNumInitial": 1,
   "hotkeys": {
    "equation": "Ctrl-E",
    "itemize": "Ctrl-I"
   },
   "labels_anchors": false,
   "latex_user_defs": false,
   "report_style_numbering": false,
   "user_envs_cfg": false
  },
  "toc": {
   "base_numbering": 1,
   "nav_menu": {},
   "number_sections": true,
   "sideBar": true,
   "skip_h1_title": false,
   "title_cell": "Table of Contents",
   "title_sidebar": "Contents",
   "toc_cell": false,
   "toc_position": {},
   "toc_section_display": true,
   "toc_window_display": false
  },
  "varInspector": {
   "cols": {
    "lenName": 16,
    "lenType": 16,
    "lenVar": 40
   },
   "kernels_config": {
    "python": {
     "delete_cmd_postfix": "",
     "delete_cmd_prefix": "del ",
     "library": "var_list.py",
     "varRefreshCmd": "print(var_dic_list())"
    },
    "r": {
     "delete_cmd_postfix": ") ",
     "delete_cmd_prefix": "rm(",
     "library": "var_list.r",
     "varRefreshCmd": "cat(var_dic_list()) "
    }
   },
   "types_to_exclude": [
    "module",
    "function",
    "builtin_function_or_method",
    "instance",
    "_Feature"
   ],
   "window_display": false
  }
 },
 "nbformat": 4,
 "nbformat_minor": 1
}

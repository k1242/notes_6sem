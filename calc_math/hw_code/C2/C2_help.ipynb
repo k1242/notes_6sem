{
  "cells": [
    {
      "cell_type": "markdown",
      "source": [
        "# Работа с полиномами в Питоне.\n",
        "\n",
        "По материалам  http://acm.mipt.ru/twiki/bin/view/Cintro/InterpolPython ."
      ],
      "metadata": {
        "id": "eolkBQP_7_4c"
      }
    },
    {
      "cell_type": "code",
      "execution_count": 137,
      "metadata": {
        "id": "x4XLt6AK16sA"
      },
      "outputs": [],
      "source": [
        "from scipy import interpolate\n",
        "from numpy import polynomial as P\n",
        "import numpy as np\n",
        "from scipy import linalg\n",
        "import matplotlib.pyplot as plt\n",
        "%matplotlib inline\n"
      ]
    },
    {
      "cell_type": "code",
      "execution_count": 138,
      "metadata": {
        "colab": {
          "base_uri": "https://localhost:8080/",
          "height": 39
        },
        "id": "qko4nLhh16sD",
        "outputId": "caf70db8-2a94-4778-d395-c8df3a317331"
      },
      "outputs": [
        {
          "output_type": "execute_result",
          "data": {
            "text/latex": "$x \\mapsto \\text{1.0} + \\text{2.0}\\,x + \\text{3.0}\\,x^{2}$",
            "text/plain": [
              "Polynomial([1., 2., 3.], domain=[-1,  1], window=[-1,  1])"
            ]
          },
          "metadata": {},
          "execution_count": 138
        }
      ],
      "source": [
        "p1 = P.Polynomial([1, 2, 3])\n",
        "p1"
      ]
    },
    {
      "cell_type": "code",
      "execution_count": 139,
      "metadata": {
        "colab": {
          "base_uri": "https://localhost:8080/",
          "height": 39
        },
        "id": "7D3c2fbB16sE",
        "outputId": "5dbdc9e3-6747-4d7e-fc63-d1dda10272f2"
      },
      "outputs": [
        {
          "output_type": "execute_result",
          "data": {
            "text/latex": "$x \\mapsto \\text{-1.0}\\color{LightGray}{ + \\text{0.0}\\,x} + \\text{1.0}\\,x^{2}$",
            "text/plain": [
              "Polynomial([-1.,  0.,  1.], domain=[-1.,  1.], window=[-1.,  1.])"
            ]
          },
          "metadata": {},
          "execution_count": 139
        }
      ],
      "source": [
        "p2 = P.Polynomial.fromroots([-1, 1])\n",
        "p2"
      ]
    },
    {
      "cell_type": "code",
      "execution_count": 140,
      "metadata": {
        "colab": {
          "base_uri": "https://localhost:8080/"
        },
        "id": "OJ1xi7pN16sE",
        "outputId": "17406151-4216-4626-8d39-3f65cc952e1c"
      },
      "outputs": [
        {
          "output_type": "execute_result",
          "data": {
            "text/plain": [
              "array([-0.33333333-0.47140452j, -0.33333333+0.47140452j])"
            ]
          },
          "metadata": {},
          "execution_count": 140
        }
      ],
      "source": [
        "p1.roots()"
      ]
    },
    {
      "cell_type": "code",
      "execution_count": 141,
      "metadata": {
        "colab": {
          "base_uri": "https://localhost:8080/"
        },
        "id": "6bnd77Pr16sF",
        "outputId": "22e30496-72a4-4026-ed6b-12a816d5b0da"
      },
      "outputs": [
        {
          "output_type": "execute_result",
          "data": {
            "text/plain": [
              "array([-1.,  1.])"
            ]
          },
          "metadata": {},
          "execution_count": 141
        }
      ],
      "source": [
        "p2.roots()"
      ]
    },
    {
      "cell_type": "code",
      "execution_count": 142,
      "metadata": {
        "colab": {
          "base_uri": "https://localhost:8080/"
        },
        "id": "49_3fohP16sF",
        "outputId": "53f5f146-f5f2-400a-bb54-92c537d58eef"
      },
      "outputs": [
        {
          "output_type": "execute_result",
          "data": {
            "text/plain": [
              "17.0"
            ]
          },
          "metadata": {},
          "execution_count": 142
        }
      ],
      "source": [
        "p1(2)"
      ]
    },
    {
      "cell_type": "code",
      "execution_count": 143,
      "metadata": {
        "colab": {
          "base_uri": "https://localhost:8080/"
        },
        "id": "ECgssc1c16sG",
        "outputId": "8972c742-da6c-4e70-e118-c561542cecbe"
      },
      "outputs": [
        {
          "output_type": "execute_result",
          "data": {
            "text/plain": [
              "8.0"
            ]
          },
          "metadata": {},
          "execution_count": 143
        }
      ],
      "source": [
        "p2(3)"
      ]
    },
    {
      "cell_type": "code",
      "execution_count": 144,
      "metadata": {
        "colab": {
          "base_uri": "https://localhost:8080/",
          "height": 39
        },
        "id": "a4EwbWGC16sG",
        "outputId": "c2a51eec-6811-4d3e-fd18-c2792b374a1b"
      },
      "outputs": [
        {
          "output_type": "execute_result",
          "data": {
            "text/latex": "$x \\mapsto \\text{1.0} + \\text{2.0}\\,x + \\text{3.0}\\,x^{2}$",
            "text/plain": [
              "Polynomial([1., 2., 3.], domain=[-1,  1], window=[-1,  1])"
            ]
          },
          "metadata": {},
          "execution_count": 144
        }
      ],
      "source": [
        "p1"
      ]
    },
    {
      "cell_type": "code",
      "execution_count": 145,
      "metadata": {
        "colab": {
          "base_uri": "https://localhost:8080/",
          "height": 39
        },
        "id": "2-dfFjPW16sG",
        "outputId": "bc1de550-5d4f-49ba-9288-40063ae24df3"
      },
      "outputs": [
        {
          "output_type": "execute_result",
          "data": {
            "text/latex": "$x \\mapsto \\text{-1.0}\\color{LightGray}{ + \\text{0.0}\\,x} + \\text{1.0}\\,x^{2}$",
            "text/plain": [
              "Polynomial([-1.,  0.,  1.], domain=[-1.,  1.], window=[-1.,  1.])"
            ]
          },
          "metadata": {},
          "execution_count": 145
        }
      ],
      "source": [
        "p2"
      ]
    },
    {
      "cell_type": "code",
      "execution_count": 146,
      "metadata": {
        "colab": {
          "base_uri": "https://localhost:8080/",
          "height": 39
        },
        "id": "oYiePR-R16sH",
        "outputId": "a83a16f9-f85a-45ad-9d02-cdd7b6893a10"
      },
      "outputs": [
        {
          "output_type": "execute_result",
          "data": {
            "text/latex": "$x \\mapsto \\color{LightGray}{\\text{0.0}} + \\text{2.0}\\,x + \\text{4.0}\\,x^{2}$",
            "text/plain": [
              "Polynomial([0., 2., 4.], domain=[-1.,  1.], window=[-1.,  1.])"
            ]
          },
          "metadata": {},
          "execution_count": 146
        }
      ],
      "source": [
        "p1+p2"
      ]
    },
    {
      "cell_type": "code",
      "execution_count": 147,
      "metadata": {
        "colab": {
          "base_uri": "https://localhost:8080/",
          "height": 39
        },
        "id": "PSMcE3SM16sH",
        "outputId": "49105756-7291-48a8-8709-c715495421b5"
      },
      "outputs": [
        {
          "output_type": "execute_result",
          "data": {
            "text/latex": "$x \\mapsto \\text{-1.0} - \\text{2.0}\\,x - \\text{2.0}\\,x^{2} + \\text{2.0}\\,x^{3} + \\text{3.0}\\,x^{4}$",
            "text/plain": [
              "Polynomial([-1., -2., -2.,  2.,  3.], domain=[-1.,  1.], window=[-1.,  1.])"
            ]
          },
          "metadata": {},
          "execution_count": 147
        }
      ],
      "source": [
        "p = p1*p2\n",
        "p"
      ]
    },
    {
      "cell_type": "code",
      "execution_count": 148,
      "metadata": {
        "colab": {
          "base_uri": "https://localhost:8080/",
          "height": 39
        },
        "id": "DAwRiKI516sI",
        "outputId": "866cf99d-177e-4b4f-b155-5d8bc43c97f0"
      },
      "outputs": [
        {
          "output_type": "execute_result",
          "data": {
            "text/latex": "$x \\mapsto \\text{-2.0} - \\text{4.0}\\,x + \\text{6.0}\\,x^{2} + \\text{12.0}\\,x^{3}$",
            "text/plain": [
              "Polynomial([-2., -4.,  6., 12.], domain=[-1.,  1.], window=[-1.,  1.])"
            ]
          },
          "metadata": {},
          "execution_count": 148
        }
      ],
      "source": [
        "p.deriv()"
      ]
    },
    {
      "cell_type": "code",
      "execution_count": 149,
      "metadata": {
        "colab": {
          "base_uri": "https://localhost:8080/",
          "height": 39
        },
        "id": "jOA4-Wta16sI",
        "outputId": "5051f8df-9e01-48d9-98ac-4aa574fff0b4"
      },
      "outputs": [
        {
          "output_type": "execute_result",
          "data": {
            "text/latex": "$x \\mapsto \\text{-4.0} + \\text{12.0}\\,x + \\text{36.0}\\,x^{2}$",
            "text/plain": [
              "Polynomial([-4., 12., 36.], domain=[-1.,  1.], window=[-1.,  1.])"
            ]
          },
          "metadata": {},
          "execution_count": 149
        }
      ],
      "source": [
        "p.deriv(2)"
      ]
    },
    {
      "cell_type": "code",
      "execution_count": 150,
      "metadata": {
        "colab": {
          "base_uri": "https://localhost:8080/"
        },
        "id": "L4v6k8UT16sI",
        "outputId": "7b28ff39-111e-4a82-d37b-81b89f7f2b1d"
      },
      "outputs": [
        {
          "output_type": "stream",
          "name": "stdout",
          "text": [
            "Help on module numpy.polynomial.polynomial in numpy.polynomial:\n",
            "\n",
            "NAME\n",
            "    numpy.polynomial.polynomial\n",
            "\n",
            "DESCRIPTION\n",
            "    =================================================\n",
            "    Power Series (:mod:`numpy.polynomial.polynomial`)\n",
            "    =================================================\n",
            "    \n",
            "    This module provides a number of objects (mostly functions) useful for\n",
            "    dealing with polynomials, including a `Polynomial` class that\n",
            "    encapsulates the usual arithmetic operations.  (General information\n",
            "    on how this module represents and works with polynomial objects is in\n",
            "    the docstring for its \"parent\" sub-package, `numpy.polynomial`).\n",
            "    \n",
            "    Classes\n",
            "    -------\n",
            "    .. autosummary::\n",
            "       :toctree: generated/\n",
            "    \n",
            "       Polynomial\n",
            "    \n",
            "    Constants\n",
            "    ---------\n",
            "    .. autosummary::\n",
            "       :toctree: generated/\n",
            "    \n",
            "       polydomain\n",
            "       polyzero\n",
            "       polyone\n",
            "       polyx\n",
            "    \n",
            "    Arithmetic\n",
            "    ----------\n",
            "    .. autosummary::\n",
            "       :toctree: generated/\n",
            "    \n",
            "       polyadd\n",
            "       polysub\n",
            "       polymulx\n",
            "       polymul\n",
            "       polydiv\n",
            "       polypow\n",
            "       polyval\n",
            "       polyval2d\n",
            "       polyval3d\n",
            "       polygrid2d\n",
            "       polygrid3d\n",
            "    \n",
            "    Calculus\n",
            "    --------\n",
            "    .. autosummary::\n",
            "       :toctree: generated/\n",
            "    \n",
            "       polyder\n",
            "       polyint\n",
            "    \n",
            "    Misc Functions\n",
            "    --------------\n",
            "    .. autosummary::\n",
            "       :toctree: generated/\n",
            "    \n",
            "       polyfromroots\n",
            "       polyroots\n",
            "       polyvalfromroots\n",
            "       polyvander\n",
            "       polyvander2d\n",
            "       polyvander3d\n",
            "       polycompanion\n",
            "       polyfit\n",
            "       polytrim\n",
            "       polyline\n",
            "    \n",
            "    See Also\n",
            "    --------\n",
            "    `numpy.polynomial`\n",
            "\n",
            "CLASSES\n",
            "    numpy.polynomial._polybase.ABCPolyBase(abc.ABC)\n",
            "        Polynomial\n",
            "    \n",
            "    class Polynomial(numpy.polynomial._polybase.ABCPolyBase)\n",
            "     |  Polynomial(coef, domain=None, window=None)\n",
            "     |  \n",
            "     |  A power series class.\n",
            "     |  \n",
            "     |  The Polynomial class provides the standard Python numerical methods\n",
            "     |  '+', '-', '*', '//', '%', 'divmod', '**', and '()' as well as the\n",
            "     |  attributes and methods listed in the `ABCPolyBase` documentation.\n",
            "     |  \n",
            "     |  Parameters\n",
            "     |  ----------\n",
            "     |  coef : array_like\n",
            "     |      Polynomial coefficients in order of increasing degree, i.e.,\n",
            "     |      ``(1, 2, 3)`` give ``1 + 2*x + 3*x**2``.\n",
            "     |  domain : (2,) array_like, optional\n",
            "     |      Domain to use. The interval ``[domain[0], domain[1]]`` is mapped\n",
            "     |      to the interval ``[window[0], window[1]]`` by shifting and scaling.\n",
            "     |      The default value is [-1, 1].\n",
            "     |  window : (2,) array_like, optional\n",
            "     |      Window, see `domain` for its use. The default value is [-1, 1].\n",
            "     |  \n",
            "     |      .. versionadded:: 1.6.0\n",
            "     |  \n",
            "     |  Method resolution order:\n",
            "     |      Polynomial\n",
            "     |      numpy.polynomial._polybase.ABCPolyBase\n",
            "     |      abc.ABC\n",
            "     |      builtins.object\n",
            "     |  \n",
            "     |  Data and other attributes defined here:\n",
            "     |  \n",
            "     |  __abstractmethods__ = frozenset()\n",
            "     |  \n",
            "     |  basis_name = None\n",
            "     |  \n",
            "     |  domain = array([-1,  1])\n",
            "     |  \n",
            "     |  nickname = 'poly'\n",
            "     |  \n",
            "     |  window = array([-1,  1])\n",
            "     |  \n",
            "     |  ----------------------------------------------------------------------\n",
            "     |  Methods inherited from numpy.polynomial._polybase.ABCPolyBase:\n",
            "     |  \n",
            "     |  __add__(self, other)\n",
            "     |  \n",
            "     |  __call__(self, arg)\n",
            "     |      Call self as a function.\n",
            "     |  \n",
            "     |  __divmod__(self, other)\n",
            "     |  \n",
            "     |  __eq__(self, other)\n",
            "     |      Return self==value.\n",
            "     |  \n",
            "     |  __floordiv__(self, other)\n",
            "     |  \n",
            "     |  __getstate__(self)\n",
            "     |  \n",
            "     |  __init__(self, coef, domain=None, window=None)\n",
            "     |      Initialize self.  See help(type(self)) for accurate signature.\n",
            "     |  \n",
            "     |  __iter__(self)\n",
            "     |  \n",
            "     |  __len__(self)\n",
            "     |  \n",
            "     |  __mod__(self, other)\n",
            "     |  \n",
            "     |  __mul__(self, other)\n",
            "     |  \n",
            "     |  __ne__(self, other)\n",
            "     |      Return self!=value.\n",
            "     |  \n",
            "     |  __neg__(self)\n",
            "     |  \n",
            "     |  __pos__(self)\n",
            "     |  \n",
            "     |  __pow__(self, other)\n",
            "     |  \n",
            "     |  __radd__(self, other)\n",
            "     |  \n",
            "     |  __rdiv__(self, other)\n",
            "     |  \n",
            "     |  __rdivmod__(self, other)\n",
            "     |  \n",
            "     |  __repr__(self)\n",
            "     |      Return repr(self).\n",
            "     |  \n",
            "     |  __rfloordiv__(self, other)\n",
            "     |  \n",
            "     |  __rmod__(self, other)\n",
            "     |  \n",
            "     |  __rmul__(self, other)\n",
            "     |  \n",
            "     |  __rsub__(self, other)\n",
            "     |  \n",
            "     |  __rtruediv__(self, other)\n",
            "     |  \n",
            "     |  __setstate__(self, dict)\n",
            "     |  \n",
            "     |  __str__(self)\n",
            "     |      Return str(self).\n",
            "     |  \n",
            "     |  __sub__(self, other)\n",
            "     |  \n",
            "     |  __truediv__(self, other)\n",
            "     |  \n",
            "     |  convert(self, domain=None, kind=None, window=None)\n",
            "     |      Convert series to a different kind and/or domain and/or window.\n",
            "     |      \n",
            "     |      Parameters\n",
            "     |      ----------\n",
            "     |      domain : array_like, optional\n",
            "     |          The domain of the converted series. If the value is None,\n",
            "     |          the default domain of `kind` is used.\n",
            "     |      kind : class, optional\n",
            "     |          The polynomial series type class to which the current instance\n",
            "     |          should be converted. If kind is None, then the class of the\n",
            "     |          current instance is used.\n",
            "     |      window : array_like, optional\n",
            "     |          The window of the converted series. If the value is None,\n",
            "     |          the default window of `kind` is used.\n",
            "     |      \n",
            "     |      Returns\n",
            "     |      -------\n",
            "     |      new_series : series\n",
            "     |          The returned class can be of different type than the current\n",
            "     |          instance and/or have a different domain and/or different\n",
            "     |          window.\n",
            "     |      \n",
            "     |      Notes\n",
            "     |      -----\n",
            "     |      Conversion between domains and class types can result in\n",
            "     |      numerically ill defined series.\n",
            "     |      \n",
            "     |      Examples\n",
            "     |      --------\n",
            "     |  \n",
            "     |  copy(self)\n",
            "     |      Return a copy.\n",
            "     |      \n",
            "     |      Returns\n",
            "     |      -------\n",
            "     |      new_series : series\n",
            "     |          Copy of self.\n",
            "     |  \n",
            "     |  cutdeg(self, deg)\n",
            "     |      Truncate series to the given degree.\n",
            "     |      \n",
            "     |      Reduce the degree of the series to `deg` by discarding the\n",
            "     |      high order terms. If `deg` is greater than the current degree a\n",
            "     |      copy of the current series is returned. This can be useful in least\n",
            "     |      squares where the coefficients of the high degree terms may be very\n",
            "     |      small.\n",
            "     |      \n",
            "     |      .. versionadded:: 1.5.0\n",
            "     |      \n",
            "     |      Parameters\n",
            "     |      ----------\n",
            "     |      deg : non-negative int\n",
            "     |          The series is reduced to degree `deg` by discarding the high\n",
            "     |          order terms. The value of `deg` must be a non-negative integer.\n",
            "     |      \n",
            "     |      Returns\n",
            "     |      -------\n",
            "     |      new_series : series\n",
            "     |          New instance of series with reduced degree.\n",
            "     |  \n",
            "     |  degree(self)\n",
            "     |      The degree of the series.\n",
            "     |      \n",
            "     |      .. versionadded:: 1.5.0\n",
            "     |      \n",
            "     |      Returns\n",
            "     |      -------\n",
            "     |      degree : int\n",
            "     |          Degree of the series, one less than the number of coefficients.\n",
            "     |  \n",
            "     |  deriv(self, m=1)\n",
            "     |      Differentiate.\n",
            "     |      \n",
            "     |      Return a series instance of that is the derivative of the current\n",
            "     |      series.\n",
            "     |      \n",
            "     |      Parameters\n",
            "     |      ----------\n",
            "     |      m : non-negative int\n",
            "     |          Find the derivative of order `m`.\n",
            "     |      \n",
            "     |      Returns\n",
            "     |      -------\n",
            "     |      new_series : series\n",
            "     |          A new series representing the derivative. The domain is the same\n",
            "     |          as the domain of the differentiated series.\n",
            "     |  \n",
            "     |  has_samecoef(self, other)\n",
            "     |      Check if coefficients match.\n",
            "     |      \n",
            "     |      .. versionadded:: 1.6.0\n",
            "     |      \n",
            "     |      Parameters\n",
            "     |      ----------\n",
            "     |      other : class instance\n",
            "     |          The other class must have the ``coef`` attribute.\n",
            "     |      \n",
            "     |      Returns\n",
            "     |      -------\n",
            "     |      bool : boolean\n",
            "     |          True if the coefficients are the same, False otherwise.\n",
            "     |  \n",
            "     |  has_samedomain(self, other)\n",
            "     |      Check if domains match.\n",
            "     |      \n",
            "     |      .. versionadded:: 1.6.0\n",
            "     |      \n",
            "     |      Parameters\n",
            "     |      ----------\n",
            "     |      other : class instance\n",
            "     |          The other class must have the ``domain`` attribute.\n",
            "     |      \n",
            "     |      Returns\n",
            "     |      -------\n",
            "     |      bool : boolean\n",
            "     |          True if the domains are the same, False otherwise.\n",
            "     |  \n",
            "     |  has_sametype(self, other)\n",
            "     |      Check if types match.\n",
            "     |      \n",
            "     |      .. versionadded:: 1.7.0\n",
            "     |      \n",
            "     |      Parameters\n",
            "     |      ----------\n",
            "     |      other : object\n",
            "     |          Class instance.\n",
            "     |      \n",
            "     |      Returns\n",
            "     |      -------\n",
            "     |      bool : boolean\n",
            "     |          True if other is same class as self\n",
            "     |  \n",
            "     |  has_samewindow(self, other)\n",
            "     |      Check if windows match.\n",
            "     |      \n",
            "     |      .. versionadded:: 1.6.0\n",
            "     |      \n",
            "     |      Parameters\n",
            "     |      ----------\n",
            "     |      other : class instance\n",
            "     |          The other class must have the ``window`` attribute.\n",
            "     |      \n",
            "     |      Returns\n",
            "     |      -------\n",
            "     |      bool : boolean\n",
            "     |          True if the windows are the same, False otherwise.\n",
            "     |  \n",
            "     |  integ(self, m=1, k=[], lbnd=None)\n",
            "     |      Integrate.\n",
            "     |      \n",
            "     |      Return a series instance that is the definite integral of the\n",
            "     |      current series.\n",
            "     |      \n",
            "     |      Parameters\n",
            "     |      ----------\n",
            "     |      m : non-negative int\n",
            "     |          The number of integrations to perform.\n",
            "     |      k : array_like\n",
            "     |          Integration constants. The first constant is applied to the\n",
            "     |          first integration, the second to the second, and so on. The\n",
            "     |          list of values must less than or equal to `m` in length and any\n",
            "     |          missing values are set to zero.\n",
            "     |      lbnd : Scalar\n",
            "     |          The lower bound of the definite integral.\n",
            "     |      \n",
            "     |      Returns\n",
            "     |      -------\n",
            "     |      new_series : series\n",
            "     |          A new series representing the integral. The domain is the same\n",
            "     |          as the domain of the integrated series.\n",
            "     |  \n",
            "     |  linspace(self, n=100, domain=None)\n",
            "     |      Return x, y values at equally spaced points in domain.\n",
            "     |      \n",
            "     |      Returns the x, y values at `n` linearly spaced points across the\n",
            "     |      domain.  Here y is the value of the polynomial at the points x. By\n",
            "     |      default the domain is the same as that of the series instance.\n",
            "     |      This method is intended mostly as a plotting aid.\n",
            "     |      \n",
            "     |      .. versionadded:: 1.5.0\n",
            "     |      \n",
            "     |      Parameters\n",
            "     |      ----------\n",
            "     |      n : int, optional\n",
            "     |          Number of point pairs to return. The default value is 100.\n",
            "     |      domain : {None, array_like}, optional\n",
            "     |          If not None, the specified domain is used instead of that of\n",
            "     |          the calling instance. It should be of the form ``[beg,end]``.\n",
            "     |          The default is None which case the class domain is used.\n",
            "     |      \n",
            "     |      Returns\n",
            "     |      -------\n",
            "     |      x, y : ndarray\n",
            "     |          x is equal to linspace(self.domain[0], self.domain[1], n) and\n",
            "     |          y is the series evaluated at element of x.\n",
            "     |  \n",
            "     |  mapparms(self)\n",
            "     |      Return the mapping parameters.\n",
            "     |      \n",
            "     |      The returned values define a linear map ``off + scl*x`` that is\n",
            "     |      applied to the input arguments before the series is evaluated. The\n",
            "     |      map depends on the ``domain`` and ``window``; if the current\n",
            "     |      ``domain`` is equal to the ``window`` the resulting map is the\n",
            "     |      identity.  If the coefficients of the series instance are to be\n",
            "     |      used by themselves outside this class, then the linear function\n",
            "     |      must be substituted for the ``x`` in the standard representation of\n",
            "     |      the base polynomials.\n",
            "     |      \n",
            "     |      Returns\n",
            "     |      -------\n",
            "     |      off, scl : float or complex\n",
            "     |          The mapping function is defined by ``off + scl*x``.\n",
            "     |      \n",
            "     |      Notes\n",
            "     |      -----\n",
            "     |      If the current domain is the interval ``[l1, r1]`` and the window\n",
            "     |      is ``[l2, r2]``, then the linear mapping function ``L`` is\n",
            "     |      defined by the equations::\n",
            "     |      \n",
            "     |          L(l1) = l2\n",
            "     |          L(r1) = r2\n",
            "     |  \n",
            "     |  roots(self)\n",
            "     |      Return the roots of the series polynomial.\n",
            "     |      \n",
            "     |      Compute the roots for the series. Note that the accuracy of the\n",
            "     |      roots decrease the further outside the domain they lie.\n",
            "     |      \n",
            "     |      Returns\n",
            "     |      -------\n",
            "     |      roots : ndarray\n",
            "     |          Array containing the roots of the series.\n",
            "     |  \n",
            "     |  trim(self, tol=0)\n",
            "     |      Remove trailing coefficients\n",
            "     |      \n",
            "     |      Remove trailing coefficients until a coefficient is reached whose\n",
            "     |      absolute value greater than `tol` or the beginning of the series is\n",
            "     |      reached. If all the coefficients would be removed the series is set\n",
            "     |      to ``[0]``. A new series instance is returned with the new\n",
            "     |      coefficients.  The current instance remains unchanged.\n",
            "     |      \n",
            "     |      Parameters\n",
            "     |      ----------\n",
            "     |      tol : non-negative number.\n",
            "     |          All trailing coefficients less than `tol` will be removed.\n",
            "     |      \n",
            "     |      Returns\n",
            "     |      -------\n",
            "     |      new_series : series\n",
            "     |          Contains the new set of coefficients.\n",
            "     |  \n",
            "     |  truncate(self, size)\n",
            "     |      Truncate series to length `size`.\n",
            "     |      \n",
            "     |      Reduce the series to length `size` by discarding the high\n",
            "     |      degree terms. The value of `size` must be a positive integer. This\n",
            "     |      can be useful in least squares where the coefficients of the\n",
            "     |      high degree terms may be very small.\n",
            "     |      \n",
            "     |      Parameters\n",
            "     |      ----------\n",
            "     |      size : positive int\n",
            "     |          The series is reduced to length `size` by discarding the high\n",
            "     |          degree terms. The value of `size` must be a positive integer.\n",
            "     |      \n",
            "     |      Returns\n",
            "     |      -------\n",
            "     |      new_series : series\n",
            "     |          New instance of series with truncated coefficients.\n",
            "     |  \n",
            "     |  ----------------------------------------------------------------------\n",
            "     |  Class methods inherited from numpy.polynomial._polybase.ABCPolyBase:\n",
            "     |  \n",
            "     |  basis(deg, domain=None, window=None) from abc.ABCMeta\n",
            "     |      Series basis polynomial of degree `deg`.\n",
            "     |      \n",
            "     |      Returns the series representing the basis polynomial of degree `deg`.\n",
            "     |      \n",
            "     |      .. versionadded:: 1.7.0\n",
            "     |      \n",
            "     |      Parameters\n",
            "     |      ----------\n",
            "     |      deg : int\n",
            "     |          Degree of the basis polynomial for the series. Must be >= 0.\n",
            "     |      domain : {None, array_like}, optional\n",
            "     |          If given, the array must be of the form ``[beg, end]``, where\n",
            "     |          ``beg`` and ``end`` are the endpoints of the domain. If None is\n",
            "     |          given then the class domain is used. The default is None.\n",
            "     |      window : {None, array_like}, optional\n",
            "     |          If given, the resulting array must be if the form\n",
            "     |          ``[beg, end]``, where ``beg`` and ``end`` are the endpoints of\n",
            "     |          the window. If None is given then the class window is used. The\n",
            "     |          default is None.\n",
            "     |      \n",
            "     |      Returns\n",
            "     |      -------\n",
            "     |      new_series : series\n",
            "     |          A series with the coefficient of the `deg` term set to one and\n",
            "     |          all others zero.\n",
            "     |  \n",
            "     |  cast(series, domain=None, window=None) from abc.ABCMeta\n",
            "     |      Convert series to series of this class.\n",
            "     |      \n",
            "     |      The `series` is expected to be an instance of some polynomial\n",
            "     |      series of one of the types supported by by the numpy.polynomial\n",
            "     |      module, but could be some other class that supports the convert\n",
            "     |      method.\n",
            "     |      \n",
            "     |      .. versionadded:: 1.7.0\n",
            "     |      \n",
            "     |      Parameters\n",
            "     |      ----------\n",
            "     |      series : series\n",
            "     |          The series instance to be converted.\n",
            "     |      domain : {None, array_like}, optional\n",
            "     |          If given, the array must be of the form ``[beg, end]``, where\n",
            "     |          ``beg`` and ``end`` are the endpoints of the domain. If None is\n",
            "     |          given then the class domain is used. The default is None.\n",
            "     |      window : {None, array_like}, optional\n",
            "     |          If given, the resulting array must be if the form\n",
            "     |          ``[beg, end]``, where ``beg`` and ``end`` are the endpoints of\n",
            "     |          the window. If None is given then the class window is used. The\n",
            "     |          default is None.\n",
            "     |      \n",
            "     |      Returns\n",
            "     |      -------\n",
            "     |      new_series : series\n",
            "     |          A series of the same kind as the calling class and equal to\n",
            "     |          `series` when evaluated.\n",
            "     |      \n",
            "     |      See Also\n",
            "     |      --------\n",
            "     |      convert : similar instance method\n",
            "     |  \n",
            "     |  fit(x, y, deg, domain=None, rcond=None, full=False, w=None, window=None) from abc.ABCMeta\n",
            "     |      Least squares fit to data.\n",
            "     |      \n",
            "     |      Return a series instance that is the least squares fit to the data\n",
            "     |      `y` sampled at `x`. The domain of the returned instance can be\n",
            "     |      specified and this will often result in a superior fit with less\n",
            "     |      chance of ill conditioning.\n",
            "     |      \n",
            "     |      Parameters\n",
            "     |      ----------\n",
            "     |      x : array_like, shape (M,)\n",
            "     |          x-coordinates of the M sample points ``(x[i], y[i])``.\n",
            "     |      y : array_like, shape (M,) or (M, K)\n",
            "     |          y-coordinates of the sample points. Several data sets of sample\n",
            "     |          points sharing the same x-coordinates can be fitted at once by\n",
            "     |          passing in a 2D-array that contains one dataset per column.\n",
            "     |      deg : int or 1-D array_like\n",
            "     |          Degree(s) of the fitting polynomials. If `deg` is a single integer\n",
            "     |          all terms up to and including the `deg`'th term are included in the\n",
            "     |          fit. For NumPy versions >= 1.11.0 a list of integers specifying the\n",
            "     |          degrees of the terms to include may be used instead.\n",
            "     |      domain : {None, [beg, end], []}, optional\n",
            "     |          Domain to use for the returned series. If ``None``,\n",
            "     |          then a minimal domain that covers the points `x` is chosen.  If\n",
            "     |          ``[]`` the class domain is used. The default value was the\n",
            "     |          class domain in NumPy 1.4 and ``None`` in later versions.\n",
            "     |          The ``[]`` option was added in numpy 1.5.0.\n",
            "     |      rcond : float, optional\n",
            "     |          Relative condition number of the fit. Singular values smaller\n",
            "     |          than this relative to the largest singular value will be\n",
            "     |          ignored. The default value is len(x)*eps, where eps is the\n",
            "     |          relative precision of the float type, about 2e-16 in most\n",
            "     |          cases.\n",
            "     |      full : bool, optional\n",
            "     |          Switch determining nature of return value. When it is False\n",
            "     |          (the default) just the coefficients are returned, when True\n",
            "     |          diagnostic information from the singular value decomposition is\n",
            "     |          also returned.\n",
            "     |      w : array_like, shape (M,), optional\n",
            "     |          Weights. If not None the contribution of each point\n",
            "     |          ``(x[i],y[i])`` to the fit is weighted by `w[i]`. Ideally the\n",
            "     |          weights are chosen so that the errors of the products\n",
            "     |          ``w[i]*y[i]`` all have the same variance.  The default value is\n",
            "     |          None.\n",
            "     |      \n",
            "     |          .. versionadded:: 1.5.0\n",
            "     |      window : {[beg, end]}, optional\n",
            "     |          Window to use for the returned series. The default\n",
            "     |          value is the default class domain\n",
            "     |      \n",
            "     |          .. versionadded:: 1.6.0\n",
            "     |      \n",
            "     |      Returns\n",
            "     |      -------\n",
            "     |      new_series : series\n",
            "     |          A series that represents the least squares fit to the data and\n",
            "     |          has the domain and window specified in the call. If the\n",
            "     |          coefficients for the unscaled and unshifted basis polynomials are\n",
            "     |          of interest, do ``new_series.convert().coef``.\n",
            "     |      \n",
            "     |      [resid, rank, sv, rcond] : list\n",
            "     |          These values are only returned if `full` = True\n",
            "     |      \n",
            "     |          resid -- sum of squared residuals of the least squares fit\n",
            "     |          rank -- the numerical rank of the scaled Vandermonde matrix\n",
            "     |          sv -- singular values of the scaled Vandermonde matrix\n",
            "     |          rcond -- value of `rcond`.\n",
            "     |      \n",
            "     |          For more details, see `linalg.lstsq`.\n",
            "     |  \n",
            "     |  fromroots(roots, domain=[], window=None) from abc.ABCMeta\n",
            "     |      Return series instance that has the specified roots.\n",
            "     |      \n",
            "     |      Returns a series representing the product\n",
            "     |      ``(x - r[0])*(x - r[1])*...*(x - r[n-1])``, where ``r`` is a\n",
            "     |      list of roots.\n",
            "     |      \n",
            "     |      Parameters\n",
            "     |      ----------\n",
            "     |      roots : array_like\n",
            "     |          List of roots.\n",
            "     |      domain : {[], None, array_like}, optional\n",
            "     |          Domain for the resulting series. If None the domain is the\n",
            "     |          interval from the smallest root to the largest. If [] the\n",
            "     |          domain is the class domain. The default is [].\n",
            "     |      window : {None, array_like}, optional\n",
            "     |          Window for the returned series. If None the class window is\n",
            "     |          used. The default is None.\n",
            "     |      \n",
            "     |      Returns\n",
            "     |      -------\n",
            "     |      new_series : series\n",
            "     |          Series with the specified roots.\n",
            "     |  \n",
            "     |  identity(domain=None, window=None) from abc.ABCMeta\n",
            "     |      Identity function.\n",
            "     |      \n",
            "     |      If ``p`` is the returned series, then ``p(x) == x`` for all\n",
            "     |      values of x.\n",
            "     |      \n",
            "     |      Parameters\n",
            "     |      ----------\n",
            "     |      domain : {None, array_like}, optional\n",
            "     |          If given, the array must be of the form ``[beg, end]``, where\n",
            "     |          ``beg`` and ``end`` are the endpoints of the domain. If None is\n",
            "     |          given then the class domain is used. The default is None.\n",
            "     |      window : {None, array_like}, optional\n",
            "     |          If given, the resulting array must be if the form\n",
            "     |          ``[beg, end]``, where ``beg`` and ``end`` are the endpoints of\n",
            "     |          the window. If None is given then the class window is used. The\n",
            "     |          default is None.\n",
            "     |      \n",
            "     |      Returns\n",
            "     |      -------\n",
            "     |      new_series : series\n",
            "     |           Series of representing the identity.\n",
            "     |  \n",
            "     |  ----------------------------------------------------------------------\n",
            "     |  Data descriptors inherited from numpy.polynomial._polybase.ABCPolyBase:\n",
            "     |  \n",
            "     |  __dict__\n",
            "     |      dictionary for instance variables (if defined)\n",
            "     |  \n",
            "     |  __weakref__\n",
            "     |      list of weak references to the object (if defined)\n",
            "     |  \n",
            "     |  ----------------------------------------------------------------------\n",
            "     |  Data and other attributes inherited from numpy.polynomial._polybase.ABCPolyBase:\n",
            "     |  \n",
            "     |  __array_ufunc__ = None\n",
            "     |  \n",
            "     |  __hash__ = None\n",
            "     |  \n",
            "     |  maxpower = 100\n",
            "\n",
            "FUNCTIONS\n",
            "    polyadd(c1, c2)\n",
            "        Add one polynomial to another.\n",
            "        \n",
            "        Returns the sum of two polynomials `c1` + `c2`.  The arguments are\n",
            "        sequences of coefficients from lowest order term to highest, i.e.,\n",
            "        [1,2,3] represents the polynomial ``1 + 2*x + 3*x**2``.\n",
            "        \n",
            "        Parameters\n",
            "        ----------\n",
            "        c1, c2 : array_like\n",
            "            1-D arrays of polynomial coefficients ordered from low to high.\n",
            "        \n",
            "        Returns\n",
            "        -------\n",
            "        out : ndarray\n",
            "            The coefficient array representing their sum.\n",
            "        \n",
            "        See Also\n",
            "        --------\n",
            "        polysub, polymulx, polymul, polydiv, polypow\n",
            "        \n",
            "        Examples\n",
            "        --------\n",
            "        >>> from numpy.polynomial import polynomial as P\n",
            "        >>> c1 = (1,2,3)\n",
            "        >>> c2 = (3,2,1)\n",
            "        >>> sum = P.polyadd(c1,c2); sum\n",
            "        array([4.,  4.,  4.])\n",
            "        >>> P.polyval(2, sum) # 4 + 4(2) + 4(2**2)\n",
            "        28.0\n",
            "    \n",
            "    polyder(c, m=1, scl=1, axis=0)\n",
            "        Differentiate a polynomial.\n",
            "        \n",
            "        Returns the polynomial coefficients `c` differentiated `m` times along\n",
            "        `axis`.  At each iteration the result is multiplied by `scl` (the\n",
            "        scaling factor is for use in a linear change of variable).  The\n",
            "        argument `c` is an array of coefficients from low to high degree along\n",
            "        each axis, e.g., [1,2,3] represents the polynomial ``1 + 2*x + 3*x**2``\n",
            "        while [[1,2],[1,2]] represents ``1 + 1*x + 2*y + 2*x*y`` if axis=0 is\n",
            "        ``x`` and axis=1 is ``y``.\n",
            "        \n",
            "        Parameters\n",
            "        ----------\n",
            "        c : array_like\n",
            "            Array of polynomial coefficients. If c is multidimensional the\n",
            "            different axis correspond to different variables with the degree\n",
            "            in each axis given by the corresponding index.\n",
            "        m : int, optional\n",
            "            Number of derivatives taken, must be non-negative. (Default: 1)\n",
            "        scl : scalar, optional\n",
            "            Each differentiation is multiplied by `scl`.  The end result is\n",
            "            multiplication by ``scl**m``.  This is for use in a linear change\n",
            "            of variable. (Default: 1)\n",
            "        axis : int, optional\n",
            "            Axis over which the derivative is taken. (Default: 0).\n",
            "        \n",
            "            .. versionadded:: 1.7.0\n",
            "        \n",
            "        Returns\n",
            "        -------\n",
            "        der : ndarray\n",
            "            Polynomial coefficients of the derivative.\n",
            "        \n",
            "        See Also\n",
            "        --------\n",
            "        polyint\n",
            "        \n",
            "        Examples\n",
            "        --------\n",
            "        >>> from numpy.polynomial import polynomial as P\n",
            "        >>> c = (1,2,3,4) # 1 + 2x + 3x**2 + 4x**3\n",
            "        >>> P.polyder(c) # (d/dx)(c) = 2 + 6x + 12x**2\n",
            "        array([  2.,   6.,  12.])\n",
            "        >>> P.polyder(c,3) # (d**3/dx**3)(c) = 24\n",
            "        array([24.])\n",
            "        >>> P.polyder(c,scl=-1) # (d/d(-x))(c) = -2 - 6x - 12x**2\n",
            "        array([ -2.,  -6., -12.])\n",
            "        >>> P.polyder(c,2,-1) # (d**2/d(-x)**2)(c) = 6 + 24x\n",
            "        array([  6.,  24.])\n",
            "    \n",
            "    polydiv(c1, c2)\n",
            "        Divide one polynomial by another.\n",
            "        \n",
            "        Returns the quotient-with-remainder of two polynomials `c1` / `c2`.\n",
            "        The arguments are sequences of coefficients, from lowest order term\n",
            "        to highest, e.g., [1,2,3] represents ``1 + 2*x + 3*x**2``.\n",
            "        \n",
            "        Parameters\n",
            "        ----------\n",
            "        c1, c2 : array_like\n",
            "            1-D arrays of polynomial coefficients ordered from low to high.\n",
            "        \n",
            "        Returns\n",
            "        -------\n",
            "        [quo, rem] : ndarrays\n",
            "            Of coefficient series representing the quotient and remainder.\n",
            "        \n",
            "        See Also\n",
            "        --------\n",
            "        polyadd, polysub, polymulx, polymul, polypow\n",
            "        \n",
            "        Examples\n",
            "        --------\n",
            "        >>> from numpy.polynomial import polynomial as P\n",
            "        >>> c1 = (1,2,3)\n",
            "        >>> c2 = (3,2,1)\n",
            "        >>> P.polydiv(c1,c2)\n",
            "        (array([3.]), array([-8., -4.]))\n",
            "        >>> P.polydiv(c2,c1)\n",
            "        (array([ 0.33333333]), array([ 2.66666667,  1.33333333])) # may vary\n",
            "    \n",
            "    polyfit(x, y, deg, rcond=None, full=False, w=None)\n",
            "        Least-squares fit of a polynomial to data.\n",
            "        \n",
            "        Return the coefficients of a polynomial of degree `deg` that is the\n",
            "        least squares fit to the data values `y` given at points `x`. If `y` is\n",
            "        1-D the returned coefficients will also be 1-D. If `y` is 2-D multiple\n",
            "        fits are done, one for each column of `y`, and the resulting\n",
            "        coefficients are stored in the corresponding columns of a 2-D return.\n",
            "        The fitted polynomial(s) are in the form\n",
            "        \n",
            "        .. math::  p(x) = c_0 + c_1 * x + ... + c_n * x^n,\n",
            "        \n",
            "        where `n` is `deg`.\n",
            "        \n",
            "        Parameters\n",
            "        ----------\n",
            "        x : array_like, shape (`M`,)\n",
            "            x-coordinates of the `M` sample (data) points ``(x[i], y[i])``.\n",
            "        y : array_like, shape (`M`,) or (`M`, `K`)\n",
            "            y-coordinates of the sample points.  Several sets of sample points\n",
            "            sharing the same x-coordinates can be (independently) fit with one\n",
            "            call to `polyfit` by passing in for `y` a 2-D array that contains\n",
            "            one data set per column.\n",
            "        deg : int or 1-D array_like\n",
            "            Degree(s) of the fitting polynomials. If `deg` is a single integer\n",
            "            all terms up to and including the `deg`'th term are included in the\n",
            "            fit. For NumPy versions >= 1.11.0 a list of integers specifying the\n",
            "            degrees of the terms to include may be used instead.\n",
            "        rcond : float, optional\n",
            "            Relative condition number of the fit.  Singular values smaller\n",
            "            than `rcond`, relative to the largest singular value, will be\n",
            "            ignored.  The default value is ``len(x)*eps``, where `eps` is the\n",
            "            relative precision of the platform's float type, about 2e-16 in\n",
            "            most cases.\n",
            "        full : bool, optional\n",
            "            Switch determining the nature of the return value.  When ``False``\n",
            "            (the default) just the coefficients are returned; when ``True``,\n",
            "            diagnostic information from the singular value decomposition (used\n",
            "            to solve the fit's matrix equation) is also returned.\n",
            "        w : array_like, shape (`M`,), optional\n",
            "            Weights. If not None, the contribution of each point\n",
            "            ``(x[i],y[i])`` to the fit is weighted by `w[i]`. Ideally the\n",
            "            weights are chosen so that the errors of the products ``w[i]*y[i]``\n",
            "            all have the same variance.  The default value is None.\n",
            "        \n",
            "            .. versionadded:: 1.5.0\n",
            "        \n",
            "        Returns\n",
            "        -------\n",
            "        coef : ndarray, shape (`deg` + 1,) or (`deg` + 1, `K`)\n",
            "            Polynomial coefficients ordered from low to high.  If `y` was 2-D,\n",
            "            the coefficients in column `k` of `coef` represent the polynomial\n",
            "            fit to the data in `y`'s `k`-th column.\n",
            "        \n",
            "        [residuals, rank, singular_values, rcond] : list\n",
            "            These values are only returned if `full` = True\n",
            "        \n",
            "            resid -- sum of squared residuals of the least squares fit\n",
            "            rank -- the numerical rank of the scaled Vandermonde matrix\n",
            "            sv -- singular values of the scaled Vandermonde matrix\n",
            "            rcond -- value of `rcond`.\n",
            "        \n",
            "            For more details, see `linalg.lstsq`.\n",
            "        \n",
            "        Raises\n",
            "        ------\n",
            "        RankWarning\n",
            "            Raised if the matrix in the least-squares fit is rank deficient.\n",
            "            The warning is only raised if `full` == False.  The warnings can\n",
            "            be turned off by:\n",
            "        \n",
            "            >>> import warnings\n",
            "            >>> warnings.simplefilter('ignore', np.RankWarning)\n",
            "        \n",
            "        See Also\n",
            "        --------\n",
            "        chebfit, legfit, lagfit, hermfit, hermefit\n",
            "        polyval : Evaluates a polynomial.\n",
            "        polyvander : Vandermonde matrix for powers.\n",
            "        linalg.lstsq : Computes a least-squares fit from the matrix.\n",
            "        scipy.interpolate.UnivariateSpline : Computes spline fits.\n",
            "        \n",
            "        Notes\n",
            "        -----\n",
            "        The solution is the coefficients of the polynomial `p` that minimizes\n",
            "        the sum of the weighted squared errors\n",
            "        \n",
            "        .. math :: E = \\sum_j w_j^2 * |y_j - p(x_j)|^2,\n",
            "        \n",
            "        where the :math:`w_j` are the weights. This problem is solved by\n",
            "        setting up the (typically) over-determined matrix equation:\n",
            "        \n",
            "        .. math :: V(x) * c = w * y,\n",
            "        \n",
            "        where `V` is the weighted pseudo Vandermonde matrix of `x`, `c` are the\n",
            "        coefficients to be solved for, `w` are the weights, and `y` are the\n",
            "        observed values.  This equation is then solved using the singular value\n",
            "        decomposition of `V`.\n",
            "        \n",
            "        If some of the singular values of `V` are so small that they are\n",
            "        neglected (and `full` == ``False``), a `RankWarning` will be raised.\n",
            "        This means that the coefficient values may be poorly determined.\n",
            "        Fitting to a lower order polynomial will usually get rid of the warning\n",
            "        (but may not be what you want, of course; if you have independent\n",
            "        reason(s) for choosing the degree which isn't working, you may have to:\n",
            "        a) reconsider those reasons, and/or b) reconsider the quality of your\n",
            "        data).  The `rcond` parameter can also be set to a value smaller than\n",
            "        its default, but the resulting fit may be spurious and have large\n",
            "        contributions from roundoff error.\n",
            "        \n",
            "        Polynomial fits using double precision tend to \"fail\" at about\n",
            "        (polynomial) degree 20. Fits using Chebyshev or Legendre series are\n",
            "        generally better conditioned, but much can still depend on the\n",
            "        distribution of the sample points and the smoothness of the data.  If\n",
            "        the quality of the fit is inadequate, splines may be a good\n",
            "        alternative.\n",
            "        \n",
            "        Examples\n",
            "        --------\n",
            "        >>> np.random.seed(123)\n",
            "        >>> from numpy.polynomial import polynomial as P\n",
            "        >>> x = np.linspace(-1,1,51) # x \"data\": [-1, -0.96, ..., 0.96, 1]\n",
            "        >>> y = x**3 - x + np.random.randn(len(x)) # x^3 - x + N(0,1) \"noise\"\n",
            "        >>> c, stats = P.polyfit(x,y,3,full=True)\n",
            "        >>> np.random.seed(123)\n",
            "        >>> c # c[0], c[2] should be approx. 0, c[1] approx. -1, c[3] approx. 1\n",
            "        array([ 0.01909725, -1.30598256, -0.00577963,  1.02644286]) # may vary\n",
            "        >>> stats # note the large SSR, explaining the rather poor results\n",
            "         [array([ 38.06116253]), 4, array([ 1.38446749,  1.32119158,  0.50443316, # may vary\n",
            "                  0.28853036]), 1.1324274851176597e-014]\n",
            "        \n",
            "        Same thing without the added noise\n",
            "        \n",
            "        >>> y = x**3 - x\n",
            "        >>> c, stats = P.polyfit(x,y,3,full=True)\n",
            "        >>> c # c[0], c[2] should be \"very close to 0\", c[1] ~= -1, c[3] ~= 1\n",
            "        array([-6.36925336e-18, -1.00000000e+00, -4.08053781e-16,  1.00000000e+00])\n",
            "        >>> stats # note the minuscule SSR\n",
            "        [array([  7.46346754e-31]), 4, array([ 1.38446749,  1.32119158, # may vary\n",
            "                   0.50443316,  0.28853036]), 1.1324274851176597e-014]\n",
            "    \n",
            "    polyfromroots(roots)\n",
            "        Generate a monic polynomial with given roots.\n",
            "        \n",
            "        Return the coefficients of the polynomial\n",
            "        \n",
            "        .. math:: p(x) = (x - r_0) * (x - r_1) * ... * (x - r_n),\n",
            "        \n",
            "        where the `r_n` are the roots specified in `roots`.  If a zero has\n",
            "        multiplicity n, then it must appear in `roots` n times. For instance,\n",
            "        if 2 is a root of multiplicity three and 3 is a root of multiplicity 2,\n",
            "        then `roots` looks something like [2, 2, 2, 3, 3]. The roots can appear\n",
            "        in any order.\n",
            "        \n",
            "        If the returned coefficients are `c`, then\n",
            "        \n",
            "        .. math:: p(x) = c_0 + c_1 * x + ... +  x^n\n",
            "        \n",
            "        The coefficient of the last term is 1 for monic polynomials in this\n",
            "        form.\n",
            "        \n",
            "        Parameters\n",
            "        ----------\n",
            "        roots : array_like\n",
            "            Sequence containing the roots.\n",
            "        \n",
            "        Returns\n",
            "        -------\n",
            "        out : ndarray\n",
            "            1-D array of the polynomial's coefficients If all the roots are\n",
            "            real, then `out` is also real, otherwise it is complex.  (see\n",
            "            Examples below).\n",
            "        \n",
            "        See Also\n",
            "        --------\n",
            "        chebfromroots, legfromroots, lagfromroots, hermfromroots\n",
            "        hermefromroots\n",
            "        \n",
            "        Notes\n",
            "        -----\n",
            "        The coefficients are determined by multiplying together linear factors\n",
            "        of the form `(x - r_i)`, i.e.\n",
            "        \n",
            "        .. math:: p(x) = (x - r_0) (x - r_1) ... (x - r_n)\n",
            "        \n",
            "        where ``n == len(roots) - 1``; note that this implies that `1` is always\n",
            "        returned for :math:`a_n`.\n",
            "        \n",
            "        Examples\n",
            "        --------\n",
            "        >>> from numpy.polynomial import polynomial as P\n",
            "        >>> P.polyfromroots((-1,0,1)) # x(x - 1)(x + 1) = x^3 - x\n",
            "        array([ 0., -1.,  0.,  1.])\n",
            "        >>> j = complex(0,1)\n",
            "        >>> P.polyfromroots((-j,j)) # complex returned, though values are real\n",
            "        array([1.+0.j,  0.+0.j,  1.+0.j])\n",
            "    \n",
            "    polygrid2d(x, y, c)\n",
            "        Evaluate a 2-D polynomial on the Cartesian product of x and y.\n",
            "        \n",
            "        This function returns the values:\n",
            "        \n",
            "        .. math:: p(a,b) = \\sum_{i,j} c_{i,j} * a^i * b^j\n",
            "        \n",
            "        where the points `(a, b)` consist of all pairs formed by taking\n",
            "        `a` from `x` and `b` from `y`. The resulting points form a grid with\n",
            "        `x` in the first dimension and `y` in the second.\n",
            "        \n",
            "        The parameters `x` and `y` are converted to arrays only if they are\n",
            "        tuples or a lists, otherwise they are treated as a scalars. In either\n",
            "        case, either `x` and `y` or their elements must support multiplication\n",
            "        and addition both with themselves and with the elements of `c`.\n",
            "        \n",
            "        If `c` has fewer than two dimensions, ones are implicitly appended to\n",
            "        its shape to make it 2-D. The shape of the result will be c.shape[2:] +\n",
            "        x.shape + y.shape.\n",
            "        \n",
            "        Parameters\n",
            "        ----------\n",
            "        x, y : array_like, compatible objects\n",
            "            The two dimensional series is evaluated at the points in the\n",
            "            Cartesian product of `x` and `y`.  If `x` or `y` is a list or\n",
            "            tuple, it is first converted to an ndarray, otherwise it is left\n",
            "            unchanged and, if it isn't an ndarray, it is treated as a scalar.\n",
            "        c : array_like\n",
            "            Array of coefficients ordered so that the coefficients for terms of\n",
            "            degree i,j are contained in ``c[i,j]``. If `c` has dimension\n",
            "            greater than two the remaining indices enumerate multiple sets of\n",
            "            coefficients.\n",
            "        \n",
            "        Returns\n",
            "        -------\n",
            "        values : ndarray, compatible object\n",
            "            The values of the two dimensional polynomial at points in the Cartesian\n",
            "            product of `x` and `y`.\n",
            "        \n",
            "        See Also\n",
            "        --------\n",
            "        polyval, polyval2d, polyval3d, polygrid3d\n",
            "        \n",
            "        Notes\n",
            "        -----\n",
            "        \n",
            "        .. versionadded:: 1.7.0\n",
            "    \n",
            "    polygrid3d(x, y, z, c)\n",
            "        Evaluate a 3-D polynomial on the Cartesian product of x, y and z.\n",
            "        \n",
            "        This function returns the values:\n",
            "        \n",
            "        .. math:: p(a,b,c) = \\sum_{i,j,k} c_{i,j,k} * a^i * b^j * c^k\n",
            "        \n",
            "        where the points `(a, b, c)` consist of all triples formed by taking\n",
            "        `a` from `x`, `b` from `y`, and `c` from `z`. The resulting points form\n",
            "        a grid with `x` in the first dimension, `y` in the second, and `z` in\n",
            "        the third.\n",
            "        \n",
            "        The parameters `x`, `y`, and `z` are converted to arrays only if they\n",
            "        are tuples or a lists, otherwise they are treated as a scalars. In\n",
            "        either case, either `x`, `y`, and `z` or their elements must support\n",
            "        multiplication and addition both with themselves and with the elements\n",
            "        of `c`.\n",
            "        \n",
            "        If `c` has fewer than three dimensions, ones are implicitly appended to\n",
            "        its shape to make it 3-D. The shape of the result will be c.shape[3:] +\n",
            "        x.shape + y.shape + z.shape.\n",
            "        \n",
            "        Parameters\n",
            "        ----------\n",
            "        x, y, z : array_like, compatible objects\n",
            "            The three dimensional series is evaluated at the points in the\n",
            "            Cartesian product of `x`, `y`, and `z`.  If `x`,`y`, or `z` is a\n",
            "            list or tuple, it is first converted to an ndarray, otherwise it is\n",
            "            left unchanged and, if it isn't an ndarray, it is treated as a\n",
            "            scalar.\n",
            "        c : array_like\n",
            "            Array of coefficients ordered so that the coefficients for terms of\n",
            "            degree i,j are contained in ``c[i,j]``. If `c` has dimension\n",
            "            greater than two the remaining indices enumerate multiple sets of\n",
            "            coefficients.\n",
            "        \n",
            "        Returns\n",
            "        -------\n",
            "        values : ndarray, compatible object\n",
            "            The values of the two dimensional polynomial at points in the Cartesian\n",
            "            product of `x` and `y`.\n",
            "        \n",
            "        See Also\n",
            "        --------\n",
            "        polyval, polyval2d, polygrid2d, polyval3d\n",
            "        \n",
            "        Notes\n",
            "        -----\n",
            "        \n",
            "        .. versionadded:: 1.7.0\n",
            "    \n",
            "    polyint(c, m=1, k=[], lbnd=0, scl=1, axis=0)\n",
            "        Integrate a polynomial.\n",
            "        \n",
            "        Returns the polynomial coefficients `c` integrated `m` times from\n",
            "        `lbnd` along `axis`.  At each iteration the resulting series is\n",
            "        **multiplied** by `scl` and an integration constant, `k`, is added.\n",
            "        The scaling factor is for use in a linear change of variable.  (\"Buyer\n",
            "        beware\": note that, depending on what one is doing, one may want `scl`\n",
            "        to be the reciprocal of what one might expect; for more information,\n",
            "        see the Notes section below.) The argument `c` is an array of\n",
            "        coefficients, from low to high degree along each axis, e.g., [1,2,3]\n",
            "        represents the polynomial ``1 + 2*x + 3*x**2`` while [[1,2],[1,2]]\n",
            "        represents ``1 + 1*x + 2*y + 2*x*y`` if axis=0 is ``x`` and axis=1 is\n",
            "        ``y``.\n",
            "        \n",
            "        Parameters\n",
            "        ----------\n",
            "        c : array_like\n",
            "            1-D array of polynomial coefficients, ordered from low to high.\n",
            "        m : int, optional\n",
            "            Order of integration, must be positive. (Default: 1)\n",
            "        k : {[], list, scalar}, optional\n",
            "            Integration constant(s).  The value of the first integral at zero\n",
            "            is the first value in the list, the value of the second integral\n",
            "            at zero is the second value, etc.  If ``k == []`` (the default),\n",
            "            all constants are set to zero.  If ``m == 1``, a single scalar can\n",
            "            be given instead of a list.\n",
            "        lbnd : scalar, optional\n",
            "            The lower bound of the integral. (Default: 0)\n",
            "        scl : scalar, optional\n",
            "            Following each integration the result is *multiplied* by `scl`\n",
            "            before the integration constant is added. (Default: 1)\n",
            "        axis : int, optional\n",
            "            Axis over which the integral is taken. (Default: 0).\n",
            "        \n",
            "            .. versionadded:: 1.7.0\n",
            "        \n",
            "        Returns\n",
            "        -------\n",
            "        S : ndarray\n",
            "            Coefficient array of the integral.\n",
            "        \n",
            "        Raises\n",
            "        ------\n",
            "        ValueError\n",
            "            If ``m < 1``, ``len(k) > m``, ``np.ndim(lbnd) != 0``, or\n",
            "            ``np.ndim(scl) != 0``.\n",
            "        \n",
            "        See Also\n",
            "        --------\n",
            "        polyder\n",
            "        \n",
            "        Notes\n",
            "        -----\n",
            "        Note that the result of each integration is *multiplied* by `scl`.  Why\n",
            "        is this important to note?  Say one is making a linear change of\n",
            "        variable :math:`u = ax + b` in an integral relative to `x`. Then\n",
            "        :math:`dx = du/a`, so one will need to set `scl` equal to\n",
            "        :math:`1/a` - perhaps not what one would have first thought.\n",
            "        \n",
            "        Examples\n",
            "        --------\n",
            "        >>> from numpy.polynomial import polynomial as P\n",
            "        >>> c = (1,2,3)\n",
            "        >>> P.polyint(c) # should return array([0, 1, 1, 1])\n",
            "        array([0.,  1.,  1.,  1.])\n",
            "        >>> P.polyint(c,3) # should return array([0, 0, 0, 1/6, 1/12, 1/20])\n",
            "         array([ 0.        ,  0.        ,  0.        ,  0.16666667,  0.08333333, # may vary\n",
            "                 0.05      ])\n",
            "        >>> P.polyint(c,k=3) # should return array([3, 1, 1, 1])\n",
            "        array([3.,  1.,  1.,  1.])\n",
            "        >>> P.polyint(c,lbnd=-2) # should return array([6, 1, 1, 1])\n",
            "        array([6.,  1.,  1.,  1.])\n",
            "        >>> P.polyint(c,scl=-2) # should return array([0, -2, -2, -2])\n",
            "        array([ 0., -2., -2., -2.])\n",
            "    \n",
            "    polyline(off, scl)\n",
            "        Returns an array representing a linear polynomial.\n",
            "        \n",
            "        Parameters\n",
            "        ----------\n",
            "        off, scl : scalars\n",
            "            The \"y-intercept\" and \"slope\" of the line, respectively.\n",
            "        \n",
            "        Returns\n",
            "        -------\n",
            "        y : ndarray\n",
            "            This module's representation of the linear polynomial ``off +\n",
            "            scl*x``.\n",
            "        \n",
            "        See Also\n",
            "        --------\n",
            "        chebline\n",
            "        \n",
            "        Examples\n",
            "        --------\n",
            "        >>> from numpy.polynomial import polynomial as P\n",
            "        >>> P.polyline(1,-1)\n",
            "        array([ 1, -1])\n",
            "        >>> P.polyval(1, P.polyline(1,-1)) # should be 0\n",
            "        0.0\n",
            "    \n",
            "    polymul(c1, c2)\n",
            "        Multiply one polynomial by another.\n",
            "        \n",
            "        Returns the product of two polynomials `c1` * `c2`.  The arguments are\n",
            "        sequences of coefficients, from lowest order term to highest, e.g.,\n",
            "        [1,2,3] represents the polynomial ``1 + 2*x + 3*x**2.``\n",
            "        \n",
            "        Parameters\n",
            "        ----------\n",
            "        c1, c2 : array_like\n",
            "            1-D arrays of coefficients representing a polynomial, relative to the\n",
            "            \"standard\" basis, and ordered from lowest order term to highest.\n",
            "        \n",
            "        Returns\n",
            "        -------\n",
            "        out : ndarray\n",
            "            Of the coefficients of their product.\n",
            "        \n",
            "        See Also\n",
            "        --------\n",
            "        polyadd, polysub, polymulx, polydiv, polypow\n",
            "        \n",
            "        Examples\n",
            "        --------\n",
            "        >>> from numpy.polynomial import polynomial as P\n",
            "        >>> c1 = (1,2,3)\n",
            "        >>> c2 = (3,2,1)\n",
            "        >>> P.polymul(c1,c2)\n",
            "        array([  3.,   8.,  14.,   8.,   3.])\n",
            "    \n",
            "    polymulx(c)\n",
            "        Multiply a polynomial by x.\n",
            "        \n",
            "        Multiply the polynomial `c` by x, where x is the independent\n",
            "        variable.\n",
            "        \n",
            "        \n",
            "        Parameters\n",
            "        ----------\n",
            "        c : array_like\n",
            "            1-D array of polynomial coefficients ordered from low to\n",
            "            high.\n",
            "        \n",
            "        Returns\n",
            "        -------\n",
            "        out : ndarray\n",
            "            Array representing the result of the multiplication.\n",
            "        \n",
            "        See Also\n",
            "        --------\n",
            "        polyadd, polysub, polymul, polydiv, polypow\n",
            "        \n",
            "        Notes\n",
            "        -----\n",
            "        \n",
            "        .. versionadded:: 1.5.0\n",
            "    \n",
            "    polypow(c, pow, maxpower=None)\n",
            "        Raise a polynomial to a power.\n",
            "        \n",
            "        Returns the polynomial `c` raised to the power `pow`. The argument\n",
            "        `c` is a sequence of coefficients ordered from low to high. i.e.,\n",
            "        [1,2,3] is the series  ``1 + 2*x + 3*x**2.``\n",
            "        \n",
            "        Parameters\n",
            "        ----------\n",
            "        c : array_like\n",
            "            1-D array of array of series coefficients ordered from low to\n",
            "            high degree.\n",
            "        pow : integer\n",
            "            Power to which the series will be raised\n",
            "        maxpower : integer, optional\n",
            "            Maximum power allowed. This is mainly to limit growth of the series\n",
            "            to unmanageable size. Default is 16\n",
            "        \n",
            "        Returns\n",
            "        -------\n",
            "        coef : ndarray\n",
            "            Power series of power.\n",
            "        \n",
            "        See Also\n",
            "        --------\n",
            "        polyadd, polysub, polymulx, polymul, polydiv\n",
            "        \n",
            "        Examples\n",
            "        --------\n",
            "        >>> from numpy.polynomial import polynomial as P\n",
            "        >>> P.polypow([1,2,3], 2)\n",
            "        array([ 1., 4., 10., 12., 9.])\n",
            "    \n",
            "    polyroots(c)\n",
            "        Compute the roots of a polynomial.\n",
            "        \n",
            "        Return the roots (a.k.a. \"zeros\") of the polynomial\n",
            "        \n",
            "        .. math:: p(x) = \\sum_i c[i] * x^i.\n",
            "        \n",
            "        Parameters\n",
            "        ----------\n",
            "        c : 1-D array_like\n",
            "            1-D array of polynomial coefficients.\n",
            "        \n",
            "        Returns\n",
            "        -------\n",
            "        out : ndarray\n",
            "            Array of the roots of the polynomial. If all the roots are real,\n",
            "            then `out` is also real, otherwise it is complex.\n",
            "        \n",
            "        See Also\n",
            "        --------\n",
            "        chebroots\n",
            "        \n",
            "        Notes\n",
            "        -----\n",
            "        The root estimates are obtained as the eigenvalues of the companion\n",
            "        matrix, Roots far from the origin of the complex plane may have large\n",
            "        errors due to the numerical instability of the power series for such\n",
            "        values. Roots with multiplicity greater than 1 will also show larger\n",
            "        errors as the value of the series near such points is relatively\n",
            "        insensitive to errors in the roots. Isolated roots near the origin can\n",
            "        be improved by a few iterations of Newton's method.\n",
            "        \n",
            "        Examples\n",
            "        --------\n",
            "        >>> import numpy.polynomial.polynomial as poly\n",
            "        >>> poly.polyroots(poly.polyfromroots((-1,0,1)))\n",
            "        array([-1.,  0.,  1.])\n",
            "        >>> poly.polyroots(poly.polyfromroots((-1,0,1))).dtype\n",
            "        dtype('float64')\n",
            "        >>> j = complex(0,1)\n",
            "        >>> poly.polyroots(poly.polyfromroots((-j,0,j)))\n",
            "        array([  0.00000000e+00+0.j,   0.00000000e+00+1.j,   2.77555756e-17-1.j]) # may vary\n",
            "    \n",
            "    polysub(c1, c2)\n",
            "        Subtract one polynomial from another.\n",
            "        \n",
            "        Returns the difference of two polynomials `c1` - `c2`.  The arguments\n",
            "        are sequences of coefficients from lowest order term to highest, i.e.,\n",
            "        [1,2,3] represents the polynomial ``1 + 2*x + 3*x**2``.\n",
            "        \n",
            "        Parameters\n",
            "        ----------\n",
            "        c1, c2 : array_like\n",
            "            1-D arrays of polynomial coefficients ordered from low to\n",
            "            high.\n",
            "        \n",
            "        Returns\n",
            "        -------\n",
            "        out : ndarray\n",
            "            Of coefficients representing their difference.\n",
            "        \n",
            "        See Also\n",
            "        --------\n",
            "        polyadd, polymulx, polymul, polydiv, polypow\n",
            "        \n",
            "        Examples\n",
            "        --------\n",
            "        >>> from numpy.polynomial import polynomial as P\n",
            "        >>> c1 = (1,2,3)\n",
            "        >>> c2 = (3,2,1)\n",
            "        >>> P.polysub(c1,c2)\n",
            "        array([-2.,  0.,  2.])\n",
            "        >>> P.polysub(c2,c1) # -P.polysub(c1,c2)\n",
            "        array([ 2.,  0., -2.])\n",
            "    \n",
            "    polytrim = trimcoef(c, tol=0)\n",
            "        Remove \"small\" \"trailing\" coefficients from a polynomial.\n",
            "        \n",
            "        \"Small\" means \"small in absolute value\" and is controlled by the\n",
            "        parameter `tol`; \"trailing\" means highest order coefficient(s), e.g., in\n",
            "        ``[0, 1, 1, 0, 0]`` (which represents ``0 + x + x**2 + 0*x**3 + 0*x**4``)\n",
            "        both the 3-rd and 4-th order coefficients would be \"trimmed.\"\n",
            "        \n",
            "        Parameters\n",
            "        ----------\n",
            "        c : array_like\n",
            "            1-d array of coefficients, ordered from lowest order to highest.\n",
            "        tol : number, optional\n",
            "            Trailing (i.e., highest order) elements with absolute value less\n",
            "            than or equal to `tol` (default value is zero) are removed.\n",
            "        \n",
            "        Returns\n",
            "        -------\n",
            "        trimmed : ndarray\n",
            "            1-d array with trailing zeros removed.  If the resulting series\n",
            "            would be empty, a series containing a single zero is returned.\n",
            "        \n",
            "        Raises\n",
            "        ------\n",
            "        ValueError\n",
            "            If `tol` < 0\n",
            "        \n",
            "        See Also\n",
            "        --------\n",
            "        trimseq\n",
            "        \n",
            "        Examples\n",
            "        --------\n",
            "        >>> from numpy.polynomial import polyutils as pu\n",
            "        >>> pu.trimcoef((0,0,3,0,5,0,0))\n",
            "        array([0.,  0.,  3.,  0.,  5.])\n",
            "        >>> pu.trimcoef((0,0,1e-3,0,1e-5,0,0),1e-3) # item == tol is trimmed\n",
            "        array([0.])\n",
            "        >>> i = complex(0,1) # works for complex\n",
            "        >>> pu.trimcoef((3e-4,1e-3*(1-i),5e-4,2e-5*(1+i)), 1e-3)\n",
            "        array([0.0003+0.j   , 0.001 -0.001j])\n",
            "    \n",
            "    polyval(x, c, tensor=True)\n",
            "        Evaluate a polynomial at points x.\n",
            "        \n",
            "        If `c` is of length `n + 1`, this function returns the value\n",
            "        \n",
            "        .. math:: p(x) = c_0 + c_1 * x + ... + c_n * x^n\n",
            "        \n",
            "        The parameter `x` is converted to an array only if it is a tuple or a\n",
            "        list, otherwise it is treated as a scalar. In either case, either `x`\n",
            "        or its elements must support multiplication and addition both with\n",
            "        themselves and with the elements of `c`.\n",
            "        \n",
            "        If `c` is a 1-D array, then `p(x)` will have the same shape as `x`.  If\n",
            "        `c` is multidimensional, then the shape of the result depends on the\n",
            "        value of `tensor`. If `tensor` is true the shape will be c.shape[1:] +\n",
            "        x.shape. If `tensor` is false the shape will be c.shape[1:]. Note that\n",
            "        scalars have shape (,).\n",
            "        \n",
            "        Trailing zeros in the coefficients will be used in the evaluation, so\n",
            "        they should be avoided if efficiency is a concern.\n",
            "        \n",
            "        Parameters\n",
            "        ----------\n",
            "        x : array_like, compatible object\n",
            "            If `x` is a list or tuple, it is converted to an ndarray, otherwise\n",
            "            it is left unchanged and treated as a scalar. In either case, `x`\n",
            "            or its elements must support addition and multiplication with\n",
            "            with themselves and with the elements of `c`.\n",
            "        c : array_like\n",
            "            Array of coefficients ordered so that the coefficients for terms of\n",
            "            degree n are contained in c[n]. If `c` is multidimensional the\n",
            "            remaining indices enumerate multiple polynomials. In the two\n",
            "            dimensional case the coefficients may be thought of as stored in\n",
            "            the columns of `c`.\n",
            "        tensor : boolean, optional\n",
            "            If True, the shape of the coefficient array is extended with ones\n",
            "            on the right, one for each dimension of `x`. Scalars have dimension 0\n",
            "            for this action. The result is that every column of coefficients in\n",
            "            `c` is evaluated for every element of `x`. If False, `x` is broadcast\n",
            "            over the columns of `c` for the evaluation.  This keyword is useful\n",
            "            when `c` is multidimensional. The default value is True.\n",
            "        \n",
            "            .. versionadded:: 1.7.0\n",
            "        \n",
            "        Returns\n",
            "        -------\n",
            "        values : ndarray, compatible object\n",
            "            The shape of the returned array is described above.\n",
            "        \n",
            "        See Also\n",
            "        --------\n",
            "        polyval2d, polygrid2d, polyval3d, polygrid3d\n",
            "        \n",
            "        Notes\n",
            "        -----\n",
            "        The evaluation uses Horner's method.\n",
            "        \n",
            "        Examples\n",
            "        --------\n",
            "        >>> from numpy.polynomial.polynomial import polyval\n",
            "        >>> polyval(1, [1,2,3])\n",
            "        6.0\n",
            "        >>> a = np.arange(4).reshape(2,2)\n",
            "        >>> a\n",
            "        array([[0, 1],\n",
            "               [2, 3]])\n",
            "        >>> polyval(a, [1,2,3])\n",
            "        array([[ 1.,   6.],\n",
            "               [17.,  34.]])\n",
            "        >>> coef = np.arange(4).reshape(2,2) # multidimensional coefficients\n",
            "        >>> coef\n",
            "        array([[0, 1],\n",
            "               [2, 3]])\n",
            "        >>> polyval([1,2], coef, tensor=True)\n",
            "        array([[2.,  4.],\n",
            "               [4.,  7.]])\n",
            "        >>> polyval([1,2], coef, tensor=False)\n",
            "        array([2.,  7.])\n",
            "    \n",
            "    polyval2d(x, y, c)\n",
            "        Evaluate a 2-D polynomial at points (x, y).\n",
            "        \n",
            "        This function returns the value\n",
            "        \n",
            "        .. math:: p(x,y) = \\sum_{i,j} c_{i,j} * x^i * y^j\n",
            "        \n",
            "        The parameters `x` and `y` are converted to arrays only if they are\n",
            "        tuples or a lists, otherwise they are treated as a scalars and they\n",
            "        must have the same shape after conversion. In either case, either `x`\n",
            "        and `y` or their elements must support multiplication and addition both\n",
            "        with themselves and with the elements of `c`.\n",
            "        \n",
            "        If `c` has fewer than two dimensions, ones are implicitly appended to\n",
            "        its shape to make it 2-D. The shape of the result will be c.shape[2:] +\n",
            "        x.shape.\n",
            "        \n",
            "        Parameters\n",
            "        ----------\n",
            "        x, y : array_like, compatible objects\n",
            "            The two dimensional series is evaluated at the points `(x, y)`,\n",
            "            where `x` and `y` must have the same shape. If `x` or `y` is a list\n",
            "            or tuple, it is first converted to an ndarray, otherwise it is left\n",
            "            unchanged and, if it isn't an ndarray, it is treated as a scalar.\n",
            "        c : array_like\n",
            "            Array of coefficients ordered so that the coefficient of the term\n",
            "            of multi-degree i,j is contained in `c[i,j]`. If `c` has\n",
            "            dimension greater than two the remaining indices enumerate multiple\n",
            "            sets of coefficients.\n",
            "        \n",
            "        Returns\n",
            "        -------\n",
            "        values : ndarray, compatible object\n",
            "            The values of the two dimensional polynomial at points formed with\n",
            "            pairs of corresponding values from `x` and `y`.\n",
            "        \n",
            "        See Also\n",
            "        --------\n",
            "        polyval, polygrid2d, polyval3d, polygrid3d\n",
            "        \n",
            "        Notes\n",
            "        -----\n",
            "        \n",
            "        .. versionadded:: 1.7.0\n",
            "    \n",
            "    polyval3d(x, y, z, c)\n",
            "        Evaluate a 3-D polynomial at points (x, y, z).\n",
            "        \n",
            "        This function returns the values:\n",
            "        \n",
            "        .. math:: p(x,y,z) = \\sum_{i,j,k} c_{i,j,k} * x^i * y^j * z^k\n",
            "        \n",
            "        The parameters `x`, `y`, and `z` are converted to arrays only if\n",
            "        they are tuples or a lists, otherwise they are treated as a scalars and\n",
            "        they must have the same shape after conversion. In either case, either\n",
            "        `x`, `y`, and `z` or their elements must support multiplication and\n",
            "        addition both with themselves and with the elements of `c`.\n",
            "        \n",
            "        If `c` has fewer than 3 dimensions, ones are implicitly appended to its\n",
            "        shape to make it 3-D. The shape of the result will be c.shape[3:] +\n",
            "        x.shape.\n",
            "        \n",
            "        Parameters\n",
            "        ----------\n",
            "        x, y, z : array_like, compatible object\n",
            "            The three dimensional series is evaluated at the points\n",
            "            `(x, y, z)`, where `x`, `y`, and `z` must have the same shape.  If\n",
            "            any of `x`, `y`, or `z` is a list or tuple, it is first converted\n",
            "            to an ndarray, otherwise it is left unchanged and if it isn't an\n",
            "            ndarray it is  treated as a scalar.\n",
            "        c : array_like\n",
            "            Array of coefficients ordered so that the coefficient of the term of\n",
            "            multi-degree i,j,k is contained in ``c[i,j,k]``. If `c` has dimension\n",
            "            greater than 3 the remaining indices enumerate multiple sets of\n",
            "            coefficients.\n",
            "        \n",
            "        Returns\n",
            "        -------\n",
            "        values : ndarray, compatible object\n",
            "            The values of the multidimensional polynomial on points formed with\n",
            "            triples of corresponding values from `x`, `y`, and `z`.\n",
            "        \n",
            "        See Also\n",
            "        --------\n",
            "        polyval, polyval2d, polygrid2d, polygrid3d\n",
            "        \n",
            "        Notes\n",
            "        -----\n",
            "        \n",
            "        .. versionadded:: 1.7.0\n",
            "    \n",
            "    polyvalfromroots(x, r, tensor=True)\n",
            "        Evaluate a polynomial specified by its roots at points x.\n",
            "        \n",
            "        If `r` is of length `N`, this function returns the value\n",
            "        \n",
            "        .. math:: p(x) = \\prod_{n=1}^{N} (x - r_n)\n",
            "        \n",
            "        The parameter `x` is converted to an array only if it is a tuple or a\n",
            "        list, otherwise it is treated as a scalar. In either case, either `x`\n",
            "        or its elements must support multiplication and addition both with\n",
            "        themselves and with the elements of `r`.\n",
            "        \n",
            "        If `r` is a 1-D array, then `p(x)` will have the same shape as `x`.  If `r`\n",
            "        is multidimensional, then the shape of the result depends on the value of\n",
            "        `tensor`. If `tensor is ``True`` the shape will be r.shape[1:] + x.shape;\n",
            "        that is, each polynomial is evaluated at every value of `x`. If `tensor` is\n",
            "        ``False``, the shape will be r.shape[1:]; that is, each polynomial is\n",
            "        evaluated only for the corresponding broadcast value of `x`. Note that\n",
            "        scalars have shape (,).\n",
            "        \n",
            "        .. versionadded:: 1.12\n",
            "        \n",
            "        Parameters\n",
            "        ----------\n",
            "        x : array_like, compatible object\n",
            "            If `x` is a list or tuple, it is converted to an ndarray, otherwise\n",
            "            it is left unchanged and treated as a scalar. In either case, `x`\n",
            "            or its elements must support addition and multiplication with\n",
            "            with themselves and with the elements of `r`.\n",
            "        r : array_like\n",
            "            Array of roots. If `r` is multidimensional the first index is the\n",
            "            root index, while the remaining indices enumerate multiple\n",
            "            polynomials. For instance, in the two dimensional case the roots\n",
            "            of each polynomial may be thought of as stored in the columns of `r`.\n",
            "        tensor : boolean, optional\n",
            "            If True, the shape of the roots array is extended with ones on the\n",
            "            right, one for each dimension of `x`. Scalars have dimension 0 for this\n",
            "            action. The result is that every column of coefficients in `r` is\n",
            "            evaluated for every element of `x`. If False, `x` is broadcast over the\n",
            "            columns of `r` for the evaluation.  This keyword is useful when `r` is\n",
            "            multidimensional. The default value is True.\n",
            "        \n",
            "        Returns\n",
            "        -------\n",
            "        values : ndarray, compatible object\n",
            "            The shape of the returned array is described above.\n",
            "        \n",
            "        See Also\n",
            "        --------\n",
            "        polyroots, polyfromroots, polyval\n",
            "        \n",
            "        Examples\n",
            "        --------\n",
            "        >>> from numpy.polynomial.polynomial import polyvalfromroots\n",
            "        >>> polyvalfromroots(1, [1,2,3])\n",
            "        0.0\n",
            "        >>> a = np.arange(4).reshape(2,2)\n",
            "        >>> a\n",
            "        array([[0, 1],\n",
            "               [2, 3]])\n",
            "        >>> polyvalfromroots(a, [-1, 0, 1])\n",
            "        array([[-0.,   0.],\n",
            "               [ 6.,  24.]])\n",
            "        >>> r = np.arange(-2, 2).reshape(2,2) # multidimensional coefficients\n",
            "        >>> r # each column of r defines one polynomial\n",
            "        array([[-2, -1],\n",
            "               [ 0,  1]])\n",
            "        >>> b = [-2, 1]\n",
            "        >>> polyvalfromroots(b, r, tensor=True)\n",
            "        array([[-0.,  3.],\n",
            "               [ 3., 0.]])\n",
            "        >>> polyvalfromroots(b, r, tensor=False)\n",
            "        array([-0.,  0.])\n",
            "    \n",
            "    polyvander(x, deg)\n",
            "        Vandermonde matrix of given degree.\n",
            "        \n",
            "        Returns the Vandermonde matrix of degree `deg` and sample points\n",
            "        `x`. The Vandermonde matrix is defined by\n",
            "        \n",
            "        .. math:: V[..., i] = x^i,\n",
            "        \n",
            "        where `0 <= i <= deg`. The leading indices of `V` index the elements of\n",
            "        `x` and the last index is the power of `x`.\n",
            "        \n",
            "        If `c` is a 1-D array of coefficients of length `n + 1` and `V` is the\n",
            "        matrix ``V = polyvander(x, n)``, then ``np.dot(V, c)`` and\n",
            "        ``polyval(x, c)`` are the same up to roundoff. This equivalence is\n",
            "        useful both for least squares fitting and for the evaluation of a large\n",
            "        number of polynomials of the same degree and sample points.\n",
            "        \n",
            "        Parameters\n",
            "        ----------\n",
            "        x : array_like\n",
            "            Array of points. The dtype is converted to float64 or complex128\n",
            "            depending on whether any of the elements are complex. If `x` is\n",
            "            scalar it is converted to a 1-D array.\n",
            "        deg : int\n",
            "            Degree of the resulting matrix.\n",
            "        \n",
            "        Returns\n",
            "        -------\n",
            "        vander : ndarray.\n",
            "            The Vandermonde matrix. The shape of the returned matrix is\n",
            "            ``x.shape + (deg + 1,)``, where the last index is the power of `x`.\n",
            "            The dtype will be the same as the converted `x`.\n",
            "        \n",
            "        See Also\n",
            "        --------\n",
            "        polyvander2d, polyvander3d\n",
            "    \n",
            "    polyvander2d(x, y, deg)\n",
            "        Pseudo-Vandermonde matrix of given degrees.\n",
            "        \n",
            "        Returns the pseudo-Vandermonde matrix of degrees `deg` and sample\n",
            "        points `(x, y)`. The pseudo-Vandermonde matrix is defined by\n",
            "        \n",
            "        .. math:: V[..., (deg[1] + 1)*i + j] = x^i * y^j,\n",
            "        \n",
            "        where `0 <= i <= deg[0]` and `0 <= j <= deg[1]`. The leading indices of\n",
            "        `V` index the points `(x, y)` and the last index encodes the powers of\n",
            "        `x` and `y`.\n",
            "        \n",
            "        If ``V = polyvander2d(x, y, [xdeg, ydeg])``, then the columns of `V`\n",
            "        correspond to the elements of a 2-D coefficient array `c` of shape\n",
            "        (xdeg + 1, ydeg + 1) in the order\n",
            "        \n",
            "        .. math:: c_{00}, c_{01}, c_{02} ... , c_{10}, c_{11}, c_{12} ...\n",
            "        \n",
            "        and ``np.dot(V, c.flat)`` and ``polyval2d(x, y, c)`` will be the same\n",
            "        up to roundoff. This equivalence is useful both for least squares\n",
            "        fitting and for the evaluation of a large number of 2-D polynomials\n",
            "        of the same degrees and sample points.\n",
            "        \n",
            "        Parameters\n",
            "        ----------\n",
            "        x, y : array_like\n",
            "            Arrays of point coordinates, all of the same shape. The dtypes\n",
            "            will be converted to either float64 or complex128 depending on\n",
            "            whether any of the elements are complex. Scalars are converted to\n",
            "            1-D arrays.\n",
            "        deg : list of ints\n",
            "            List of maximum degrees of the form [x_deg, y_deg].\n",
            "        \n",
            "        Returns\n",
            "        -------\n",
            "        vander2d : ndarray\n",
            "            The shape of the returned matrix is ``x.shape + (order,)``, where\n",
            "            :math:`order = (deg[0]+1)*(deg([1]+1)`.  The dtype will be the same\n",
            "            as the converted `x` and `y`.\n",
            "        \n",
            "        See Also\n",
            "        --------\n",
            "        polyvander, polyvander3d, polyval2d, polyval3d\n",
            "    \n",
            "    polyvander3d(x, y, z, deg)\n",
            "        Pseudo-Vandermonde matrix of given degrees.\n",
            "        \n",
            "        Returns the pseudo-Vandermonde matrix of degrees `deg` and sample\n",
            "        points `(x, y, z)`. If `l, m, n` are the given degrees in `x, y, z`,\n",
            "        then The pseudo-Vandermonde matrix is defined by\n",
            "        \n",
            "        .. math:: V[..., (m+1)(n+1)i + (n+1)j + k] = x^i * y^j * z^k,\n",
            "        \n",
            "        where `0 <= i <= l`, `0 <= j <= m`, and `0 <= j <= n`.  The leading\n",
            "        indices of `V` index the points `(x, y, z)` and the last index encodes\n",
            "        the powers of `x`, `y`, and `z`.\n",
            "        \n",
            "        If ``V = polyvander3d(x, y, z, [xdeg, ydeg, zdeg])``, then the columns\n",
            "        of `V` correspond to the elements of a 3-D coefficient array `c` of\n",
            "        shape (xdeg + 1, ydeg + 1, zdeg + 1) in the order\n",
            "        \n",
            "        .. math:: c_{000}, c_{001}, c_{002},... , c_{010}, c_{011}, c_{012},...\n",
            "        \n",
            "        and  ``np.dot(V, c.flat)`` and ``polyval3d(x, y, z, c)`` will be the\n",
            "        same up to roundoff. This equivalence is useful both for least squares\n",
            "        fitting and for the evaluation of a large number of 3-D polynomials\n",
            "        of the same degrees and sample points.\n",
            "        \n",
            "        Parameters\n",
            "        ----------\n",
            "        x, y, z : array_like\n",
            "            Arrays of point coordinates, all of the same shape. The dtypes will\n",
            "            be converted to either float64 or complex128 depending on whether\n",
            "            any of the elements are complex. Scalars are converted to 1-D\n",
            "            arrays.\n",
            "        deg : list of ints\n",
            "            List of maximum degrees of the form [x_deg, y_deg, z_deg].\n",
            "        \n",
            "        Returns\n",
            "        -------\n",
            "        vander3d : ndarray\n",
            "            The shape of the returned matrix is ``x.shape + (order,)``, where\n",
            "            :math:`order = (deg[0]+1)*(deg([1]+1)*(deg[2]+1)`.  The dtype will\n",
            "            be the same as the converted `x`, `y`, and `z`.\n",
            "        \n",
            "        See Also\n",
            "        --------\n",
            "        polyvander, polyvander3d, polyval2d, polyval3d\n",
            "        \n",
            "        Notes\n",
            "        -----\n",
            "        \n",
            "        .. versionadded:: 1.7.0\n",
            "\n",
            "DATA\n",
            "    __all__ = ['polyzero', 'polyone', 'polyx', 'polydomain', 'polyline', '...\n",
            "    __warningregistry__ = {'version': 1990, ('The fit may be poorly condit...\n",
            "    polydomain = array([-1,  1])\n",
            "    polyone = array([1])\n",
            "    polyx = array([0, 1])\n",
            "    polyzero = array([0])\n",
            "\n",
            "FILE\n",
            "    /usr/local/lib/python3.7/dist-packages/numpy/polynomial/polynomial.py\n",
            "\n",
            "\n"
          ]
        }
      ],
      "source": [
        "help(P.polynomial)"
      ]
    },
    {
      "cell_type": "code",
      "execution_count": 151,
      "metadata": {
        "colab": {
          "base_uri": "https://localhost:8080/",
          "height": 39
        },
        "id": "6bOtx9vO16sI",
        "outputId": "5c662f0f-da89-4b5e-f81c-0530704df2ed"
      },
      "outputs": [
        {
          "output_type": "execute_result",
          "data": {
            "text/latex": "$x \\mapsto \\text{1.0} + \\text{2.0}\\,x + \\text{3.0}\\,x^{2}$",
            "text/plain": [
              "Polynomial([1., 2., 3.], domain=[-1,  1], window=[-1,  1])"
            ]
          },
          "metadata": {},
          "execution_count": 151
        }
      ],
      "source": [
        "p1"
      ]
    },
    {
      "cell_type": "code",
      "execution_count": 152,
      "metadata": {
        "colab": {
          "base_uri": "https://localhost:8080/",
          "height": 39
        },
        "id": "Fx4UMb7o16sJ",
        "outputId": "aea9c6e5-668f-4eb0-ef1b-fe5e14388408"
      },
      "outputs": [
        {
          "output_type": "execute_result",
          "data": {
            "text/latex": "$x \\mapsto \\color{LightGray}{\\text{0.0}} + \\text{1.0}\\,x + \\text{1.0}\\,x^{2} + \\text{1.0}\\,x^{3}$",
            "text/plain": [
              "Polynomial([0., 1., 1., 1.], domain=[-1.,  1.], window=[-1.,  1.])"
            ]
          },
          "metadata": {},
          "execution_count": 152
        }
      ],
      "source": [
        "pi = p1.integ()\n",
        "pi"
      ]
    },
    {
      "cell_type": "code",
      "execution_count": 153,
      "metadata": {
        "colab": {
          "base_uri": "https://localhost:8080/",
          "height": 39
        },
        "id": "u95Px3QO16sJ",
        "outputId": "8b0b026b-cf33-4174-945a-56f1e4752ad6"
      },
      "outputs": [
        {
          "output_type": "execute_result",
          "data": {
            "text/latex": "$x \\mapsto \\text{1.0} + \\text{2.0}\\,x + \\text{3.0}\\,x^{2}$",
            "text/plain": [
              "Polynomial([1., 2., 3.], domain=[-1.,  1.], window=[-1.,  1.])"
            ]
          },
          "metadata": {},
          "execution_count": 153
        }
      ],
      "source": [
        "pi.deriv()"
      ]
    },
    {
      "cell_type": "code",
      "execution_count": 154,
      "metadata": {
        "colab": {
          "base_uri": "https://localhost:8080/",
          "height": 39
        },
        "id": "lbMpgnHI16sJ",
        "outputId": "ceac08ac-13c9-4f13-d74b-9ba106df5c97"
      },
      "outputs": [
        {
          "output_type": "execute_result",
          "data": {
            "text/latex": "$x \\mapsto \\color{LightGray}{\\text{0.0}} + \\text{1.0}\\,x$",
            "text/plain": [
              "Polynomial([0., 1.], domain=[-1,  1], window=[-1,  1])"
            ]
          },
          "metadata": {},
          "execution_count": 154
        }
      ],
      "source": [
        "p0 = P.Polynomial([0, 1])\n",
        "p0"
      ]
    },
    {
      "cell_type": "code",
      "execution_count": 155,
      "metadata": {
        "colab": {
          "base_uri": "https://localhost:8080/",
          "height": 39
        },
        "id": "LoYaOrRR16sJ",
        "outputId": "ec019502-3a04-46af-f593-100fc5cee417"
      },
      "outputs": [
        {
          "output_type": "execute_result",
          "data": {
            "text/latex": "$x \\mapsto \\text{1.0}$",
            "text/plain": [
              "Polynomial([1.], domain=[-1.,  1.], window=[-1.,  1.])"
            ]
          },
          "metadata": {},
          "execution_count": 155
        }
      ],
      "source": [
        "p0.deriv()"
      ]
    },
    {
      "cell_type": "code",
      "execution_count": 156,
      "metadata": {
        "colab": {
          "base_uri": "https://localhost:8080/",
          "height": 39
        },
        "id": "9jFTvTqz16sJ",
        "outputId": "9a83b9ac-9170-4e94-8b91-bc399ad519bc"
      },
      "outputs": [
        {
          "output_type": "execute_result",
          "data": {
            "text/latex": "$x \\mapsto \\color{LightGray}{\\text{0.0}}\\color{LightGray}{ + \\text{0.0}\\,x} + \\text{0.5}\\,x^{2}$",
            "text/plain": [
              "Polynomial([0. , 0. , 0.5], domain=[-1.,  1.], window=[-1.,  1.])"
            ]
          },
          "metadata": {},
          "execution_count": 156
        }
      ],
      "source": [
        "p0.integ()"
      ]
    },
    {
      "cell_type": "code",
      "execution_count": 157,
      "metadata": {
        "colab": {
          "base_uri": "https://localhost:8080/",
          "height": 39
        },
        "id": "pw0wjlMp16sK",
        "outputId": "ca9fb6c4-a0d9-4c0a-ac8f-e2ba24ee324b"
      },
      "outputs": [
        {
          "output_type": "execute_result",
          "data": {
            "text/latex": "$x \\mapsto \\color{LightGray}{\\text{0.0}}\\color{LightGray}{ + \\text{0.0}\\,x}\\color{LightGray}{ + \\text{0.0}\\,x^{2}} + \\text{0.16666666666666666}\\,x^{3}$",
            "text/plain": [
              "Polynomial([0.        , 0.        , 0.        , 0.16666667], domain=[-1.,  1.], window=[-1.,  1.])"
            ]
          },
          "metadata": {},
          "execution_count": 157
        }
      ],
      "source": [
        "p0.integ(2)"
      ]
    },
    {
      "cell_type": "code",
      "execution_count": 158,
      "metadata": {
        "colab": {
          "base_uri": "https://localhost:8080/",
          "height": 39
        },
        "id": "zNfe7oKe16sK",
        "outputId": "af5a7b16-05e3-49b1-86e0-cdaf3a6c8e79"
      },
      "outputs": [
        {
          "output_type": "execute_result",
          "data": {
            "text/latex": "$x \\mapsto \\text{-4.5}\\color{LightGray}{ + \\text{0.0}\\,x} + \\text{0.5}\\,x^{2}$",
            "text/plain": [
              "Polynomial([-4.5,  0. ,  0.5], domain=[-1.,  1.], window=[-1.,  1.])"
            ]
          },
          "metadata": {},
          "execution_count": 158
        }
      ],
      "source": [
        "p0.integ(m=1, lbnd=-3)"
      ]
    },
    {
      "cell_type": "code",
      "execution_count": 159,
      "metadata": {
        "colab": {
          "base_uri": "https://localhost:8080/",
          "height": 39
        },
        "id": "mk8sB0Jd16sK",
        "outputId": "bef55801-c211-48b6-807b-04597de60305"
      },
      "outputs": [
        {
          "output_type": "execute_result",
          "data": {
            "text/latex": "$x \\mapsto \\text{-0.5}\\,{T}_{0}(x)\\color{LightGray}{ + \\text{0.0}\\,{T}_{1}(x)} + \\text{0.5}\\,{T}_{2}(x)$",
            "text/plain": [
              "Chebyshev([-0.5,  0. ,  0.5], domain=[-1.,  1.], window=[-1.,  1.])"
            ]
          },
          "metadata": {},
          "execution_count": 159
        }
      ],
      "source": [
        "c1 = P.Chebyshev.fromroots([-1, 1])\n",
        "c1"
      ]
    },
    {
      "cell_type": "markdown",
      "metadata": {
        "id": "BoKV1eNi16sK"
      },
      "source": [
        "# Интерполяция, а не работа с полиномами"
      ]
    },
    {
      "cell_type": "code",
      "execution_count": 160,
      "metadata": {
        "id": "DhmfJla916sL"
      },
      "outputs": [],
      "source": [
        "import numpy as np"
      ]
    },
    {
      "cell_type": "code",
      "execution_count": 161,
      "metadata": {
        "colab": {
          "base_uri": "https://localhost:8080/"
        },
        "id": "LkN66zDM16sL",
        "outputId": "cc5fbaa7-4f34-4dc1-cde9-57aeb3945a9c"
      },
      "outputs": [
        {
          "output_type": "execute_result",
          "data": {
            "text/plain": [
              "array([1, 2, 3, 4])"
            ]
          },
          "metadata": {},
          "execution_count": 161
        }
      ],
      "source": [
        "x = np.array([1, 2, 3, 4])\n",
        "x"
      ]
    },
    {
      "cell_type": "code",
      "execution_count": 162,
      "metadata": {
        "colab": {
          "base_uri": "https://localhost:8080/"
        },
        "id": "t-DDa5i216sM",
        "outputId": "67a25f3e-50d2-4e66-b6ac-da33de08656a"
      },
      "outputs": [
        {
          "output_type": "execute_result",
          "data": {
            "text/plain": [
              "array([1, 3, 5, 4])"
            ]
          },
          "metadata": {},
          "execution_count": 162
        }
      ],
      "source": [
        "y = np.array([1, 3, 5, 4])\n",
        "y"
      ]
    },
    {
      "cell_type": "markdown",
      "metadata": {
        "id": "EvMMy_WR16sM"
      },
      "source": [
        "максимальная степень полинома - на 1 меньше, чем количество точек"
      ]
    },
    {
      "cell_type": "code",
      "execution_count": 163,
      "metadata": {
        "colab": {
          "base_uri": "https://localhost:8080/"
        },
        "id": "xOptUAIX16sM",
        "outputId": "84540126-9f23-4d7b-db9e-ffa996702bcc"
      },
      "outputs": [
        {
          "output_type": "execute_result",
          "data": {
            "text/plain": [
              "3"
            ]
          },
          "metadata": {},
          "execution_count": 163
        }
      ],
      "source": [
        "deg = len(x) -1 \n",
        "deg"
      ]
    },
    {
      "cell_type": "markdown",
      "metadata": {
        "id": "JIvqssOf16sM"
      },
      "source": [
        "Построим интерполяционный многочлен (полиномиальный)"
      ]
    },
    {
      "cell_type": "code",
      "execution_count": 164,
      "metadata": {
        "colab": {
          "base_uri": "https://localhost:8080/",
          "height": 83
        },
        "id": "ehOJShpq16sM",
        "outputId": "c73c2644-bc34-44fc-f6df-cb8edede6fb8"
      },
      "outputs": [
        {
          "output_type": "execute_result",
          "data": {
            "text/latex": "$x \\mapsto \\text{4.187500000000002} + \\text{3.187499999999995}\\,\\left(\\text{-1.6666666666666667} + \\text{0.6666666666666666}x\\right) - \\text{1.687500000000004}\\,\\left(\\text{-1.6666666666666667} + \\text{0.6666666666666666}x\\right)^{2} - \\text{1.6874999999999944}\\,\\left(\\text{-1.6666666666666667} + \\text{0.6666666666666666}x\\right)^{3}$",
            "text/plain": [
              "Polynomial([ 4.1875,  3.1875, -1.6875, -1.6875], domain=[1., 4.], window=[-1.,  1.])"
            ]
          },
          "metadata": {},
          "execution_count": 164
        }
      ],
      "source": [
        "f1b = P.Polynomial.fit(x, y, deg)\n",
        "f1b"
      ]
    },
    {
      "cell_type": "code",
      "execution_count": 165,
      "metadata": {
        "colab": {
          "base_uri": "https://localhost:8080/",
          "height": 82
        },
        "id": "jbQHFCZG16sN",
        "outputId": "2fad2e6e-f888-4795-a356-d2b91684fc73"
      },
      "outputs": [
        {
          "output_type": "execute_result",
          "data": {
            "text/latex": "$x \\mapsto \\text{3.343750000000001}\\,{T}_{0}(\\text{-1.6666666666666667} + \\text{0.6666666666666666}x) + \\text{1.9218749999999984}\\,{T}_{1}(\\text{-1.6666666666666667} + \\text{0.6666666666666666}x) - \\text{0.8437500000000032}\\,{T}_{2}(\\text{-1.6666666666666667} + \\text{0.6666666666666666}x) - \\text{0.42187499999999833}\\,{T}_{3}(\\text{-1.6666666666666667} + \\text{0.6666666666666666}x)$",
            "text/plain": [
              "Chebyshev([ 3.34375 ,  1.921875, -0.84375 , -0.421875], domain=[1., 4.], window=[-1.,  1.])"
            ]
          },
          "metadata": {},
          "execution_count": 165
        }
      ],
      "source": [
        "f2b = P.Chebyshev.fit(x, y, deg)\n",
        "f2b"
      ]
    },
    {
      "cell_type": "code",
      "execution_count": 166,
      "metadata": {
        "id": "5NxUQFYJ16sN"
      },
      "outputs": [],
      "source": [
        "import matplotlib.pyplot as plt"
      ]
    },
    {
      "cell_type": "code",
      "execution_count": 167,
      "metadata": {
        "id": "1Vvt7YzK16sN"
      },
      "outputs": [],
      "source": [
        "xx = np.linspace(x.min(), x.max(), 100)"
      ]
    },
    {
      "cell_type": "code",
      "execution_count": 168,
      "metadata": {
        "colab": {
          "base_uri": "https://localhost:8080/",
          "height": 299
        },
        "id": "sWF3vUMs16sN",
        "outputId": "81df26b1-0e4f-4805-fe4c-74d4fcd1caa4"
      },
      "outputs": [
        {
          "output_type": "execute_result",
          "data": {
            "text/plain": [
              "<matplotlib.legend.Legend at 0x7f4522c5db10>"
            ]
          },
          "metadata": {},
          "execution_count": 168
        },
        {
          "output_type": "display_data",
          "data": {
            "image/png": "[encoded data removed]",
            "text/plain": [
              "<Figure size 864x288 with 1 Axes>"
            ]
          },
          "metadata": {
            "needs_background": "light"
          }
        }
      ],
      "source": [
        "fig, ax = plt.subplots(1, 1, figsize=(12, 4))\n",
        "ax.set_title('Интерполяция полиномиальными многочленами и многочленами Чебышева')\n",
        "ax.plot(xx, f1b(xx), 'b', label='полиномиальный')\n",
        "ax.plot(xx, f2b(xx), 'r--', label='Чебышева')\n",
        "ax.plot(x, y, 'go', label='узлы интерполяции')\n",
        "ax.legend()\n"
      ]
    },
    {
      "cell_type": "markdown",
      "metadata": {
        "id": "XG4Q5r9t16sN"
      },
      "source": [
        "# Пример биений на функции Рунге"
      ]
    },
    {
      "cell_type": "code",
      "execution_count": 169,
      "metadata": {
        "id": "LNGEqefm16sN"
      },
      "outputs": [],
      "source": [
        "def runge(x):\n",
        "    return 1/(1 + 25 * x**2)"
      ]
    },
    {
      "cell_type": "code",
      "execution_count": 170,
      "metadata": {
        "colab": {
          "base_uri": "https://localhost:8080/"
        },
        "id": "WVw_oQzE16sN",
        "outputId": "8936f7c1-6dd3-40fc-e729-698e44062791"
      },
      "outputs": [
        {
          "output_type": "execute_result",
          "data": {
            "text/plain": [
              "1.0"
            ]
          },
          "metadata": {},
          "execution_count": 170
        }
      ],
      "source": [
        "runge(0)"
      ]
    },
    {
      "cell_type": "code",
      "execution_count": 171,
      "metadata": {
        "colab": {
          "base_uri": "https://localhost:8080/"
        },
        "id": "k2DtYr-p16sN",
        "outputId": "e8afca76-552f-468c-91c1-73a3ea7c891d"
      },
      "outputs": [
        {
          "output_type": "execute_result",
          "data": {
            "text/plain": [
              "0.038461538461538464"
            ]
          },
          "metadata": {},
          "execution_count": 171
        }
      ],
      "source": [
        "runge(1)"
      ]
    },
    {
      "cell_type": "code",
      "execution_count": 172,
      "metadata": {
        "id": "wrTDKG-I16sO"
      },
      "outputs": [],
      "source": [
        "def runge_interpolate(n):\n",
        "    x = np.linspace(-1, 1, n)\n",
        "    f = P.Polynomial.fit(x, runge(x), n)\n",
        "    return x, f"
      ]
    },
    {
      "cell_type": "code",
      "execution_count": 173,
      "metadata": {
        "id": "gmZY3b-816sO"
      },
      "outputs": [],
      "source": [
        "from scipy.interpolate import interp1d"
      ]
    },
    {
      "cell_type": "code",
      "execution_count": 174,
      "metadata": {
        "colab": {
          "base_uri": "https://localhost:8080/",
          "height": 321
        },
        "id": "VpalG7vY16sO",
        "outputId": "f10f4b83-fb6e-480a-be49-51e43c01caa8"
      },
      "outputs": [
        {
          "output_type": "stream",
          "name": "stderr",
          "text": [
            "/usr/local/lib/python3.7/dist-packages/numpy/polynomial/polynomial.py:1350: RankWarning: The fit may be poorly conditioned\n",
            "  return pu._fit(polyvander, x, y, deg, rcond, full, w)\n"
          ]
        },
        {
          "output_type": "execute_result",
          "data": {
            "text/plain": [
              "<matplotlib.legend.Legend at 0x7f4522c12d90>"
            ]
          },
          "metadata": {},
          "execution_count": 174
        },
        {
          "output_type": "display_data",
          "data": {
            "image/png": "[encoded data removed]",
            "text/plain": [
              "<Figure size 576x288 with 1 Axes>"
            ]
          },
          "metadata": {
            "needs_background": "light"
          }
        }
      ],
      "source": [
        "xx = np.linspace(-1, 1, 250)\n",
        "x13, p13 = runge_interpolate(13)\n",
        "x14, p14 = runge_interpolate(14)\n",
        "f = interp1d(x13,  runge(x13))\n",
        "f2 = interp1d(x13, runge(x13), kind='quadratic')\n",
        "f3 = interp1d(x13,  runge(x13), kind='cubic')\n",
        "fig, ax = plt.subplots(1, 1, figsize=(8, 4))\n",
        "ax.plot(xx, runge(xx), 'b', label='runge')\n",
        "ax.plot(xx, p13(xx), 'r', label='n=13')\n",
        "ax.plot(x13, runge(x13), 'ro', label='узлы интерполяции')\n",
        "ax.plot(xx, f(xx), label='linear spline')\n",
        "ax.plot(xx, f2(xx), label='quadratic spline')\n",
        "ax.plot(xx, f3(xx), label='cubic spline')\n",
        "ax.set_ylim([-1, 1])\n",
        "ax.legend()\n",
        "#ax.plot(xx, p14(xx), 'g')\n",
        "#ax.plot(x14, runge(x14), 'go')\n"
      ]
    },
    {
      "cell_type": "markdown",
      "metadata": {
        "id": "CGcN7r2S16sO"
      },
      "source": [
        "   # Spline сплайн-интерполяция"
      ]
    },
    {
      "cell_type": "code",
      "execution_count": 175,
      "metadata": {
        "id": "OrzZ85Z916sO"
      },
      "outputs": [],
      "source": [
        "from scipy.interpolate import interp1d"
      ]
    },
    {
      "cell_type": "code",
      "execution_count": 176,
      "metadata": {
        "colab": {
          "base_uri": "https://localhost:8080/"
        },
        "id": "LaijVZsA16sO",
        "outputId": "bf45e951-0e0d-4235-e545-0afa9014f521"
      },
      "outputs": [
        {
          "output_type": "execute_result",
          "data": {
            "text/plain": [
              "array([ 0.,  1.,  2.,  3.,  4.,  5.,  6.,  7.,  8.,  9., 10., 11., 12.,\n",
              "       13., 14., 15., 16., 17., 18., 19., 20.])"
            ]
          },
          "metadata": {},
          "execution_count": 176
        }
      ],
      "source": [
        "x = np.linspace(0, 20, 21)\n",
        "x"
      ]
    },
    {
      "cell_type": "code",
      "execution_count": 177,
      "metadata": {
        "colab": {
          "base_uri": "https://localhost:8080/"
        },
        "id": "b9ojzjZs16sO",
        "outputId": "280fa4f9-4a62-4527-c2e8-c011bb595bda"
      },
      "outputs": [
        {
          "output_type": "execute_result",
          "data": {
            "text/plain": [
              "array([ 1.        ,  0.99383351,  0.90284967,  0.54030231, -0.20550672,\n",
              "       -0.93454613, -0.65364362,  0.6683999 ,  0.67640492, -0.91113026,\n",
              "        0.11527995,  0.63863454, -0.95765948,  0.99742505, -0.97732268,\n",
              "        0.99120281, -0.98556606,  0.76793549, -0.12796369, -0.7454455 ,\n",
              "        0.89509715])"
            ]
          },
          "metadata": {},
          "execution_count": 177
        }
      ],
      "source": [
        "y = np.cos(-x**2/9)\n",
        "y"
      ]
    },
    {
      "cell_type": "code",
      "execution_count": 178,
      "metadata": {
        "id": "4oKT2YAL16sO"
      },
      "outputs": [],
      "source": [
        "f = interp1d(x, y)\n",
        "f2 = interp1d(x, y, kind='quadratic')\n",
        "f3 = interp1d(x, y, kind='cubic')"
      ]
    },
    {
      "cell_type": "code",
      "execution_count": 179,
      "metadata": {
        "colab": {
          "base_uri": "https://localhost:8080/",
          "height": 283
        },
        "id": "CLIXRLNZ16sO",
        "outputId": "aff62f0b-9c91-4c08-de7e-b328ead90f7e"
      },
      "outputs": [
        {
          "output_type": "execute_result",
          "data": {
            "text/plain": [
              "<matplotlib.legend.Legend at 0x7f4522b6c8d0>"
            ]
          },
          "metadata": {},
          "execution_count": 179
        },
        {
          "output_type": "display_data",
          "data": {
            "image/png": "[encoded data removed]",
            "text/plain": [
              "<Figure size 576x288 with 1 Axes>"
            ]
          },
          "metadata": {
            "needs_background": "light"
          }
        }
      ],
      "source": [
        "xx = np.linspace(x.min(), x.max(), 300)\n",
        "#print(xx)\n",
        "fig, ax = plt.subplots(1, 1, figsize=(8, 4))\n",
        "ax.plot(x, y, 'ro')\n",
        "ax.plot(xx, f(xx), label='n=1')\n",
        "ax.plot(xx, f2(xx), label='n=2')\n",
        "ax.plot(xx, f3(xx), label='n=3')\n",
        "ax.plot(xx, np.cos(-xx**2/9), label='orig')\n",
        "ax.legend()\n",
        "    "
      ]
    },
    {
      "cell_type": "markdown",
      "source": [
        "Для того, чтобы посмотреть насколько хороши сплайны, нарисуем исходную функцию Рунге, точки и кубические сплайны.\n",
        "\n"
      ],
      "metadata": {
        "id": "Gw_Ddc065jn9"
      }
    },
    {
      "cell_type": "code",
      "source": [
        "x = np.linspace(-1, 1, 11)\n",
        "y = runge(x)\n",
        "f_i = interpolate.interp1d(x, y, kind=3)\n",
        "xx = np.linspace(-1, 1, 100)\n",
        "fig, ax = plt.subplots(figsize=(8, 4))\n",
        "ax.plot(xx, runge(xx), 'k', lw=1, label=\"Runges function\")\n",
        "ax.plot(x, y, 'ro', label='sample points')\n",
        "ax.plot(xx, f_i(xx), 'r--', lw=2, label='spline order 3')\n",
        "ax.legend()\n",
        "ax.set_xticks([-1, -0.5, 0, 0.5, 1])\n",
        "ax.set_ylabel(r\"$y$\", fontsize=18)\n",
        "ax.set_xlabel(r\"$x$\", fontsize=18)"
      ],
      "metadata": {
        "colab": {
          "base_uri": "https://localhost:8080/",
          "height": 305
        },
        "id": "uGbbo8sx5mUj",
        "outputId": "fed1d405-a88a-45a3-ad65-6758fe2f5c7d"
      },
      "execution_count": 195,
      "outputs": [
        {
          "output_type": "execute_result",
          "data": {
            "text/plain": [
              "Text(0.5, 0, '$x$')"
            ]
          },
          "metadata": {},
          "execution_count": 195
        },
        {
          "output_type": "display_data",
          "data": {
            "image/png": "[encoded data removed]",
            "text/plain": [
              "<Figure size 576x288 with 1 Axes>"
            ]
          },
          "metadata": {
            "needs_background": "light"
          }
        }
      ]
    },
    {
      "cell_type": "markdown",
      "source": [
        "Здесь мы используем 11 заданных точек и сплайн 3 порядка. Заметим, что интерполянт очень хорошо совпадает с оригинальной функцией. Обычно сплайн-интерполяция порядка 3 или меньше не подвержена биениям, которые мы наблюдали в полиномах высокой степени. И достаточно использовать сплайны 3 порядка, если у нас достаточно много данных.\n",
        "\n",
        "Для иллюстрации влияния порядка сплайна, решим задачу интерполяции на точках (0,3), (1, 4), (2, 3.5), (4, 2), (5, 1.5), (6, 1.25) и (7, 0.7) со сплайнами возрастающей степени.\n",
        "\n",
        "Сначала определим массивы х и у, далее в цикле будем изменять требуемый порядок интерполяции, вычисляя интерполянт и рисуя его: "
      ],
      "metadata": {
        "id": "Iu-agSim510s"
      }
    },
    {
      "cell_type": "code",
      "execution_count": 197,
      "metadata": {
        "colab": {
          "base_uri": "https://localhost:8080/",
          "height": 629
        },
        "id": "Km0GG_2l16sO",
        "outputId": "8aa0c8a0-b2ea-419e-f2f6-1484b1e4e8b9"
      },
      "outputs": [
        {
          "output_type": "error",
          "ename": "ValueError",
          "evalue": "ignored",
          "traceback": [
            "\u001b[0;31m---------------------------------------------------------------------------\u001b[0m",
            "\u001b[0;31mValueError\u001b[0m                                Traceback (most recent call last)",
            "\u001b[0;32m<ipython-input-197-8169fa887438>\u001b[0m in \u001b[0;36m<module>\u001b[0;34m()\u001b[0m\n\u001b[1;32m      5\u001b[0m \u001b[0max\u001b[0m\u001b[0;34m.\u001b[0m\u001b[0mscatter\u001b[0m\u001b[0;34m(\u001b[0m\u001b[0mx\u001b[0m\u001b[0;34m,\u001b[0m \u001b[0my\u001b[0m\u001b[0;34m)\u001b[0m\u001b[0;34m\u001b[0m\u001b[0;34m\u001b[0m\u001b[0m\n\u001b[1;32m      6\u001b[0m \u001b[0;32mfor\u001b[0m \u001b[0mn\u001b[0m \u001b[0;32min\u001b[0m \u001b[0;34m[\u001b[0m\u001b[0;36m1\u001b[0m\u001b[0;34m,\u001b[0m \u001b[0;36m2\u001b[0m\u001b[0;34m,\u001b[0m \u001b[0;36m3\u001b[0m\u001b[0;34m,\u001b[0m \u001b[0;36m6\u001b[0m\u001b[0;34m]\u001b[0m\u001b[0;34m:\u001b[0m\u001b[0;34m\u001b[0m\u001b[0;34m\u001b[0m\u001b[0m\n\u001b[0;32m----> 7\u001b[0;31m   \u001b[0mf\u001b[0m \u001b[0;34m=\u001b[0m \u001b[0minterpolate\u001b[0m\u001b[0;34m.\u001b[0m\u001b[0minterp1d\u001b[0m\u001b[0;34m(\u001b[0m\u001b[0mx\u001b[0m\u001b[0;34m,\u001b[0m \u001b[0my\u001b[0m\u001b[0;34m,\u001b[0m \u001b[0mkind\u001b[0m\u001b[0;34m=\u001b[0m\u001b[0mn\u001b[0m\u001b[0;34m)\u001b[0m\u001b[0;34m\u001b[0m\u001b[0;34m\u001b[0m\u001b[0m\n\u001b[0m\u001b[1;32m      8\u001b[0m   \u001b[0max\u001b[0m\u001b[0;34m.\u001b[0m\u001b[0mplot\u001b[0m\u001b[0;34m(\u001b[0m\u001b[0mxx\u001b[0m\u001b[0;34m,\u001b[0m \u001b[0mf\u001b[0m\u001b[0;34m(\u001b[0m\u001b[0mxx\u001b[0m\u001b[0;34m)\u001b[0m\u001b[0;34m,\u001b[0m \u001b[0mlabel\u001b[0m\u001b[0;34m=\u001b[0m\u001b[0;34m'order %d'\u001b[0m \u001b[0;34m%\u001b[0m \u001b[0mn\u001b[0m\u001b[0;34m)\u001b[0m\u001b[0;34m\u001b[0m\u001b[0;34m\u001b[0m\u001b[0m\n\u001b[1;32m      9\u001b[0m \u001b[0;34m\u001b[0m\u001b[0m\n",
            "\u001b[0;32m/usr/local/lib/python3.7/dist-packages/scipy/interpolate/interpolate.py\u001b[0m in \u001b[0;36m__init__\u001b[0;34m(***failed resolving arguments***)\u001b[0m\n\u001b[1;32m    531\u001b[0m \u001b[0;34m\u001b[0m\u001b[0m\n\u001b[1;32m    532\u001b[0m             self._spline = make_interp_spline(xx, yy, k=order,\n\u001b[0;32m--> 533\u001b[0;31m                                               check_finite=False)\n\u001b[0m\u001b[1;32m    534\u001b[0m             \u001b[0;32mif\u001b[0m \u001b[0mrewrite_nan\u001b[0m\u001b[0;34m:\u001b[0m\u001b[0;34m\u001b[0m\u001b[0;34m\u001b[0m\u001b[0m\n\u001b[1;32m    535\u001b[0m                 \u001b[0mself\u001b[0m\u001b[0;34m.\u001b[0m\u001b[0m_call\u001b[0m \u001b[0;34m=\u001b[0m \u001b[0mself\u001b[0m\u001b[0;34m.\u001b[0m\u001b[0m__class__\u001b[0m\u001b[0;34m.\u001b[0m\u001b[0m_call_nan_spline\u001b[0m\u001b[0;34m\u001b[0m\u001b[0;34m\u001b[0m\u001b[0m\n",
            "\u001b[0;32m/usr/local/lib/python3.7/dist-packages/scipy/interpolate/_bsplines.py\u001b[0m in \u001b[0;36mmake_interp_spline\u001b[0;34m(x, y, k, t, bc_type, axis, check_finite)\u001b[0m\n\u001b[1;32m    788\u001b[0m                            (x[-1],)*(k+1)]\n\u001b[1;32m    789\u001b[0m             \u001b[0;32melse\u001b[0m\u001b[0;34m:\u001b[0m\u001b[0;34m\u001b[0m\u001b[0;34m\u001b[0m\u001b[0m\n\u001b[0;32m--> 790\u001b[0;31m                 \u001b[0mt\u001b[0m \u001b[0;34m=\u001b[0m \u001b[0m_not_a_knot\u001b[0m\u001b[0;34m(\u001b[0m\u001b[0mx\u001b[0m\u001b[0;34m,\u001b[0m \u001b[0mk\u001b[0m\u001b[0;34m)\u001b[0m\u001b[0;34m\u001b[0m\u001b[0;34m\u001b[0m\u001b[0m\n\u001b[0m\u001b[1;32m    791\u001b[0m         \u001b[0;32melse\u001b[0m\u001b[0;34m:\u001b[0m\u001b[0;34m\u001b[0m\u001b[0;34m\u001b[0m\u001b[0m\n\u001b[1;32m    792\u001b[0m             \u001b[0mt\u001b[0m \u001b[0;34m=\u001b[0m \u001b[0m_augknt\u001b[0m\u001b[0;34m(\u001b[0m\u001b[0mx\u001b[0m\u001b[0;34m,\u001b[0m \u001b[0mk\u001b[0m\u001b[0;34m)\u001b[0m\u001b[0;34m\u001b[0m\u001b[0;34m\u001b[0m\u001b[0m\n",
            "\u001b[0;32m/usr/local/lib/python3.7/dist-packages/scipy/interpolate/_bsplines.py\u001b[0m in \u001b[0;36m_not_a_knot\u001b[0;34m(x, k)\u001b[0m\n\u001b[1;32m    581\u001b[0m     \u001b[0mx\u001b[0m \u001b[0;34m=\u001b[0m \u001b[0mnp\u001b[0m\u001b[0;34m.\u001b[0m\u001b[0masarray\u001b[0m\u001b[0;34m(\u001b[0m\u001b[0mx\u001b[0m\u001b[0;34m)\u001b[0m\u001b[0;34m\u001b[0m\u001b[0;34m\u001b[0m\u001b[0m\n\u001b[1;32m    582\u001b[0m     \u001b[0;32mif\u001b[0m \u001b[0mk\u001b[0m \u001b[0;34m%\u001b[0m \u001b[0;36m2\u001b[0m \u001b[0;34m!=\u001b[0m \u001b[0;36m1\u001b[0m\u001b[0;34m:\u001b[0m\u001b[0;34m\u001b[0m\u001b[0;34m\u001b[0m\u001b[0m\n\u001b[0;32m--> 583\u001b[0;31m         \u001b[0;32mraise\u001b[0m \u001b[0mValueError\u001b[0m\u001b[0;34m(\u001b[0m\u001b[0;34m\"Odd degree for now only. Got %s.\"\u001b[0m \u001b[0;34m%\u001b[0m \u001b[0mk\u001b[0m\u001b[0;34m)\u001b[0m\u001b[0;34m\u001b[0m\u001b[0;34m\u001b[0m\u001b[0m\n\u001b[0m\u001b[1;32m    584\u001b[0m \u001b[0;34m\u001b[0m\u001b[0m\n\u001b[1;32m    585\u001b[0m     \u001b[0mm\u001b[0m \u001b[0;34m=\u001b[0m \u001b[0;34m(\u001b[0m\u001b[0mk\u001b[0m \u001b[0;34m-\u001b[0m \u001b[0;36m1\u001b[0m\u001b[0;34m)\u001b[0m \u001b[0;34m//\u001b[0m \u001b[0;36m2\u001b[0m\u001b[0;34m\u001b[0m\u001b[0;34m\u001b[0m\u001b[0m\n",
            "\u001b[0;31mValueError\u001b[0m: Odd degree for now only. Got 6."
          ]
        },
        {
          "output_type": "display_data",
          "data": {
            "image/png": "[encoded data removed]",
            "text/plain": [
              "<Figure size 576x288 with 1 Axes>"
            ]
          },
          "metadata": {
            "needs_background": "light"
          }
        }
      ],
      "source": [
        "x= np.array([0, 1, 2, 3, 4, 5, 6, 7])\n",
        "y= np.array([3, 4, 3.5, 2, 1, 1.5, 1.25, 0.9])\n",
        "xx = np.linspace(x.min(), x.max(), 100)\n",
        "fig, ax = plt.subplots(figsize=(8, 4))\n",
        "ax.scatter(x, y)\n",
        "for n in [1, 2, 3, 6]:\n",
        "  f = interpolate.interp1d(x, y, kind=n)\n",
        "  ax.plot(xx, f(xx), label='order %d' % n)\n",
        "\n",
        "ax.legend()\n",
        "ax.set_ylabel(r\"$y$\", fontsize=18)\n",
        "ax.set_xlabel(r\"$x$\", fontsize=18)"
      ]
    },
    {
      "cell_type": "markdown",
      "source": [
        "# Метод fit для степенного полинома и полинома Чебышева\n"
      ],
      "metadata": {
        "id": "v4KK7Jst25MP"
      }
    },
    {
      "cell_type": "code",
      "source": [
        "#from numpy.polynomial import polynomial as P\n",
        "\n",
        "f1b = P.Polynomial.fit(x, y, deg)\n",
        "f1b\n",
        "\n",
        "\n"
      ],
      "metadata": {
        "colab": {
          "base_uri": "https://localhost:8080/",
          "height": 39
        },
        "id": "zbWN-CDx3C_7",
        "outputId": "91de64c9-0f70-4429-c529-d2cafef4596b"
      },
      "execution_count": 187,
      "outputs": [
        {
          "output_type": "execute_result",
          "data": {
            "text/latex": "$x \\mapsto \\text{-0.1511181841667616} + \\text{0.18791035366758826}\\,\\left(\\text{-1.0} + \\text{0.1}x\\right) + \\text{0.7613068853563968}\\,\\left(\\text{-1.0} + \\text{0.1}x\\right)^{2} - \\text{0.6888707915966703}\\,\\left(\\text{-1.0} + \\text{0.1}x\\right)^{3}$",
            "text/plain": [
              "Polynomial([-0.15111818,  0.18791035,  0.76130689, -0.68887079], domain=[ 0., 20.], window=[-1.,  1.])"
            ]
          },
          "metadata": {},
          "execution_count": 187
        }
      ]
    },
    {
      "cell_type": "code",
      "source": [
        "P.Polynomial([ 4.1875, 3.1875, -1.6875, -1.6875], [ 1., 4.], [-1., 1.])\n",
        "f2b = P.Chebyshev.fit(x, y, deg)\n",
        "f2b"
      ],
      "metadata": {
        "colab": {
          "base_uri": "https://localhost:8080/",
          "height": 60
        },
        "id": "6ojvFDLw3KOD",
        "outputId": "f14bfe65-fd3b-4e7f-d3f5-769bdbb1a955"
      },
      "execution_count": 188,
      "outputs": [
        {
          "output_type": "execute_result",
          "data": {
            "text/latex": "$x \\mapsto \\text{0.22953525851143675}\\,{T}_{0}(\\text{-1.0} + \\text{0.1}x) - \\text{0.32874274002991377}\\,{T}_{1}(\\text{-1.0} + \\text{0.1}x) + \\text{0.3806534426781985}\\,{T}_{2}(\\text{-1.0} + \\text{0.1}x) - \\text{0.1722176978991675}\\,{T}_{3}(\\text{-1.0} + \\text{0.1}x)$",
            "text/plain": [
              "Chebyshev([ 0.22953526, -0.32874274,  0.38065344, -0.1722177 ], domain=[ 0., 20.], window=[-1.,  1.])"
            ]
          },
          "metadata": {},
          "execution_count": 188
        }
      ]
    },
    {
      "cell_type": "markdown",
      "source": [
        "Получен вектор коэффициентов $[4.1875,3.1875,-1.6875,-1.6875]$ в степенном базисе, то есть интерполяционный полином $f(x)=4.1875+3.1875 * x-1.6875 * x^{2}-1.6875^{*} x^{3} .$\n",
        "Используем найденный массив коэффициентов для дальнейшего вычисления значения в точке: "
      ],
      "metadata": {
        "id": "y1L6ijwA4eu9"
      }
    },
    {
      "cell_type": "code",
      "source": [
        "f1b(2.5) "
      ],
      "metadata": {
        "colab": {
          "base_uri": "https://localhost:8080/"
        },
        "id": "uiNSaGYb4hFt",
        "outputId": "c525a5d5-3eae-48ac-bd10-92d68520b4b2"
      },
      "execution_count": 189,
      "outputs": [
        {
          "output_type": "execute_result",
          "data": {
            "text/plain": [
              "0.42680153880036564"
            ]
          },
          "metadata": {},
          "execution_count": 189
        }
      ]
    },
    {
      "cell_type": "markdown",
      "source": [
        "Как и ожидалось, в другом базисе получились другие коэффициенты и интерполяционный многочлен в базисе Чебышева \n",
        "\n",
        "$f(x)=3.34375 * T_{0}(x)-1.921875 * T_{1}(x)-0.84375 * T_{2}(x)-0.421875 * T_{3}(x)$\n",
        "\n",
        " Однако, не зависимо от базиса, интерполяционный многочлен единственный и вычисляя значение в точке получаем такое же число:"
      ],
      "metadata": {
        "id": "-0Ta-QpX4oDt"
      }
    },
    {
      "cell_type": "code",
      "source": [
        "f2b(2.5)"
      ],
      "metadata": {
        "colab": {
          "base_uri": "https://localhost:8080/"
        },
        "id": "PwWTqLs-4kIC",
        "outputId": "5a02e8be-8322-48ac-b0d6-d62f88d204c8"
      },
      "execution_count": 190,
      "outputs": [
        {
          "output_type": "execute_result",
          "data": {
            "text/plain": [
              "0.4268015388003652"
            ]
          },
          "metadata": {},
          "execution_count": 190
        }
      ]
    },
    {
      "cell_type": "code",
      "source": [
        ""
      ],
      "metadata": {
        "id": "rH3gFD647-sL"
      },
      "execution_count": null,
      "outputs": []
    },
    {
      "cell_type": "markdown",
      "source": [
        "Посмотрим на эти два полинома вместе на одном графике:\n",
        "\n"
      ],
      "metadata": {
        "id": "-udswPSM4wPg"
      }
    },
    {
      "cell_type": "code",
      "source": [
        "xx = np.linspace(x.min(), x.max(), 100) # supersampled [x[0], x[-1]] interval\n",
        "fig, ax = plt.subplots(1, 1, figsize=(12, 4))\n",
        "ax.plot(xx, f1b(xx), 'b', lw=2, label='Power basis interp.')\n",
        "ax.plot(xx, f2b(xx), 'r--', lw=2, label='Chebyshev basis interp.')\n",
        "ax.scatter(x, y, label='data points')\n",
        "ax.legend(loc=4)\n",
        "ax.set_xticks(x)\n",
        "ax.set_ylabel(r\"$y$\", fontsize=18)\n",
        "ax.set_xlabel(r\"$x$\", fontsize=18)"
      ],
      "metadata": {
        "colab": {
          "base_uri": "https://localhost:8080/",
          "height": 305
        },
        "id": "FWaiDS8O4unQ",
        "outputId": "db77620e-4b23-4f48-f6a1-96f05fe26e51"
      },
      "execution_count": 192,
      "outputs": [
        {
          "output_type": "execute_result",
          "data": {
            "text/plain": [
              "Text(0.5, 0, '$x$')"
            ]
          },
          "metadata": {},
          "execution_count": 192
        },
        {
          "output_type": "display_data",
          "data": {
            "image/png": "[encoded data removed]",
            "text/plain": [
              "<Figure size 864x288 with 1 Axes>"
            ]
          },
          "metadata": {
            "needs_background": "light"
          }
        }
      ]
    },
    {
      "cell_type": "markdown",
      "source": [
        "Заметим, что этот метод автоматически устанавливает атрибут domain в правильное значение (в примере отрезок был от 1 до 4), коэффициенты устанавливаются тоже соответствующим образом.\n",
        "\n",
        "Отображение интерполяционных данных в отрезок, который лучше подходит для выбранного базиса, может существенно улучшить численную стабильность интерполяции. Например, использование полиномов Чебышева на отрезке $[-1,1]$ а не на заданном $[1,4]$ уменьшает число обусловленности с почти 4660 до $1.85.$  \n",
        "\n",
        "Чем ближе число обусловленности к 1, тем меньше погрешность интерполянта. "
      ],
      "metadata": {
        "id": "yJlykC2n5FX9"
      }
    },
    {
      "cell_type": "code",
      "source": [
        "np.linalg.cond(P.chebyshev.chebvander(x, deg))     # x = [1, 2, 3, 4]"
      ],
      "metadata": {
        "colab": {
          "base_uri": "https://localhost:8080/"
        },
        "id": "8NqalgfV46Hw",
        "outputId": "3476009f-5df9-4cda-b553-3839cd5ebbc7"
      },
      "execution_count": 193,
      "outputs": [
        {
          "output_type": "execute_result",
          "data": {
            "text/plain": [
              "47062.33692181253"
            ]
          },
          "metadata": {},
          "execution_count": 193
        }
      ]
    },
    {
      "cell_type": "code",
      "source": [
        "np.linalg.cond(P.chebyshev.chebvander((2*x-5)/3.0, deg))  # (2*x-5)/3.0 = [-1, -5/3, 1/3, 1]"
      ],
      "metadata": {
        "colab": {
          "base_uri": "https://localhost:8080/"
        },
        "id": "cPSdpqRg5Yd5",
        "outputId": "77294b04-d7b7-4e74-9adc-50ff0392e1ed"
      },
      "execution_count": 194,
      "outputs": [
        {
          "output_type": "execute_result",
          "data": {
            "text/plain": [
              "4253.097714355576"
            ]
          },
          "metadata": {},
          "execution_count": 194
        }
      ]
    },
    {
      "cell_type": "markdown",
      "source": [
        "# Символьные вычисления для полиноминальной интерполяции."
      ],
      "metadata": {
        "id": "ihGvpmAS6k99"
      }
    },
    {
      "cell_type": "markdown",
      "source": [
        "Можно. Если точек немного используйте интерполяцию (степенную) модуля sympy:\n",
        "\n",
        "http://docs.sympy.org/latest/modules/polys/reference.html  "
      ],
      "metadata": {
        "id": "LNK2BTwW6sLE"
      }
    },
    {
      "cell_type": "code",
      "source": [
        "from sympy.polys.polyfuncs import interpolate\n",
        "import sympy\n",
        "x = sympy.symbols('x')"
      ],
      "metadata": {
        "id": "vQFrp5Wi5ajL"
      },
      "execution_count": 198,
      "outputs": []
    },
    {
      "cell_type": "code",
      "source": [
        "interpolate([1, 4, 9, 16], x)"
      ],
      "metadata": {
        "colab": {
          "base_uri": "https://localhost:8080/",
          "height": 39
        },
        "id": "YO4h5yny6y3D",
        "outputId": "a6c1bee7-9f54-4c90-bf5d-674c02136fe8"
      },
      "execution_count": 199,
      "outputs": [
        {
          "output_type": "execute_result",
          "data": {
            "text/latex": "$\\displaystyle x^{2}$",
            "text/plain": [
              "x**2"
            ]
          },
          "metadata": {},
          "execution_count": 199
        }
      ]
    },
    {
      "cell_type": "code",
      "source": [
        "interpolate([(1, 1), (2, 4), (3, 9)], x)"
      ],
      "metadata": {
        "colab": {
          "base_uri": "https://localhost:8080/",
          "height": 39
        },
        "id": "CmFBqtCs61R5",
        "outputId": "53e3f830-cce8-4297-d940-c81cccba0875"
      },
      "execution_count": 200,
      "outputs": [
        {
          "output_type": "execute_result",
          "data": {
            "text/latex": "$\\displaystyle x^{2}$",
            "text/plain": [
              "x**2"
            ]
          },
          "metadata": {},
          "execution_count": 200
        }
      ]
    },
    {
      "cell_type": "code",
      "source": [
        "interpolate([(-1, 2), (1, 2), (2, 5)], x)"
      ],
      "metadata": {
        "colab": {
          "base_uri": "https://localhost:8080/",
          "height": 39
        },
        "id": "u0b2_3lx63db",
        "outputId": "4f1e40c6-83d4-4bf4-db0a-cb951a204b98"
      },
      "execution_count": 202,
      "outputs": [
        {
          "output_type": "execute_result",
          "data": {
            "text/latex": "$\\displaystyle x^{2} + 1$",
            "text/plain": [
              "x**2 + 1"
            ]
          },
          "metadata": {},
          "execution_count": 202
        }
      ]
    },
    {
      "cell_type": "code",
      "source": [
        "interpolate({-1: 2, 1: 2, 2: 5}, x)"
      ],
      "metadata": {
        "colab": {
          "base_uri": "https://localhost:8080/",
          "height": 39
        },
        "id": "kH7cdE4t67CL",
        "outputId": "578066bb-91f7-4f52-eabb-d656a4236641"
      },
      "execution_count": 203,
      "outputs": [
        {
          "output_type": "execute_result",
          "data": {
            "text/latex": "$\\displaystyle x^{2} + 1$",
            "text/plain": [
              "x**2 + 1"
            ]
          },
          "metadata": {},
          "execution_count": 203
        }
      ]
    },
    {
      "cell_type": "code",
      "source": [
        "sympy.polys.specialpolys.interpolating_poly(n, x, X=[1,2,3,4,5,6,7], Y=[2,0,-1,1,2,3,2])\n"
      ],
      "metadata": {
        "colab": {
          "base_uri": "https://localhost:8080/",
          "height": 89
        },
        "id": "FCnOB23869B_",
        "outputId": "d9eb4bad-d070-4677-bd2c-937f4586a2f3"
      },
      "execution_count": 206,
      "outputs": [
        {
          "output_type": "execute_result",
          "data": {
            "text/latex": "$\\displaystyle - \\frac{\\left(x - 6\\right) \\left(x - 5\\right) \\left(x - 4\\right) \\left(x - 3\\right) \\left(x - 2\\right)}{60} + \\frac{\\left(x - 6\\right) \\left(x - 5\\right) \\left(x - 4\\right) \\left(x - 2\\right) \\left(x - 1\\right)}{12} + \\frac{\\left(x - 6\\right) \\left(x - 5\\right) \\left(x - 3\\right) \\left(x - 2\\right) \\left(x - 1\\right)}{12} - \\frac{\\left(x - 6\\right) \\left(x - 4\\right) \\left(x - 3\\right) \\left(x - 2\\right) \\left(x - 1\\right)}{12} + \\frac{\\left(x - 5\\right) \\left(x - 4\\right) \\left(x - 3\\right) \\left(x - 2\\right) \\left(x - 1\\right)}{40}$",
            "text/plain": [
              "-(x - 6)*(x - 5)*(x - 4)*(x - 3)*(x - 2)/60 + (x - 6)*(x - 5)*(x - 4)*(x - 2)*(x - 1)/12 + (x - 6)*(x - 5)*(x - 3)*(x - 2)*(x - 1)/12 - (x - 6)*(x - 4)*(x - 3)*(x - 2)*(x - 1)/12 + (x - 5)*(x - 4)*(x - 3)*(x - 2)*(x - 1)/40"
            ]
          },
          "metadata": {},
          "execution_count": 206
        }
      ]
    }
  ],
  "metadata": {
    "kernelspec": {
      "display_name": "Python 3",
      "language": "python",
      "name": "python3"
    },
    "language_info": {
      "codemirror_mode": {
        "name": "ipython",
        "version": 3
      },
      "file_extension": ".py",
      "mimetype": "text/x-python",
      "name": "python",
      "nbconvert_exporter": "python",
      "pygments_lexer": "ipython3",
      "version": "3.6.8"
    },
    "colab": {
      "name": "Работа с полиномами в numpy, scipy, sympy.ipynb",
      "provenance": [],
      "collapsed_sections": [
        "eolkBQP_7_4c",
        "BoKV1eNi16sK",
        "XG4Q5r9t16sN",
        "CGcN7r2S16sO",
        "v4KK7Jst25MP",
        "ihGvpmAS6k99"
      ]
    }
  },
  "nbformat": 4,
  "nbformat_minor": 0
}
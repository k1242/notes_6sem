{
 "cells": [
  {
   "cell_type": "code",
   "execution_count": 2,
   "id": "bd0c5fc4",
   "metadata": {},
   "outputs": [],
   "source": [
    "import pandas as pd\n",
    "import numpy as np\n",
    "import matplotlib.pyplot as plt"
   ]
  },
  {
   "cell_type": "code",
   "execution_count": 77,
   "id": "a131f2ea",
   "metadata": {},
   "outputs": [],
   "source": [
    "# включим для графиков LaTeX и добавим русский\n",
    "from matplotlib import rc\n",
    "rc('font',**{'family':'serif'})\n",
    "rc('text', usetex=True)\n",
    "rc('text.latex', preamble='\\\\usepackage[utf8]{inputenc}')\n",
    "rc('text.latex', preamble='\\\\usepackage[russian]{babel}')"
   ]
  },
  {
   "cell_type": "markdown",
   "id": "f9c415d1",
   "metadata": {},
   "source": [
    "## CdS"
   ]
  },
  {
   "cell_type": "code",
   "execution_count": 57,
   "id": "559796b2",
   "metadata": {},
   "outputs": [],
   "source": [
    "data = pd.read_csv(\"df_CdS.csv\")"
   ]
  },
  {
   "cell_type": "code",
   "execution_count": 58,
   "id": "bc0e4941",
   "metadata": {},
   "outputs": [],
   "source": [
    "cols = [\"phi\", \"U\", \"wl\", \"I\"];\n",
    "data.columns = [\"phi\", \"U\", \"wl\", \"I\"]"
   ]
  },
  {
   "cell_type": "code",
   "execution_count": 59,
   "id": "ea610754",
   "metadata": {},
   "outputs": [
    {
     "data": {
      "text/html": [
       "<div>\n",
       "<style scoped>\n",
       "    .dataframe tbody tr th:only-of-type {\n",
       "        vertical-align: middle;\n",
       "    }\n",
       "\n",
       "    .dataframe tbody tr th {\n",
       "        vertical-align: top;\n",
       "    }\n",
       "\n",
       "    .dataframe thead th {\n",
       "        text-align: right;\n",
       "    }\n",
       "</style>\n",
       "<table border=\"1\" class=\"dataframe\">\n",
       "  <thead>\n",
       "    <tr style=\"text-align: right;\">\n",
       "      <th></th>\n",
       "      <th>phi</th>\n",
       "      <th>U</th>\n",
       "      <th>wl</th>\n",
       "      <th>I</th>\n",
       "    </tr>\n",
       "  </thead>\n",
       "  <tbody>\n",
       "    <tr>\n",
       "      <th>0</th>\n",
       "      <td>1600.0</td>\n",
       "      <td>4.0</td>\n",
       "      <td>459.1</td>\n",
       "      <td>0.355</td>\n",
       "    </tr>\n",
       "    <tr>\n",
       "      <th>1</th>\n",
       "      <td>1700.0</td>\n",
       "      <td>7.0</td>\n",
       "      <td>471.6</td>\n",
       "      <td>0.409</td>\n",
       "    </tr>\n",
       "    <tr>\n",
       "      <th>2</th>\n",
       "      <td>1800.0</td>\n",
       "      <td>12.0</td>\n",
       "      <td>483.5</td>\n",
       "      <td>0.375</td>\n",
       "    </tr>\n",
       "    <tr>\n",
       "      <th>3</th>\n",
       "      <td>1900.0</td>\n",
       "      <td>23.0</td>\n",
       "      <td>495.4</td>\n",
       "      <td>0.359</td>\n",
       "    </tr>\n",
       "    <tr>\n",
       "      <th>4</th>\n",
       "      <td>1925.0</td>\n",
       "      <td>34.0</td>\n",
       "      <td>498.4</td>\n",
       "      <td>0.423</td>\n",
       "    </tr>\n",
       "  </tbody>\n",
       "</table>\n",
       "</div>"
      ],
      "text/plain": [
       "      phi     U     wl      I\n",
       "0  1600.0   4.0  459.1  0.355\n",
       "1  1700.0   7.0  471.6  0.409\n",
       "2  1800.0  12.0  483.5  0.375\n",
       "3  1900.0  23.0  495.4  0.359\n",
       "4  1925.0  34.0  498.4  0.423"
      ]
     },
     "execution_count": 59,
     "metadata": {},
     "output_type": "execute_result"
    }
   ],
   "source": [
    "data_ = data.copy()\n",
    "data_err = data.copy()\n",
    "\n",
    "f1 = lambda x: np.float64(x.split()[0])\n",
    "f2 = lambda x: np.float64(x.split()[2])\n",
    "\n",
    "for col in cols:\n",
    "    data_[col] = data_[col].map(f1)\n",
    "    data_err[col] = data_err[col].map(f2)\n",
    "data_.head()"
   ]
  },
  {
   "cell_type": "code",
   "execution_count": 60,
   "id": "82442e5d",
   "metadata": {},
   "outputs": [
    {
     "data": {
      "image/png": "[encoded data removed]",
      "text/plain": [
       "<Figure size 432x288 with 1 Axes>"
      ]
     },
     "metadata": {
      "needs_background": "light"
     },
     "output_type": "display_data"
    }
   ],
   "source": [
    "# зависимость сигнала от угла\n",
    "plt.plot(data_.phi, data_.wl)\n",
    "plt.show()"
   ]
  },
  {
   "cell_type": "markdown",
   "id": "865ced82",
   "metadata": {},
   "source": [
    "## CdSe"
   ]
  },
  {
   "cell_type": "code",
   "execution_count": 99,
   "id": "184cc28f",
   "metadata": {},
   "outputs": [],
   "source": [
    "data2 = pd.read_csv(\"df_CdSe.csv\")"
   ]
  },
  {
   "cell_type": "code",
   "execution_count": 100,
   "id": "8183dfa0",
   "metadata": {},
   "outputs": [],
   "source": [
    "cols = [\"phi\", \"U\", \"wl\", \"I\"];\n",
    "data2.columns = [\"phi\", \"U\", \"wl\", \"I\"]"
   ]
  },
  {
   "cell_type": "code",
   "execution_count": 97,
   "id": "d8b822cb",
   "metadata": {},
   "outputs": [
    {
     "data": {
      "text/html": [
       "<div>\n",
       "<style scoped>\n",
       "    .dataframe tbody tr th:only-of-type {\n",
       "        vertical-align: middle;\n",
       "    }\n",
       "\n",
       "    .dataframe tbody tr th {\n",
       "        vertical-align: top;\n",
       "    }\n",
       "\n",
       "    .dataframe thead th {\n",
       "        text-align: right;\n",
       "    }\n",
       "</style>\n",
       "<table border=\"1\" class=\"dataframe\">\n",
       "  <thead>\n",
       "    <tr style=\"text-align: right;\">\n",
       "      <th></th>\n",
       "      <th>phi</th>\n",
       "      <th>U</th>\n",
       "      <th>wl</th>\n",
       "      <th>I</th>\n",
       "    </tr>\n",
       "  </thead>\n",
       "  <tbody>\n",
       "    <tr>\n",
       "      <th>0</th>\n",
       "      <td>2000.0</td>\n",
       "      <td>26.0</td>\n",
       "      <td>507.6</td>\n",
       "      <td>0.1870</td>\n",
       "    </tr>\n",
       "    <tr>\n",
       "      <th>1</th>\n",
       "      <td>2100.0</td>\n",
       "      <td>39.0</td>\n",
       "      <td>520.4</td>\n",
       "      <td>0.1930</td>\n",
       "    </tr>\n",
       "    <tr>\n",
       "      <th>2</th>\n",
       "      <td>2200.0</td>\n",
       "      <td>53.0</td>\n",
       "      <td>534.4</td>\n",
       "      <td>0.1918</td>\n",
       "    </tr>\n",
       "    <tr>\n",
       "      <th>3</th>\n",
       "      <td>2300.0</td>\n",
       "      <td>71.0</td>\n",
       "      <td>550.0</td>\n",
       "      <td>0.1959</td>\n",
       "    </tr>\n",
       "    <tr>\n",
       "      <th>4</th>\n",
       "      <td>2400.0</td>\n",
       "      <td>105.0</td>\n",
       "      <td>567.4</td>\n",
       "      <td>0.2282</td>\n",
       "    </tr>\n",
       "    <tr>\n",
       "      <th>5</th>\n",
       "      <td>2450.0</td>\n",
       "      <td>112.0</td>\n",
       "      <td>577.0</td>\n",
       "      <td>0.2190</td>\n",
       "    </tr>\n",
       "    <tr>\n",
       "      <th>6</th>\n",
       "      <td>2500.0</td>\n",
       "      <td>127.0</td>\n",
       "      <td>587.2</td>\n",
       "      <td>0.2247</td>\n",
       "    </tr>\n",
       "    <tr>\n",
       "      <th>7</th>\n",
       "      <td>2600.0</td>\n",
       "      <td>154.0</td>\n",
       "      <td>609.8</td>\n",
       "      <td>0.2269</td>\n",
       "    </tr>\n",
       "    <tr>\n",
       "      <th>8</th>\n",
       "      <td>2700.0</td>\n",
       "      <td>179.0</td>\n",
       "      <td>635.5</td>\n",
       "      <td>0.2241</td>\n",
       "    </tr>\n",
       "    <tr>\n",
       "      <th>9</th>\n",
       "      <td>2800.0</td>\n",
       "      <td>209.0</td>\n",
       "      <td>664.8</td>\n",
       "      <td>0.2260</td>\n",
       "    </tr>\n",
       "    <tr>\n",
       "      <th>10</th>\n",
       "      <td>2875.0</td>\n",
       "      <td>229.0</td>\n",
       "      <td>689.3</td>\n",
       "      <td>0.2241</td>\n",
       "    </tr>\n",
       "    <tr>\n",
       "      <th>11</th>\n",
       "      <td>2890.0</td>\n",
       "      <td>247.0</td>\n",
       "      <td>694.5</td>\n",
       "      <td>0.2370</td>\n",
       "    </tr>\n",
       "    <tr>\n",
       "      <th>12</th>\n",
       "      <td>2895.0</td>\n",
       "      <td>250.0</td>\n",
       "      <td>696.3</td>\n",
       "      <td>0.2383</td>\n",
       "    </tr>\n",
       "    <tr>\n",
       "      <th>13</th>\n",
       "      <td>2900.0</td>\n",
       "      <td>253.0</td>\n",
       "      <td>698.0</td>\n",
       "      <td>0.2397</td>\n",
       "    </tr>\n",
       "    <tr>\n",
       "      <th>16</th>\n",
       "      <td>2930.0</td>\n",
       "      <td>253.0</td>\n",
       "      <td>708.8</td>\n",
       "      <td>0.2310</td>\n",
       "    </tr>\n",
       "    <tr>\n",
       "      <th>17</th>\n",
       "      <td>2950.0</td>\n",
       "      <td>250.0</td>\n",
       "      <td>716.3</td>\n",
       "      <td>0.2229</td>\n",
       "    </tr>\n",
       "    <tr>\n",
       "      <th>18</th>\n",
       "      <td>2975.0</td>\n",
       "      <td>265.0</td>\n",
       "      <td>725.8</td>\n",
       "      <td>0.2293</td>\n",
       "    </tr>\n",
       "    <tr>\n",
       "      <th>19</th>\n",
       "      <td>3000.0</td>\n",
       "      <td>267.0</td>\n",
       "      <td>735.7</td>\n",
       "      <td>0.2246</td>\n",
       "    </tr>\n",
       "    <tr>\n",
       "      <th>20</th>\n",
       "      <td>3100.0</td>\n",
       "      <td>232.0</td>\n",
       "      <td>778.1</td>\n",
       "      <td>0.1754</td>\n",
       "    </tr>\n",
       "    <tr>\n",
       "      <th>21</th>\n",
       "      <td>3200.0</td>\n",
       "      <td>226.0</td>\n",
       "      <td>825.7</td>\n",
       "      <td>0.1549</td>\n",
       "    </tr>\n",
       "    <tr>\n",
       "      <th>22</th>\n",
       "      <td>3300.0</td>\n",
       "      <td>224.0</td>\n",
       "      <td>878.9</td>\n",
       "      <td>0.1404</td>\n",
       "    </tr>\n",
       "  </tbody>\n",
       "</table>\n",
       "</div>"
      ],
      "text/plain": [
       "       phi      U     wl       I\n",
       "0   2000.0   26.0  507.6  0.1870\n",
       "1   2100.0   39.0  520.4  0.1930\n",
       "2   2200.0   53.0  534.4  0.1918\n",
       "3   2300.0   71.0  550.0  0.1959\n",
       "4   2400.0  105.0  567.4  0.2282\n",
       "5   2450.0  112.0  577.0  0.2190\n",
       "6   2500.0  127.0  587.2  0.2247\n",
       "7   2600.0  154.0  609.8  0.2269\n",
       "8   2700.0  179.0  635.5  0.2241\n",
       "9   2800.0  209.0  664.8  0.2260\n",
       "10  2875.0  229.0  689.3  0.2241\n",
       "11  2890.0  247.0  694.5  0.2370\n",
       "12  2895.0  250.0  696.3  0.2383\n",
       "13  2900.0  253.0  698.0  0.2397\n",
       "16  2930.0  253.0  708.8  0.2310\n",
       "17  2950.0  250.0  716.3  0.2229\n",
       "18  2975.0  265.0  725.8  0.2293\n",
       "19  3000.0  267.0  735.7  0.2246\n",
       "20  3100.0  232.0  778.1  0.1754\n",
       "21  3200.0  226.0  825.7  0.1549\n",
       "22  3300.0  224.0  878.9  0.1404"
      ]
     },
     "execution_count": 97,
     "metadata": {},
     "output_type": "execute_result"
    }
   ],
   "source": [
    "data2_"
   ]
  },
  {
   "cell_type": "code",
   "execution_count": 101,
   "id": "86cc2e4f",
   "metadata": {},
   "outputs": [
    {
     "data": {
      "text/html": [
       "<div>\n",
       "<style scoped>\n",
       "    .dataframe tbody tr th:only-of-type {\n",
       "        vertical-align: middle;\n",
       "    }\n",
       "\n",
       "    .dataframe tbody tr th {\n",
       "        vertical-align: top;\n",
       "    }\n",
       "\n",
       "    .dataframe thead th {\n",
       "        text-align: right;\n",
       "    }\n",
       "</style>\n",
       "<table border=\"1\" class=\"dataframe\">\n",
       "  <thead>\n",
       "    <tr style=\"text-align: right;\">\n",
       "      <th></th>\n",
       "      <th>phi</th>\n",
       "      <th>U</th>\n",
       "      <th>wl</th>\n",
       "      <th>I</th>\n",
       "    </tr>\n",
       "  </thead>\n",
       "  <tbody>\n",
       "    <tr>\n",
       "      <th>0</th>\n",
       "      <td>2000.0</td>\n",
       "      <td>26.0</td>\n",
       "      <td>507.6</td>\n",
       "      <td>0.1870</td>\n",
       "    </tr>\n",
       "    <tr>\n",
       "      <th>1</th>\n",
       "      <td>2100.0</td>\n",
       "      <td>39.0</td>\n",
       "      <td>520.4</td>\n",
       "      <td>0.1930</td>\n",
       "    </tr>\n",
       "    <tr>\n",
       "      <th>2</th>\n",
       "      <td>2200.0</td>\n",
       "      <td>53.0</td>\n",
       "      <td>534.4</td>\n",
       "      <td>0.1918</td>\n",
       "    </tr>\n",
       "    <tr>\n",
       "      <th>3</th>\n",
       "      <td>2300.0</td>\n",
       "      <td>71.0</td>\n",
       "      <td>550.0</td>\n",
       "      <td>0.1959</td>\n",
       "    </tr>\n",
       "    <tr>\n",
       "      <th>4</th>\n",
       "      <td>2400.0</td>\n",
       "      <td>105.0</td>\n",
       "      <td>567.4</td>\n",
       "      <td>0.2282</td>\n",
       "    </tr>\n",
       "  </tbody>\n",
       "</table>\n",
       "</div>"
      ],
      "text/plain": [
       "      phi      U     wl       I\n",
       "0  2000.0   26.0  507.6  0.1870\n",
       "1  2100.0   39.0  520.4  0.1930\n",
       "2  2200.0   53.0  534.4  0.1918\n",
       "3  2300.0   71.0  550.0  0.1959\n",
       "4  2400.0  105.0  567.4  0.2282"
      ]
     },
     "execution_count": 101,
     "metadata": {},
     "output_type": "execute_result"
    }
   ],
   "source": [
    "data2_ = data2.copy()\n",
    "data2_err = data2.copy()\n",
    "\n",
    "f1 = lambda x: np.float64(x.split()[0])\n",
    "f2 = lambda x: np.float64(x.split()[2])\n",
    "\n",
    "for col in cols:\n",
    "    data2_[col] = data2_[col].map(f1)\n",
    "    data2_err[col] = data2_err[col].map(f2)\n",
    "data2_.head()"
   ]
  },
  {
   "cell_type": "code",
   "execution_count": 102,
   "id": "10269d73",
   "metadata": {},
   "outputs": [],
   "source": [
    "data2_.drop([14, 15, 17], inplace=True)\n",
    "data2_err.drop([14, 15, 17], inplace=True)"
   ]
  },
  {
   "cell_type": "markdown",
   "id": "cba2d6b4",
   "metadata": {},
   "source": [
    "## Графички"
   ]
  },
  {
   "cell_type": "code",
   "execution_count": 103,
   "id": "011a943b",
   "metadata": {},
   "outputs": [
    {
     "data": {
      "image/png": "[encoded data removed]",
      "text/plain": [
       "<Figure size 900x600 with 1 Axes>"
      ]
     },
     "metadata": {
      "needs_background": "light"
     },
     "output_type": "display_data"
    }
   ],
   "source": [
    "# зависимость длины волны от угла для CdS\n",
    "fig, ax = plt.subplots(dpi=150)\n",
    "\n",
    "plt.errorbar(data_.wl, data_.I, fmt=\".\", color=\"k\"\n",
    "             , xerr=data_err.wl, yerr=data_err.I\n",
    "            )\n",
    "\n",
    "plt.ylim(0, 0.65)\n",
    "plt.ylabel(\"$I$, у.е.\")\n",
    "plt.xlabel(\"$\\\\lambda$, нм\")\n",
    "ax.minorticks_on()\n",
    "ax.grid(visible=True, which='major', color='k', linestyle='-', alpha=0.2)\n",
    "ax.grid(visible=True, which='minor', color='k', linestyle='--', alpha=0.1)\n",
    "plt.savefig(\"plot_CdS_6.11.2.pdf\", bbox_inches='tight', pad_inches=0)\n",
    "plt.show()"
   ]
  },
  {
   "cell_type": "code",
   "execution_count": 105,
   "id": "052c6dbb",
   "metadata": {},
   "outputs": [
    {
     "data": {
      "image/png": "[encoded data removed]",
      "text/plain": [
       "<Figure size 900x600 with 1 Axes>"
      ]
     },
     "metadata": {
      "needs_background": "light"
     },
     "output_type": "display_data"
    }
   ],
   "source": [
    "# зависимость длины волны от угла\n",
    "fig, ax = plt.subplots(dpi=150)\n",
    "\n",
    "plt.errorbar(data2_.wl, data2_.I, fmt=\".\", color=\"k\",\n",
    "             xerr=data2_err.wl, yerr=data2_err.I)\n",
    "\n",
    "# plt.ylim(0, 0.25)\n",
    "# plt.xlim(650, 750)\n",
    "plt.ylabel(\"$I$, у.е.\")\n",
    "plt.xlabel(\"$\\\\lambda$, нм\")\n",
    "ax.minorticks_on()\n",
    "ax.grid(visible=True, which='major', color='k', linestyle='-', alpha=0.2)\n",
    "ax.grid(visible=True, which='minor', color='k', linestyle='--', alpha=0.1)\n",
    "plt.savefig(\"plot_CdSe_6.11.2.pdf\", bbox_inches='tight', pad_inches=0)\n",
    "plt.show()"
   ]
  },
  {
   "cell_type": "markdown",
   "id": "f64e98d8",
   "metadata": {},
   "source": [
    "## Числа"
   ]
  },
  {
   "cell_type": "code",
   "execution_count": 116,
   "id": "57550c28",
   "metadata": {},
   "outputs": [],
   "source": [
    "hbar = 1.05457e-34;\n",
    "eV   = 1.6e-19;\n",
    "c    = 3e8;\n",
    "\n",
    "def GetE(wl):\n",
    "    return hbar * 2 * np.pi * c / wl * 1e9 / eV\n",
    "\n",
    "def GetWl(E):\n",
    "    return hbar * 2 * np.pi * c / E / eV * 1e9"
   ]
  },
  {
   "cell_type": "code",
   "execution_count": 117,
   "id": "26b403ec",
   "metadata": {},
   "outputs": [
    {
     "data": {
      "text/plain": [
       "496.9544047044282"
      ]
     },
     "execution_count": 117,
     "metadata": {},
     "output_type": "execute_result"
    }
   ],
   "source": [
    "GetWl(2.5)"
   ]
  },
  {
   "cell_type": "markdown",
   "id": "6dd60da8",
   "metadata": {},
   "source": [
    "### CdS"
   ]
  },
  {
   "cell_type": "code",
   "execution_count": 132,
   "id": "6d904f45",
   "metadata": {},
   "outputs": [
    {
     "data": {
      "text/plain": [
       "513.3826494880457"
      ]
     },
     "execution_count": 132,
     "metadata": {},
     "output_type": "execute_result"
    }
   ],
   "source": [
    "# табличное значение CdS запрещенной зоны\n",
    "GetWl(2.42) "
   ]
  },
  {
   "cell_type": "code",
   "execution_count": 130,
   "id": "350f0035",
   "metadata": {},
   "outputs": [
    {
     "data": {
      "text/plain": [
       "2.1796245820369657"
      ]
     },
     "execution_count": 130,
     "metadata": {},
     "output_type": "execute_result"
    }
   ],
   "source": [
    "# видимое значение CdS запрещенной зоны\n",
    "GetE(570)"
   ]
  },
  {
   "cell_type": "code",
   "execution_count": 131,
   "id": "e3155d16",
   "metadata": {},
   "outputs": [
    {
     "data": {
      "text/plain": [
       "2.484772023522141"
      ]
     },
     "execution_count": 131,
     "metadata": {},
     "output_type": "execute_result"
    }
   ],
   "source": [
    "# примесный пик CdS\n",
    "GetE(500)"
   ]
  },
  {
   "cell_type": "markdown",
   "id": "4c43214e",
   "metadata": {},
   "source": [
    "### CdSe"
   ]
  },
  {
   "cell_type": "code",
   "execution_count": 133,
   "id": "d266dfad",
   "metadata": {},
   "outputs": [
    {
     "data": {
      "text/plain": [
       "714.0149492879717"
      ]
     },
     "execution_count": 133,
     "metadata": {},
     "output_type": "execute_result"
    }
   ],
   "source": [
    "# табличное значение CdSe запрещенной зоны\n",
    "GetWl(1.74) "
   ]
  },
  {
   "cell_type": "code",
   "execution_count": 136,
   "id": "7b0fba07",
   "metadata": {},
   "outputs": [
    {
     "data": {
      "text/plain": [
       "1.656514682348094"
      ]
     },
     "execution_count": 136,
     "metadata": {},
     "output_type": "execute_result"
    }
   ],
   "source": [
    "# видимое значение CdSe запрещенной зоны\n",
    "GetE(750) "
   ]
  },
  {
   "cell_type": "code",
   "execution_count": 137,
   "id": "c1a54942",
   "metadata": {},
   "outputs": [
    {
     "data": {
      "text/plain": [
       "1.9113630950170317"
      ]
     },
     "execution_count": 137,
     "metadata": {},
     "output_type": "execute_result"
    }
   ],
   "source": [
    "# характерное плато CdSe\n",
    "GetE(650)"
   ]
  }
 ],
 "metadata": {
  "kernelspec": {
   "display_name": "Python 3 (ipykernel)",
   "language": "python",
   "name": "python3"
  },
  "language_info": {
   "codemirror_mode": {
    "name": "ipython",
    "version": 3
   },
   "file_extension": ".py",
   "mimetype": "text/x-python",
   "name": "python",
   "nbconvert_exporter": "python",
   "pygments_lexer": "ipython3",
   "version": "3.9.7"
  }
 },
 "nbformat": 4,
 "nbformat_minor": 5
}

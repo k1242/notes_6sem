{
 "cells": [
  {
   "cell_type": "code",
   "execution_count": 1,
   "id": "68e7ac54",
   "metadata": {},
   "outputs": [],
   "source": [
    "import pandas as pd\n",
    "import numpy as np\n",
    "import matplotlib.pyplot as plt"
   ]
  },
  {
   "cell_type": "code",
   "execution_count": 115,
   "id": "03b59b94",
   "metadata": {},
   "outputs": [],
   "source": [
    "# включим для графиков LaTeX и добавим русский\n",
    "from matplotlib import rc\n",
    "rc('font',**{'family':'serif'})\n",
    "rc('text', usetex=True)\n",
    "rc('text.latex', preamble='\\\\usepackage[utf8]{inputenc}')\n",
    "rc('text.latex', preamble='\\\\usepackage[russian]{babel}')"
   ]
  },
  {
   "cell_type": "markdown",
   "id": "dd93d889",
   "metadata": {},
   "source": [
    "## Таблицы"
   ]
  },
  {
   "cell_type": "code",
   "execution_count": 253,
   "id": "30973ce1",
   "metadata": {},
   "outputs": [],
   "source": [
    "# pip install xlrd\n",
    "# ..."
   ]
  },
  {
   "cell_type": "code",
   "execution_count": 37,
   "id": "6eb44851",
   "metadata": {},
   "outputs": [],
   "source": [
    "data = pd.read_csv(\"df_CdS.csv\", header=0)\n",
    "data = data.head()"
   ]
  },
  {
   "cell_type": "code",
   "execution_count": 38,
   "id": "f77c8e4b",
   "metadata": {},
   "outputs": [
    {
     "data": {
      "text/html": [
       "<div>\n",
       "<style scoped>\n",
       "    .dataframe tbody tr th:only-of-type {\n",
       "        vertical-align: middle;\n",
       "    }\n",
       "\n",
       "    .dataframe tbody tr th {\n",
       "        vertical-align: top;\n",
       "    }\n",
       "\n",
       "    .dataframe thead th {\n",
       "        text-align: right;\n",
       "    }\n",
       "</style>\n",
       "<table border=\"1\" class=\"dataframe\">\n",
       "  <thead>\n",
       "    <tr style=\"text-align: right;\">\n",
       "      <th></th>\n",
       "      <th>ϕ</th>\n",
       "      <th>U</th>\n",
       "      <th>λ</th>\n",
       "      <th>I</th>\n",
       "    </tr>\n",
       "  </thead>\n",
       "  <tbody>\n",
       "    <tr>\n",
       "      <th>0</th>\n",
       "      <td>1600.0 ± 10.0</td>\n",
       "      <td>4.0 ± 2.0</td>\n",
       "      <td>459.1 ± 1.3</td>\n",
       "      <td>0.355 ± 0.041</td>\n",
       "    </tr>\n",
       "    <tr>\n",
       "      <th>1</th>\n",
       "      <td>1700.0 ± 10.0</td>\n",
       "      <td>7.0 ± 2.0</td>\n",
       "      <td>471.6 ± 1.2</td>\n",
       "      <td>0.409 ± 0.041</td>\n",
       "    </tr>\n",
       "    <tr>\n",
       "      <th>2</th>\n",
       "      <td>1800.0 ± 10.0</td>\n",
       "      <td>12.0 ± 2.0</td>\n",
       "      <td>483.5 ± 1.2</td>\n",
       "      <td>0.375 ± 0.033</td>\n",
       "    </tr>\n",
       "    <tr>\n",
       "      <th>3</th>\n",
       "      <td>1900.0 ± 10.0</td>\n",
       "      <td>23.0 ± 2.0</td>\n",
       "      <td>495.4 ± 1.2</td>\n",
       "      <td>0.359 ± 0.024</td>\n",
       "    </tr>\n",
       "    <tr>\n",
       "      <th>4</th>\n",
       "      <td>1925.0 ± 10.0</td>\n",
       "      <td>34.0 ± 2.0</td>\n",
       "      <td>498.4 ± 1.2</td>\n",
       "      <td>0.423 ± 0.025</td>\n",
       "    </tr>\n",
       "  </tbody>\n",
       "</table>\n",
       "</div>"
      ],
      "text/plain": [
       "               ϕ           U            λ              I\n",
       "0  1600.0 ± 10.0   4.0 ± 2.0  459.1 ± 1.3  0.355 ± 0.041\n",
       "1  1700.0 ± 10.0   7.0 ± 2.0  471.6 ± 1.2  0.409 ± 0.041\n",
       "2  1800.0 ± 10.0  12.0 ± 2.0  483.5 ± 1.2  0.375 ± 0.033\n",
       "3  1900.0 ± 10.0  23.0 ± 2.0  495.4 ± 1.2  0.359 ± 0.024\n",
       "4  1925.0 ± 10.0  34.0 ± 2.0  498.4 ± 1.2  0.423 ± 0.025"
      ]
     },
     "execution_count": 38,
     "metadata": {},
     "output_type": "execute_result"
    }
   ],
   "source": [
    "data.head()"
   ]
  },
  {
   "cell_type": "code",
   "execution_count": 39,
   "id": "2c144f4d",
   "metadata": {},
   "outputs": [],
   "source": [
    "data.columns = [\"c1\", \"c2\", \"c3\", \"c4\"]"
   ]
  },
  {
   "cell_type": "code",
   "execution_count": 40,
   "id": "67a5519d",
   "metadata": {},
   "outputs": [
    {
     "data": {
      "text/html": [
       "<div>\n",
       "<style scoped>\n",
       "    .dataframe tbody tr th:only-of-type {\n",
       "        vertical-align: middle;\n",
       "    }\n",
       "\n",
       "    .dataframe tbody tr th {\n",
       "        vertical-align: top;\n",
       "    }\n",
       "\n",
       "    .dataframe thead th {\n",
       "        text-align: right;\n",
       "    }\n",
       "</style>\n",
       "<table border=\"1\" class=\"dataframe\">\n",
       "  <thead>\n",
       "    <tr style=\"text-align: right;\">\n",
       "      <th></th>\n",
       "      <th>c1</th>\n",
       "      <th>c2</th>\n",
       "      <th>c3</th>\n",
       "      <th>c4</th>\n",
       "    </tr>\n",
       "  </thead>\n",
       "  <tbody>\n",
       "    <tr>\n",
       "      <th>0</th>\n",
       "      <td>1600.0 ± 10.0</td>\n",
       "      <td>4.0 ± 2.0</td>\n",
       "      <td>459.1 ± 1.3</td>\n",
       "      <td>0.355 ± 0.041</td>\n",
       "    </tr>\n",
       "    <tr>\n",
       "      <th>1</th>\n",
       "      <td>1700.0 ± 10.0</td>\n",
       "      <td>7.0 ± 2.0</td>\n",
       "      <td>471.6 ± 1.2</td>\n",
       "      <td>0.409 ± 0.041</td>\n",
       "    </tr>\n",
       "    <tr>\n",
       "      <th>2</th>\n",
       "      <td>1800.0 ± 10.0</td>\n",
       "      <td>12.0 ± 2.0</td>\n",
       "      <td>483.5 ± 1.2</td>\n",
       "      <td>0.375 ± 0.033</td>\n",
       "    </tr>\n",
       "    <tr>\n",
       "      <th>3</th>\n",
       "      <td>1900.0 ± 10.0</td>\n",
       "      <td>23.0 ± 2.0</td>\n",
       "      <td>495.4 ± 1.2</td>\n",
       "      <td>0.359 ± 0.024</td>\n",
       "    </tr>\n",
       "    <tr>\n",
       "      <th>4</th>\n",
       "      <td>1925.0 ± 10.0</td>\n",
       "      <td>34.0 ± 2.0</td>\n",
       "      <td>498.4 ± 1.2</td>\n",
       "      <td>0.423 ± 0.025</td>\n",
       "    </tr>\n",
       "  </tbody>\n",
       "</table>\n",
       "</div>"
      ],
      "text/plain": [
       "              c1          c2           c3             c4\n",
       "0  1600.0 ± 10.0   4.0 ± 2.0  459.1 ± 1.3  0.355 ± 0.041\n",
       "1  1700.0 ± 10.0   7.0 ± 2.0  471.6 ± 1.2  0.409 ± 0.041\n",
       "2  1800.0 ± 10.0  12.0 ± 2.0  483.5 ± 1.2  0.375 ± 0.033\n",
       "3  1900.0 ± 10.0  23.0 ± 2.0  495.4 ± 1.2  0.359 ± 0.024\n",
       "4  1925.0 ± 10.0  34.0 ± 2.0  498.4 ± 1.2  0.423 ± 0.025"
      ]
     },
     "execution_count": 40,
     "metadata": {},
     "output_type": "execute_result"
    }
   ],
   "source": [
    "data.head()"
   ]
  },
  {
   "cell_type": "code",
   "execution_count": 41,
   "id": "c1114b4c",
   "metadata": {
    "scrolled": true
   },
   "outputs": [
    {
     "data": {
      "text/html": [
       "<div>\n",
       "<style scoped>\n",
       "    .dataframe tbody tr th:only-of-type {\n",
       "        vertical-align: middle;\n",
       "    }\n",
       "\n",
       "    .dataframe tbody tr th {\n",
       "        vertical-align: top;\n",
       "    }\n",
       "\n",
       "    .dataframe thead th {\n",
       "        text-align: right;\n",
       "    }\n",
       "</style>\n",
       "<table border=\"1\" class=\"dataframe\">\n",
       "  <thead>\n",
       "    <tr style=\"text-align: right;\">\n",
       "      <th></th>\n",
       "      <th>c1</th>\n",
       "      <th>c3</th>\n",
       "    </tr>\n",
       "  </thead>\n",
       "  <tbody>\n",
       "    <tr>\n",
       "      <th>0</th>\n",
       "      <td>1600.0 ± 10.0</td>\n",
       "      <td>459.1 ± 1.3</td>\n",
       "    </tr>\n",
       "    <tr>\n",
       "      <th>1</th>\n",
       "      <td>1700.0 ± 10.0</td>\n",
       "      <td>471.6 ± 1.2</td>\n",
       "    </tr>\n",
       "    <tr>\n",
       "      <th>2</th>\n",
       "      <td>1800.0 ± 10.0</td>\n",
       "      <td>483.5 ± 1.2</td>\n",
       "    </tr>\n",
       "    <tr>\n",
       "      <th>3</th>\n",
       "      <td>1900.0 ± 10.0</td>\n",
       "      <td>495.4 ± 1.2</td>\n",
       "    </tr>\n",
       "    <tr>\n",
       "      <th>4</th>\n",
       "      <td>1925.0 ± 10.0</td>\n",
       "      <td>498.4 ± 1.2</td>\n",
       "    </tr>\n",
       "  </tbody>\n",
       "</table>\n",
       "</div>"
      ],
      "text/plain": [
       "              c1           c3\n",
       "0  1600.0 ± 10.0  459.1 ± 1.3\n",
       "1  1700.0 ± 10.0  471.6 ± 1.2\n",
       "2  1800.0 ± 10.0  483.5 ± 1.2\n",
       "3  1900.0 ± 10.0  495.4 ± 1.2\n",
       "4  1925.0 ± 10.0  498.4 ± 1.2"
      ]
     },
     "execution_count": 41,
     "metadata": {},
     "output_type": "execute_result"
    }
   ],
   "source": [
    "# обращение к столбцу\n",
    "# data[data.columns[1]\n",
    "data[[\"c1\",\"c3\"]]"
   ]
  },
  {
   "cell_type": "code",
   "execution_count": 42,
   "id": "67876901",
   "metadata": {
    "scrolled": true
   },
   "outputs": [
    {
     "name": "stdout",
     "output_type": "stream",
     "text": [
      "\\begin{tabular}{lllll}\n",
      "\\toprule\n",
      "{} &             c1 &          c2 &           c3 &             c4 \\\\\n",
      "\\midrule\n",
      "0 &  1600.0 ± 10.0 &   4.0 ± 2.0 &  459.1 ± 1.3 &  0.355 ± 0.041 \\\\\n",
      "1 &  1700.0 ± 10.0 &   7.0 ± 2.0 &  471.6 ± 1.2 &  0.409 ± 0.041 \\\\\n",
      "2 &  1800.0 ± 10.0 &  12.0 ± 2.0 &  483.5 ± 1.2 &  0.375 ± 0.033 \\\\\n",
      "3 &  1900.0 ± 10.0 &  23.0 ± 2.0 &  495.4 ± 1.2 &  0.359 ± 0.024 \\\\\n",
      "4 &  1925.0 ± 10.0 &  34.0 ± 2.0 &  498.4 ± 1.2 &  0.423 ± 0.025 \\\\\n",
      "\\bottomrule\n",
      "\\end{tabular}\n",
      "\n"
     ]
    },
    {
     "name": "stderr",
     "output_type": "stream",
     "text": [
      "C:\\Users\\ka124\\AppData\\Local\\Temp\\ipykernel_10660\\2325418431.py:2: FutureWarning: In future versions `DataFrame.to_latex` is expected to utilise the base implementation of `Styler.to_latex` for formatting and rendering. The arguments signature may therefore change. It is recommended instead to use `DataFrame.style.to_latex` which also contains additional functionality.\n",
      "  print(data.to_latex())\n"
     ]
    }
   ],
   "source": [
    "# вписать в преамбулу \\usepackage{booktabs}\n",
    "print(data.to_latex())"
   ]
  },
  {
   "cell_type": "code",
   "execution_count": 49,
   "id": "4700436f",
   "metadata": {},
   "outputs": [
    {
     "data": {
      "text/plain": [
       "Index(['c1', 'c2', 'c3', 'c4'], dtype='object')"
      ]
     },
     "execution_count": 49,
     "metadata": {},
     "output_type": "execute_result"
    }
   ],
   "source": [
    "cols = data.columns\n",
    "cols"
   ]
  },
  {
   "cell_type": "code",
   "execution_count": 50,
   "id": "6d9f3ba3",
   "metadata": {},
   "outputs": [],
   "source": [
    "data_ = data.copy()\n",
    "\n",
    "# def f(x): return x.split()[0]\n",
    "f = lambda x: np.float64(x.split()[0])\n",
    "\n",
    "for col in cols:\n",
    "    data_[col] = data_[col].map(f)"
   ]
  },
  {
   "cell_type": "code",
   "execution_count": 51,
   "id": "5762e38c",
   "metadata": {},
   "outputs": [
    {
     "data": {
      "text/html": [
       "<div>\n",
       "<style scoped>\n",
       "    .dataframe tbody tr th:only-of-type {\n",
       "        vertical-align: middle;\n",
       "    }\n",
       "\n",
       "    .dataframe tbody tr th {\n",
       "        vertical-align: top;\n",
       "    }\n",
       "\n",
       "    .dataframe thead th {\n",
       "        text-align: right;\n",
       "    }\n",
       "</style>\n",
       "<table border=\"1\" class=\"dataframe\">\n",
       "  <thead>\n",
       "    <tr style=\"text-align: right;\">\n",
       "      <th></th>\n",
       "      <th>c1</th>\n",
       "      <th>c2</th>\n",
       "      <th>c3</th>\n",
       "      <th>c4</th>\n",
       "    </tr>\n",
       "  </thead>\n",
       "  <tbody>\n",
       "    <tr>\n",
       "      <th>0</th>\n",
       "      <td>1600.0</td>\n",
       "      <td>4.0</td>\n",
       "      <td>459.1</td>\n",
       "      <td>0.355</td>\n",
       "    </tr>\n",
       "    <tr>\n",
       "      <th>1</th>\n",
       "      <td>1700.0</td>\n",
       "      <td>7.0</td>\n",
       "      <td>471.6</td>\n",
       "      <td>0.409</td>\n",
       "    </tr>\n",
       "    <tr>\n",
       "      <th>2</th>\n",
       "      <td>1800.0</td>\n",
       "      <td>12.0</td>\n",
       "      <td>483.5</td>\n",
       "      <td>0.375</td>\n",
       "    </tr>\n",
       "    <tr>\n",
       "      <th>3</th>\n",
       "      <td>1900.0</td>\n",
       "      <td>23.0</td>\n",
       "      <td>495.4</td>\n",
       "      <td>0.359</td>\n",
       "    </tr>\n",
       "    <tr>\n",
       "      <th>4</th>\n",
       "      <td>1925.0</td>\n",
       "      <td>34.0</td>\n",
       "      <td>498.4</td>\n",
       "      <td>0.423</td>\n",
       "    </tr>\n",
       "  </tbody>\n",
       "</table>\n",
       "</div>"
      ],
      "text/plain": [
       "       c1    c2     c3     c4\n",
       "0  1600.0   4.0  459.1  0.355\n",
       "1  1700.0   7.0  471.6  0.409\n",
       "2  1800.0  12.0  483.5  0.375\n",
       "3  1900.0  23.0  495.4  0.359\n",
       "4  1925.0  34.0  498.4  0.423"
      ]
     },
     "execution_count": 51,
     "metadata": {},
     "output_type": "execute_result"
    }
   ],
   "source": [
    "data_"
   ]
  },
  {
   "cell_type": "code",
   "execution_count": 54,
   "id": "d505f011",
   "metadata": {},
   "outputs": [
    {
     "data": {
      "text/plain": [
       "0    False\n",
       "1    False\n",
       "2     True\n",
       "3     True\n",
       "4     True\n",
       "Name: c2, dtype: bool"
      ]
     },
     "execution_count": 54,
     "metadata": {},
     "output_type": "execute_result"
    }
   ],
   "source": [
    "# фильтрация\n",
    "data_[\"c2\"] > 10"
   ]
  },
  {
   "cell_type": "code",
   "execution_count": 56,
   "id": "e0a38c6d",
   "metadata": {},
   "outputs": [
    {
     "data": {
      "text/html": [
       "<div>\n",
       "<style scoped>\n",
       "    .dataframe tbody tr th:only-of-type {\n",
       "        vertical-align: middle;\n",
       "    }\n",
       "\n",
       "    .dataframe tbody tr th {\n",
       "        vertical-align: top;\n",
       "    }\n",
       "\n",
       "    .dataframe thead th {\n",
       "        text-align: right;\n",
       "    }\n",
       "</style>\n",
       "<table border=\"1\" class=\"dataframe\">\n",
       "  <thead>\n",
       "    <tr style=\"text-align: right;\">\n",
       "      <th></th>\n",
       "      <th>c1</th>\n",
       "      <th>c2</th>\n",
       "      <th>c3</th>\n",
       "      <th>c4</th>\n",
       "    </tr>\n",
       "  </thead>\n",
       "  <tbody>\n",
       "    <tr>\n",
       "      <th>2</th>\n",
       "      <td>1800.0</td>\n",
       "      <td>12.0</td>\n",
       "      <td>483.5</td>\n",
       "      <td>0.375</td>\n",
       "    </tr>\n",
       "    <tr>\n",
       "      <th>3</th>\n",
       "      <td>1900.0</td>\n",
       "      <td>23.0</td>\n",
       "      <td>495.4</td>\n",
       "      <td>0.359</td>\n",
       "    </tr>\n",
       "    <tr>\n",
       "      <th>4</th>\n",
       "      <td>1925.0</td>\n",
       "      <td>34.0</td>\n",
       "      <td>498.4</td>\n",
       "      <td>0.423</td>\n",
       "    </tr>\n",
       "  </tbody>\n",
       "</table>\n",
       "</div>"
      ],
      "text/plain": [
       "       c1    c2     c3     c4\n",
       "2  1800.0  12.0  483.5  0.375\n",
       "3  1900.0  23.0  495.4  0.359\n",
       "4  1925.0  34.0  498.4  0.423"
      ]
     },
     "execution_count": 56,
     "metadata": {},
     "output_type": "execute_result"
    }
   ],
   "source": [
    "data_[data_[\"c2\"] > 10]"
   ]
  },
  {
   "cell_type": "code",
   "execution_count": 61,
   "id": "76e983ec",
   "metadata": {},
   "outputs": [
    {
     "data": {
      "text/plain": [
       "[16.0, 34.0, 4.0]"
      ]
     },
     "execution_count": 61,
     "metadata": {},
     "output_type": "execute_result"
    }
   ],
   "source": [
    "# вся таблица -- DataFrame\n",
    "# один столбец/строка -- Series\n",
    "[data_[\"c2\"].mean(), data_[\"c2\"].max(), data_[\"c2\"].min()]"
   ]
  },
  {
   "cell_type": "markdown",
   "id": "c4e134fa",
   "metadata": {},
   "source": [
    "## Графики"
   ]
  },
  {
   "cell_type": "code",
   "execution_count": 68,
   "id": "4d17e9cb",
   "metadata": {},
   "outputs": [],
   "source": [
    "x = data_[\"c2\"]\n",
    "y = data_[\"c4\"]"
   ]
  },
  {
   "cell_type": "code",
   "execution_count": 71,
   "id": "d989965f",
   "metadata": {},
   "outputs": [
    {
     "data": {
      "text/plain": [
       "array([ 4.,  7., 12., 23., 34.])"
      ]
     },
     "execution_count": 71,
     "metadata": {},
     "output_type": "execute_result"
    }
   ],
   "source": [
    "np.array(x)"
   ]
  },
  {
   "cell_type": "code",
   "execution_count": 72,
   "id": "12e09fc8",
   "metadata": {},
   "outputs": [
    {
     "data": {
      "text/plain": [
       "0    2.000000\n",
       "1    2.645751\n",
       "2    3.464102\n",
       "3    4.795832\n",
       "4    5.830952\n",
       "Name: c2, dtype: float64"
      ]
     },
     "execution_count": 72,
     "metadata": {},
     "output_type": "execute_result"
    }
   ],
   "source": [
    "np.sqrt(x)"
   ]
  },
  {
   "cell_type": "code",
   "execution_count": 78,
   "id": "a3874f00",
   "metadata": {},
   "outputs": [
    {
     "data": {
      "image/png": "[encoded data removed]",
      "text/plain": [
       "<Figure size 432x288 with 1 Axes>"
      ]
     },
     "metadata": {
      "needs_background": "light"
     },
     "output_type": "display_data"
    }
   ],
   "source": [
    "plt.plot(x, y)\n",
    "plt.savefig(\"1.pdf\")\n",
    "# если обрезаются края, то\n",
    "# plt.savefig(\"1.pdf\", bbox_inches='tight', pad_inches=0)\n",
    "plt.show()"
   ]
  },
  {
   "cell_type": "code",
   "execution_count": 124,
   "id": "6bba9f95",
   "metadata": {},
   "outputs": [
    {
     "data": {
      "image/png": "[encoded data removed]",
      "text/plain": [
       "<Figure size 800x400 with 2 Axes>"
      ]
     },
     "metadata": {
      "needs_background": "light"
     },
     "output_type": "display_data"
    }
   ],
   "source": [
    "# несколько графиков\n",
    "# alpha -- прозрачность\n",
    "fig, axs = plt.subplots(1, 2, dpi=100, figsize=(8, 4))\n",
    "axs[0].scatter(x, y, color=\"k\", alpha=0.5)\n",
    "axs[1].scatter(x, y**2, color=\"k\", alpha=0.5)\n",
    "axs[0].set_xlabel(\"f\")\n",
    "axs[0].set_ylabel(\"$\\\\alpha^2 + \\\\sqrt{\\\\gamma}$, м/с\")\n",
    "plt.show()"
   ]
  },
  {
   "cell_type": "code",
   "execution_count": 134,
   "id": "3b4c8330",
   "metadata": {},
   "outputs": [
    {
     "data": {
      "image/png": "[encoded data removed]",
      "text/plain": [
       "<Figure size 400x400 with 1 Axes>"
      ]
     },
     "metadata": {
      "needs_background": "light"
     },
     "output_type": "display_data"
    }
   ],
   "source": [
    "fig, ax = plt.subplots(dpi=100, figsize=(4, 4)) #важно\n",
    "ax.scatter(x, y, color=\"b\", label=\"красные\")\n",
    "ax.scatter(x, y+0.01, color=\"r\", label=\"синие\")\n",
    "ax.minorticks_on()\n",
    "ax.grid(visible=True, which='major', color='k', linestyle='-', alpha=0.2)\n",
    "ax.grid(visible=True, which='minor', color='k', linestyle='--', alpha=0.1)\n",
    "plt.xlabel(\"Ось $X$\")\n",
    "plt.ylabel(\"Ось $Y$\")\n",
    "plt.legend()\n",
    "plt.show()"
   ]
  },
  {
   "cell_type": "markdown",
   "id": "8eaeb753",
   "metadata": {},
   "source": [
    "## Погрешности"
   ]
  },
  {
   "cell_type": "code",
   "execution_count": 155,
   "id": "5e5bc8fb",
   "metadata": {},
   "outputs": [
    {
     "data": {
      "image/png": "[encoded data removed]",
      "text/plain": [
       "<Figure size 400x400 with 1 Axes>"
      ]
     },
     "metadata": {
      "needs_background": "light"
     },
     "output_type": "display_data"
    }
   ],
   "source": [
    "fig, ax = plt.subplots(dpi=100, figsize=(4, 4)) \n",
    "ax.errorbar(x, y, fmt=\",\", yerr=0.01, xerr=data_[\"c3\"]  * 2e-3, color=\"k\")\n",
    "ax.scatter(x, y, color=\"k\", s=10)\n",
    "plt.show()"
   ]
  },
  {
   "cell_type": "markdown",
   "id": "a76416cd",
   "metadata": {},
   "source": [
    "## Фит полиномом"
   ]
  },
  {
   "cell_type": "code",
   "execution_count": 159,
   "id": "929547fc",
   "metadata": {},
   "outputs": [],
   "source": [
    "rc('text', usetex=False)"
   ]
  },
  {
   "cell_type": "code",
   "execution_count": 184,
   "id": "0e060acb",
   "metadata": {},
   "outputs": [
    {
     "data": {
      "image/png": "[encoded data removed]",
      "text/plain": [
       "<Figure size 432x288 with 1 Axes>"
      ]
     },
     "metadata": {
      "needs_background": "light"
     },
     "output_type": "display_data"
    }
   ],
   "source": [
    "x = np.linspace(-1, 1, 10)\n",
    "y = x**2 + 0.5 * x\n",
    "plt.scatter(x, y)\n",
    "plt.show()"
   ]
  },
  {
   "cell_type": "code",
   "execution_count": 185,
   "id": "fb4d3629",
   "metadata": {},
   "outputs": [],
   "source": [
    "par, cov = np.polyfit(x, y, 3, cov=True)"
   ]
  },
  {
   "cell_type": "code",
   "execution_count": 186,
   "id": "8e6be94f",
   "metadata": {},
   "outputs": [
    {
     "data": {
      "text/plain": [
       "array([2.87853173e-15, 1.00000000e+00, 5.00000000e-01, 1.25508310e-16])"
      ]
     },
     "execution_count": 186,
     "metadata": {},
     "output_type": "execute_result"
    }
   ],
   "source": [
    "par"
   ]
  },
  {
   "cell_type": "code",
   "execution_count": 187,
   "id": "c2b0e65e",
   "metadata": {},
   "outputs": [
    {
     "data": {
      "text/plain": [
       "array([1.04042313e-16, 5.59210627e-17, 8.15716203e-17, 3.03596091e-17])"
      ]
     },
     "execution_count": 187,
     "metadata": {},
     "output_type": "execute_result"
    }
   ],
   "source": [
    "np.diag(cov)**0.5"
   ]
  },
  {
   "cell_type": "code",
   "execution_count": 190,
   "id": "2b4f48a7",
   "metadata": {},
   "outputs": [
    {
     "data": {
      "text/plain": [
       "1.500000000000001"
      ]
     },
     "execution_count": 190,
     "metadata": {},
     "output_type": "execute_result"
    }
   ],
   "source": [
    "g = np.poly1d(par)\n",
    "g(1)"
   ]
  },
  {
   "cell_type": "code",
   "execution_count": 191,
   "id": "a4f52e3b",
   "metadata": {},
   "outputs": [],
   "source": [
    "x0 = np.linspace(np.min(x), np.max(x), 100)"
   ]
  },
  {
   "cell_type": "code",
   "execution_count": 197,
   "id": "adb56b80",
   "metadata": {},
   "outputs": [
    {
     "data": {
      "image/png": "[encoded data removed]",
      "text/plain": [
       "<Figure size 432x288 with 1 Axes>"
      ]
     },
     "metadata": {
      "needs_background": "light"
     },
     "output_type": "display_data"
    }
   ],
   "source": [
    "plt.plot(x0, g(x0), \"g--\", label=\"fit\")\n",
    "plt.scatter(x, y, label=\"data\", s=5, color=\"k\")\n",
    "plt.legend()\n",
    "plt.show()"
   ]
  },
  {
   "cell_type": "markdown",
   "id": "05144082",
   "metadata": {},
   "source": [
    "## фит функции"
   ]
  },
  {
   "cell_type": "code",
   "execution_count": 240,
   "id": "276552d5",
   "metadata": {},
   "outputs": [
    {
     "data": {
      "image/png": "[encoded data removed]",
      "text/plain": [
       "<Figure size 432x288 with 1 Axes>"
      ]
     },
     "metadata": {
      "needs_background": "light"
     },
     "output_type": "display_data"
    }
   ],
   "source": [
    "x = np.linspace(-1, 1, 20)\n",
    "y = np.exp(-(x-1/4)**2 * 10) + 1 + np.exp(-(x+1/4)**2 * 10) \n",
    "plt.scatter(x, y)\n",
    "plt.ylim(0, 3)\n",
    "plt.show()"
   ]
  },
  {
   "cell_type": "code",
   "execution_count": 241,
   "id": "95a03dcc",
   "metadata": {},
   "outputs": [],
   "source": [
    "from scipy.optimize import curve_fit"
   ]
  },
  {
   "cell_type": "code",
   "execution_count": 242,
   "id": "f5fe378f",
   "metadata": {},
   "outputs": [],
   "source": [
    "def gauss(x, a1, b1, c1, a2, b2, c2, c):\n",
    "    return a1 * np.exp(-b1 * (x-c1)**2) + a2 * np.exp(-b2 * (x-c2)**2) + c"
   ]
  },
  {
   "cell_type": "code",
   "execution_count": 249,
   "id": "872fd3f0",
   "metadata": {},
   "outputs": [],
   "source": [
    "popt, pcov = curve_fit(gauss, x, y, p0 = [1, 1, -1, 1, 1, 1, 1])"
   ]
  },
  {
   "cell_type": "code",
   "execution_count": 250,
   "id": "ba1ee57c",
   "metadata": {},
   "outputs": [
    {
     "data": {
      "text/plain": [
       "array([ 1.  , 10.  ,  0.25,  1.  , 10.  , -0.25,  1.  ])"
      ]
     },
     "execution_count": 250,
     "metadata": {},
     "output_type": "execute_result"
    }
   ],
   "source": [
    "popt"
   ]
  },
  {
   "cell_type": "code",
   "execution_count": 251,
   "id": "4282f858",
   "metadata": {},
   "outputs": [
    {
     "data": {
      "image/png": "[encoded data removed]",
      "text/plain": [
       "<Figure size 432x288 with 1 Axes>"
      ]
     },
     "metadata": {
      "needs_background": "light"
     },
     "output_type": "display_data"
    }
   ],
   "source": [
    "plt.scatter(x, y)\n",
    "plt.plot(x0, gauss(x0, *popt))\n",
    "plt.show()"
   ]
  },
  {
   "cell_type": "code",
   "execution_count": null,
   "id": "89346a1a",
   "metadata": {},
   "outputs": [],
   "source": []
  }
 ],
 "metadata": {
  "kernelspec": {
   "display_name": "Python 3 (ipykernel)",
   "language": "python",
   "name": "python3"
  },
  "language_info": {
   "codemirror_mode": {
    "name": "ipython",
    "version": 3
   },
   "file_extension": ".py",
   "mimetype": "text/x-python",
   "name": "python",
   "nbconvert_exporter": "python",
   "pygments_lexer": "ipython3",
   "version": "3.9.7"
  }
 },
 "nbformat": 4,
 "nbformat_minor": 5
}

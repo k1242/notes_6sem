{
 "cells": [
  {
   "cell_type": "code",
   "execution_count": 1,
   "metadata": {
    "ExecuteTime": {
     "end_time": "2022-02-13T11:43:31.316254Z",
     "start_time": "2022-02-13T11:43:21.638017Z"
    }
   },
   "outputs": [],
   "source": [
    "import pandas as pd\n",
    "import numpy as np\n",
    "import matplotlib.pyplot as plt"
   ]
  },
  {
   "cell_type": "code",
   "execution_count": 86,
   "metadata": {
    "ExecuteTime": {
     "end_time": "2022-02-13T12:16:29.066723Z",
     "start_time": "2022-02-13T12:16:29.042695Z"
    }
   },
   "outputs": [],
   "source": [
    "plt.rcParams.update({\"text.usetex\": True})"
   ]
  },
  {
   "cell_type": "code",
   "execution_count": 54,
   "metadata": {
    "ExecuteTime": {
     "end_time": "2022-02-13T12:08:09.295219Z",
     "start_time": "2022-02-13T12:08:09.271221Z"
    }
   },
   "outputs": [],
   "source": [
    "data = pd.read_csv(\"data.csv\")\n",
    "data.columns = [\"V\", \"f\", \"f0\", \"T\", \"theta\"];\n",
    "\n",
    "data.drop([21], inplace=True)\n",
    "data.drop([24], inplace=True)"
   ]
  },
  {
   "cell_type": "code",
   "execution_count": 60,
   "metadata": {
    "ExecuteTime": {
     "end_time": "2022-02-13T12:09:15.596384Z",
     "start_time": "2022-02-13T12:09:15.544521Z"
    }
   },
   "outputs": [
    {
     "data": {
      "text/html": [
       "<div>\n",
       "<style scoped>\n",
       "    .dataframe tbody tr th:only-of-type {\n",
       "        vertical-align: middle;\n",
       "    }\n",
       "\n",
       "    .dataframe tbody tr th {\n",
       "        vertical-align: top;\n",
       "    }\n",
       "\n",
       "    .dataframe thead th {\n",
       "        text-align: right;\n",
       "    }\n",
       "</style>\n",
       "<table border=\"1\" class=\"dataframe\">\n",
       "  <thead>\n",
       "    <tr style=\"text-align: right;\">\n",
       "      <th></th>\n",
       "      <th>V</th>\n",
       "      <th>f</th>\n",
       "      <th>f0</th>\n",
       "      <th>T</th>\n",
       "      <th>theta</th>\n",
       "    </tr>\n",
       "  </thead>\n",
       "  <tbody>\n",
       "    <tr>\n",
       "      <th>0</th>\n",
       "      <td>-0.89</td>\n",
       "      <td>905.30</td>\n",
       "      <td>954.0</td>\n",
       "      <td>4.51</td>\n",
       "      <td>9.051</td>\n",
       "    </tr>\n",
       "    <tr>\n",
       "      <th>1</th>\n",
       "      <td>-0.77</td>\n",
       "      <td>905.45</td>\n",
       "      <td>953.7</td>\n",
       "      <td>7.44</td>\n",
       "      <td>9.139</td>\n",
       "    </tr>\n",
       "    <tr>\n",
       "      <th>2</th>\n",
       "      <td>-0.63</td>\n",
       "      <td>905.30</td>\n",
       "      <td>953.8</td>\n",
       "      <td>10.85</td>\n",
       "      <td>9.090</td>\n",
       "    </tr>\n",
       "    <tr>\n",
       "      <th>3</th>\n",
       "      <td>-0.52</td>\n",
       "      <td>906.30</td>\n",
       "      <td>954.0</td>\n",
       "      <td>13.54</td>\n",
       "      <td>9.256</td>\n",
       "    </tr>\n",
       "    <tr>\n",
       "      <th>4</th>\n",
       "      <td>-0.44</td>\n",
       "      <td>907.90</td>\n",
       "      <td>954.0</td>\n",
       "      <td>15.49</td>\n",
       "      <td>9.603</td>\n",
       "    </tr>\n",
       "  </tbody>\n",
       "</table>\n",
       "</div>"
      ],
      "text/plain": [
       "      V       f     f0      T  theta\n",
       "0 -0.89  905.30  954.0   4.51  9.051\n",
       "1 -0.77  905.45  953.7   7.44  9.139\n",
       "2 -0.63  905.30  953.8  10.85  9.090\n",
       "3 -0.52  906.30  954.0  13.54  9.256\n",
       "4 -0.44  907.90  954.0  15.49  9.603"
      ]
     },
     "execution_count": 60,
     "metadata": {},
     "output_type": "execute_result"
    }
   ],
   "source": [
    "f = lambda x: np.float(x.split()[0])\n",
    "data_ = data.copy()\n",
    "for col in data.columns:\n",
    "    data_[col] = data[col].map(f)\n",
    "data_.head()"
   ]
  },
  {
   "cell_type": "code",
   "execution_count": 99,
   "metadata": {
    "ExecuteTime": {
     "end_time": "2022-02-13T12:21:39.991168Z",
     "start_time": "2022-02-13T12:21:39.975170Z"
    }
   },
   "outputs": [],
   "source": [
    "## зависимость f_0 от Т\n",
    "# print(\"f0 = {:.2f} +- {:.2f}\".format(np.mean(data_.f0), np.std(data_.f0)))\n",
    "\n",
    "# fig, ax = plt.subplots(dpi=150)\n",
    "# ax.errorbar(data_[\"T\"]+273, (np.mean(data_.f0) - data_.f0)/np.mean(data_.f0)*100, color=\"g\", \n",
    "#            fmt=\",\", xerr=0.5, yerr=0.2 / np.mean(data_.f0)*100)\n",
    "# ax.minorticks_on()\n",
    "# ax.grid(b=True, which='major', color='k', linestyle='-', alpha=0.2)\n",
    "# ax.grid(b=True, which='minor', color='k', linestyle='--', alpha=0.1)\n",
    "# plt.ylabel(\"$(\\\\langle f_0 \\\\rangle - f_0) / \\\\langle f_0 \\\\rangle,\\\\ \\\\%$\")\n",
    "# plt.xlabel(\"$T,\\\\ \\\\mathrm K$\")\n",
    "# plt.show()"
   ]
  },
  {
   "cell_type": "code",
   "execution_count": 56,
   "metadata": {
    "ExecuteTime": {
     "end_time": "2022-02-13T12:08:09.845687Z",
     "start_time": "2022-02-13T12:08:09.813653Z"
    }
   },
   "outputs": [],
   "source": [
    "_f = data_.f;\n",
    "_f0 = data_.f0;\n",
    "\n",
    "y = _f**2 / (_f0**2 - _f**2);\n",
    "x = data_[\"T\"] + 273;"
   ]
  },
  {
   "cell_type": "code",
   "execution_count": 61,
   "metadata": {
    "ExecuteTime": {
     "end_time": "2022-02-13T12:09:18.405006Z",
     "start_time": "2022-02-13T12:09:18.378071Z"
    }
   },
   "outputs": [],
   "source": [
    "d_f  = 0.1;\n",
    "d_f0 = 0.4;\n",
    "err_rel = 2 * np.abs(d_f / _f) + np.abs((2 * _f0 * d_f0 + 2 * _f * d_f) / (_f0**2 - _f**2))\n",
    "err_abs = err_rel * y"
   ]
  },
  {
   "cell_type": "code",
   "execution_count": 62,
   "metadata": {
    "ExecuteTime": {
     "end_time": "2022-02-13T12:09:19.662670Z",
     "start_time": "2022-02-13T12:09:19.223811Z"
    }
   },
   "outputs": [
    {
     "data": {
      "image/png": "[encoded data removed]",
      "text/plain": [
       "<Figure size 432x288 with 1 Axes>"
      ]
     },
     "metadata": {
      "needs_background": "light"
     },
     "output_type": "display_data"
    }
   ],
   "source": [
    "fig, ax = plt.subplots()\n",
    "ax.errorbar(x, y, color=\"k\", fmt=\",\", xerr=0.5, yerr=err_abs)\n",
    "\n",
    "ax.minorticks_on()\n",
    "ax.grid(b=True, which='major', color='k', linestyle='-', alpha=0.2)\n",
    "ax.grid(b=True, which='minor', color='k', linestyle='--', alpha=0.1)\n",
    "plt.show()"
   ]
  },
  {
   "cell_type": "code",
   "execution_count": null,
   "metadata": {},
   "outputs": [],
   "source": []
  }
 ],
 "metadata": {
  "kernelspec": {
   "display_name": "Python 3",
   "language": "python",
   "name": "python3"
  },
  "language_info": {
   "codemirror_mode": {
    "name": "ipython",
    "version": 3
   },
   "file_extension": ".py",
   "mimetype": "text/x-python",
   "name": "python",
   "nbconvert_exporter": "python",
   "pygments_lexer": "ipython3",
   "version": "3.7.4"
  },
  "latex_envs": {
   "LaTeX_envs_menu_present": true,
   "autoclose": false,
   "autocomplete": true,
   "bibliofile": "biblio.bib",
   "cite_by": "apalike",
   "current_citInitial": 1,
   "eqLabelWithNumbers": true,
   "eqNumInitial": 1,
   "hotkeys": {
    "equation": "Ctrl-E",
    "itemize": "Ctrl-I"
   },
   "labels_anchors": false,
   "latex_user_defs": false,
   "report_style_numbering": false,
   "user_envs_cfg": false
  },
  "toc": {
   "base_numbering": 1,
   "nav_menu": {},
   "number_sections": true,
   "sideBar": true,
   "skip_h1_title": false,
   "title_cell": "Table of Contents",
   "title_sidebar": "Contents",
   "toc_cell": false,
   "toc_position": {},
   "toc_section_display": true,
   "toc_window_display": false
  },
  "varInspector": {
   "cols": {
    "lenName": 16,
    "lenType": 16,
    "lenVar": 40
   },
   "kernels_config": {
    "python": {
     "delete_cmd_postfix": "",
     "delete_cmd_prefix": "del ",
     "library": "var_list.py",
     "varRefreshCmd": "print(var_dic_list())"
    },
    "r": {
     "delete_cmd_postfix": ") ",
     "delete_cmd_prefix": "rm(",
     "library": "var_list.r",
     "varRefreshCmd": "cat(var_dic_list()) "
    }
   },
   "types_to_exclude": [
    "module",
    "function",
    "builtin_function_or_method",
    "instance",
    "_Feature"
   ],
   "window_display": false
  }
 },
 "nbformat": 4,
 "nbformat_minor": 2
}

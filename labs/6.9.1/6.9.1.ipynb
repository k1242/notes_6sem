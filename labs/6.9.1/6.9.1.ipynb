{
 "cells": [
  {
   "cell_type": "code",
   "execution_count": 1,
   "metadata": {
    "ExecuteTime": {
     "end_time": "2022-02-13T13:03:05.217116Z",
     "start_time": "2022-02-13T13:03:03.801743Z"
    }
   },
   "outputs": [],
   "source": [
    "import pandas as pd\n",
    "import numpy as np\n",
    "import matplotlib.pyplot as plt\n",
    "\n",
    "from scipy.optimize import curve_fit"
   ]
  },
  {
   "cell_type": "code",
   "execution_count": 2,
   "metadata": {
    "ExecuteTime": {
     "end_time": "2022-02-13T13:03:05.233040Z",
     "start_time": "2022-02-13T13:03:05.217116Z"
    }
   },
   "outputs": [],
   "source": [
    "plt.rcParams.update({\"text.usetex\": True})"
   ]
  },
  {
   "cell_type": "code",
   "execution_count": 3,
   "metadata": {
    "ExecuteTime": {
     "end_time": "2022-02-13T13:03:05.281075Z",
     "start_time": "2022-02-13T13:03:05.241041Z"
    }
   },
   "outputs": [],
   "source": [
    "data = pd.read_csv(\"data.csv\")\n",
    "data.columns = [\"V\", \"f\", \"f0\", \"T\", \"theta\"];\n",
    "\n",
    "data.drop([21], inplace=True)\n",
    "data.drop([24], inplace=True)"
   ]
  },
  {
   "cell_type": "code",
   "execution_count": 4,
   "metadata": {
    "ExecuteTime": {
     "end_time": "2022-02-13T13:03:05.321086Z",
     "start_time": "2022-02-13T13:03:05.281075Z"
    }
   },
   "outputs": [
    {
     "data": {
      "text/html": [
       "<div>\n",
       "<style scoped>\n",
       "    .dataframe tbody tr th:only-of-type {\n",
       "        vertical-align: middle;\n",
       "    }\n",
       "\n",
       "    .dataframe tbody tr th {\n",
       "        vertical-align: top;\n",
       "    }\n",
       "\n",
       "    .dataframe thead th {\n",
       "        text-align: right;\n",
       "    }\n",
       "</style>\n",
       "<table border=\"1\" class=\"dataframe\">\n",
       "  <thead>\n",
       "    <tr style=\"text-align: right;\">\n",
       "      <th></th>\n",
       "      <th>V</th>\n",
       "      <th>f</th>\n",
       "      <th>f0</th>\n",
       "      <th>T</th>\n",
       "      <th>theta</th>\n",
       "    </tr>\n",
       "  </thead>\n",
       "  <tbody>\n",
       "    <tr>\n",
       "      <th>0</th>\n",
       "      <td>-0.89</td>\n",
       "      <td>905.30</td>\n",
       "      <td>954.0</td>\n",
       "      <td>4.51</td>\n",
       "      <td>9.051</td>\n",
       "    </tr>\n",
       "    <tr>\n",
       "      <th>1</th>\n",
       "      <td>-0.77</td>\n",
       "      <td>905.45</td>\n",
       "      <td>953.7</td>\n",
       "      <td>7.44</td>\n",
       "      <td>9.139</td>\n",
       "    </tr>\n",
       "    <tr>\n",
       "      <th>2</th>\n",
       "      <td>-0.63</td>\n",
       "      <td>905.30</td>\n",
       "      <td>953.8</td>\n",
       "      <td>10.85</td>\n",
       "      <td>9.090</td>\n",
       "    </tr>\n",
       "    <tr>\n",
       "      <th>3</th>\n",
       "      <td>-0.52</td>\n",
       "      <td>906.30</td>\n",
       "      <td>954.0</td>\n",
       "      <td>13.54</td>\n",
       "      <td>9.256</td>\n",
       "    </tr>\n",
       "    <tr>\n",
       "      <th>4</th>\n",
       "      <td>-0.44</td>\n",
       "      <td>907.90</td>\n",
       "      <td>954.0</td>\n",
       "      <td>15.49</td>\n",
       "      <td>9.603</td>\n",
       "    </tr>\n",
       "  </tbody>\n",
       "</table>\n",
       "</div>"
      ],
      "text/plain": [
       "      V       f     f0      T  theta\n",
       "0 -0.89  905.30  954.0   4.51  9.051\n",
       "1 -0.77  905.45  953.7   7.44  9.139\n",
       "2 -0.63  905.30  953.8  10.85  9.090\n",
       "3 -0.52  906.30  954.0  13.54  9.256\n",
       "4 -0.44  907.90  954.0  15.49  9.603"
      ]
     },
     "execution_count": 4,
     "metadata": {},
     "output_type": "execute_result"
    }
   ],
   "source": [
    "f = lambda x: np.float(x.split()[0])\n",
    "data_ = data.copy()\n",
    "for col in data.columns:\n",
    "    data_[col] = data[col].map(f)\n",
    "\n",
    "# data_.f0 = np.mean(data_.f0) # замена f0 на среднее значение\n",
    "data_.head()"
   ]
  },
  {
   "cell_type": "code",
   "execution_count": 5,
   "metadata": {
    "ExecuteTime": {
     "end_time": "2022-02-13T13:03:05.337037Z",
     "start_time": "2022-02-13T13:03:05.321086Z"
    }
   },
   "outputs": [],
   "source": [
    "## зависимость f_0 от Т\n",
    "# print(\"f0 = {:.2f} +- {:.2f}\".format(np.mean(data_.f0), np.std(data_.f0)))\n",
    "\n",
    "# fig, ax = plt.subplots(dpi=150)\n",
    "# ax.errorbar(data_[\"T\"]+273, (np.mean(data_.f0) - data_.f0)/np.mean(data_.f0)*100, color=\"g\", \n",
    "#            fmt=\",\", xerr=0.5, yerr=0.2 / np.mean(data_.f0)*100)\n",
    "# ax.minorticks_on()\n",
    "# ax.grid(b=True, which='major', color='k', linestyle='-', alpha=0.2)\n",
    "# ax.grid(b=True, which='minor', color='k', linestyle='--', alpha=0.1)\n",
    "# plt.ylabel(\"$(\\\\langle f_0 \\\\rangle - f_0) / \\\\langle f_0 \\\\rangle,\\\\ \\\\%$\")\n",
    "# plt.xlabel(\"$T,\\\\ \\\\mathrm K$\")\n",
    "# plt.show()"
   ]
  },
  {
   "cell_type": "code",
   "execution_count": 6,
   "metadata": {
    "ExecuteTime": {
     "end_time": "2022-02-13T13:03:05.385116Z",
     "start_time": "2022-02-13T13:03:05.337037Z"
    }
   },
   "outputs": [],
   "source": [
    "_f = data_.f;\n",
    "_f0 = data_.f0;\n",
    "\n",
    "y = _f**2 / (_f0**2 - _f**2);\n",
    "x = data_[\"T\"] + 273;"
   ]
  },
  {
   "cell_type": "code",
   "execution_count": 7,
   "metadata": {
    "ExecuteTime": {
     "end_time": "2022-02-13T13:03:05.401158Z",
     "start_time": "2022-02-13T13:03:05.385116Z"
    }
   },
   "outputs": [],
   "source": [
    "d_f  = 0.1;\n",
    "d_f0 = 0.2;\n",
    "err_rel = 2 * np.abs(d_f / _f) + np.abs((2 * _f0 * d_f0 + 2 * _f * d_f) / (_f0**2 - _f**2))\n",
    "err_abs = err_rel * y"
   ]
  },
  {
   "cell_type": "code",
   "execution_count": 65,
   "metadata": {
    "ExecuteTime": {
     "end_time": "2022-02-13T16:24:09.861947Z",
     "start_time": "2022-02-13T16:24:09.821269Z"
    }
   },
   "outputs": [
    {
     "name": "stdout",
     "output_type": "stream",
     "text": [
      "T_K = 290.9 +- 1.0 К\n"
     ]
    }
   ],
   "source": [
    "start = 8\n",
    "end   = 16\n",
    "\n",
    "def fit_f(x, x0, a): return (x-x0) * a;\n",
    "(T_K, a), cov = curve_fit(fit_f, x[start:end], y[start:end])\n",
    "print(\"T_K = {:.1f} +- {:.1f} К\".format(T_K, np.ceil(cov[0][0]**0.5)))"
   ]
  },
  {
   "cell_type": "code",
   "execution_count": 66,
   "metadata": {
    "ExecuteTime": {
     "end_time": "2022-02-13T16:24:11.561175Z",
     "start_time": "2022-02-13T16:24:11.551159Z"
    }
   },
   "outputs": [
    {
     "data": {
      "text/plain": [
       "0.4528866004080969"
      ]
     },
     "execution_count": 66,
     "metadata": {},
     "output_type": "execute_result"
    }
   ],
   "source": [
    "chi2 = np.sum(((x[start:end] - T_K) * a - y[start:end])**2 / (a**2 * 0.5**2 + err_abs[start:end]**2)) / (end-start-2)\n",
    "chi2"
   ]
  },
  {
   "cell_type": "code",
   "execution_count": 67,
   "metadata": {
    "ExecuteTime": {
     "end_time": "2022-02-13T16:24:15.132383Z",
     "start_time": "2022-02-13T16:24:14.189908Z"
    }
   },
   "outputs": [
    {
     "name": "stdout",
     "output_type": "stream",
     "text": [
      "T_K = 290.9 +- 1.0\n"
     ]
    },
    {
     "data": {
      "image/png": "[encoded data removed]",
      "text/plain": [
       "<Figure size 1200x600 with 1 Axes>"
      ]
     },
     "metadata": {
      "needs_background": "light"
     },
     "output_type": "display_data"
    }
   ],
   "source": [
    "fig, ax = plt.subplots(figsize=(8, 4), dpi=150)\n",
    "x0 = np.linspace(200, 400, 20)\n",
    "ax.errorbar(x, y, color=\"k\", fmt=\",\", xerr=0.5, yerr=err_abs, label=\"$\\\\mathrm{data}$\")\n",
    "ax.plot(x0, (x0 - T_K) * a, \"--\", color=\"g\", label=\"$\\\\mathrm{fit}$\")\n",
    "\n",
    "ax.plot([x[start], x[start]], [0, 200], color=\"r\", label=\"$\\\\mathrm{fit\\\\ border}$\", alpha=0.5)\n",
    "ax.plot([x[end], x[end]], [0, 200], color=\"r\", alpha=0.5)\n",
    "\n",
    "ax.minorticks_on()\n",
    "ax.grid(b=True, which='major', color='k', linestyle='-', alpha=0.2)\n",
    "ax.grid(b=True, which='minor', color='k', linestyle='--', alpha=0.1)\n",
    "plt.xlim(275, 323)\n",
    "plt.ylim(0, 200)\n",
    "print(\"T_K = {:.1f} +- {:.1f}\".format(T_K, np.ceil(cov[0][0]**0.5)))\n",
    "plt.title(\"$T_{\\\\mathrm{K}} = 291 \\\\pm 1\\\\ \\\\mathrm{K},\\\\ \\\\ \\\\chi^2/\\\\mathrm{ndf} = 0.50$\")\n",
    "plt.legend()\n",
    "plt.ylabel(\"$(f_0^2/f^2-1)^{-1}$\")\n",
    "plt.xlabel(\"$T,\\\\ \\\\mathrm K$\")\n",
    "plt.savefig(\"plot.pdf\")\n",
    "plt.show()"
   ]
  },
  {
   "cell_type": "code",
   "execution_count": 29,
   "metadata": {
    "ExecuteTime": {
     "end_time": "2022-02-13T13:14:26.786157Z",
     "start_time": "2022-02-13T13:14:26.706086Z"
    }
   },
   "outputs": [
    {
     "name": "stdout",
     "output_type": "stream",
     "text": [
      "\\begin{tabular}{rrrrrr}\n",
      "\\toprule\n",
      "    V &     f &    f0 &    T &  theta &  sigma \\\\\n",
      "\\midrule\n",
      "-0.89 & 905.3 & 954.0 &  4.5 &    9.1 &    0.1 \\\\\n",
      "-0.77 & 905.4 & 953.7 &  7.4 &    9.1 &    0.1 \\\\\n",
      "-0.63 & 905.3 & 953.8 & 10.8 &    9.1 &    0.1 \\\\\n",
      "-0.52 & 906.3 & 954.0 & 13.5 &    9.3 &    0.1 \\\\\n",
      "-0.44 & 907.9 & 954.0 & 15.5 &    9.6 &    0.1 \\\\\n",
      "-0.37 & 910.5 & 954.0 & 17.2 &   10.2 &    0.1 \\\\\n",
      "-0.32 & 914.7 & 954.1 & 18.4 &   11.4 &    0.1 \\\\\n",
      "-0.27 & 920.0 & 953.9 & 19.6 &   13.4 &    0.1 \\\\\n",
      "-0.21 & 929.2 & 954.0 & 21.1 &   18.5 &    0.2 \\\\\n",
      "-0.16 & 935.6 & 954.2 & 22.3 &   24.8 &    0.4 \\\\\n",
      "-0.08 & 942.4 & 953.8 & 24.3 &   41.2 &    1.1 \\\\\n",
      " 0.01 & 946.0 & 954.4 & 26.5 &   56.3 &    2.0 \\\\\n",
      " 0.11 & 947.8 & 954.4 & 28.9 &   71.4 &    3.3 \\\\\n",
      " 0.22 & 949.0 & 954.4 & 31.6 &   88.0 &    4.9 \\\\\n",
      " 0.30 & 949.8 & 954.4 & 33.5 &  102.8 &    6.7 \\\\\n",
      " 0.40 & 950.0 & 954.4 & 36.0 &  108.0 &    7.4 \\\\\n",
      " 0.52 & 950.5 & 954.4 & 38.9 &  121.6 &    9.4 \\\\\n",
      " 0.54 & 950.6 & 954.4 & 39.4 &  123.3 &    9.6 \\\\\n",
      " 0.60 & 950.9 & 954.2 & 40.8 &  143.7 &   13.1 \\\\\n",
      " 0.63 & 950.8 & 954.4 & 41.6 &  132.2 &   11.1 \\\\\n",
      " 0.65 & 950.8 & 954.3 & 42.1 &  133.8 &   11.3 \\\\\n",
      " 0.75 & 951.1 & 953.9 & 44.5 &  165.7 &   17.5 \\\\\n",
      " 0.80 & 951.2 & 954.2 & 45.7 &  159.1 &   16.0 \\\\\n",
      " 0.90 & 951.4 & 954.0 & 48.2 &  178.3 &   20.2 \\\\\n",
      "\\bottomrule\n",
      "\\end{tabular}\n",
      "\n"
     ]
    }
   ],
   "source": [
    "data_p = data_.copy()\n",
    "data_p[\"f\"] = np.round(data_p[\"f\"], 1)\n",
    "data_p[\"f0\"] = np.round(data_p[\"f0\"], 1)\n",
    "data_p[\"T\"] = np.round(data_p[\"T\"], 1)\n",
    "data_p[\"theta\"] = np.round(data_p[\"theta\"], 1)\n",
    "data_p[\"sigma\"] = np.round(err_abs, 1)\n",
    "print(data_p.to_latex(index=False))"
   ]
  },
  {
   "cell_type": "code",
   "execution_count": null,
   "metadata": {},
   "outputs": [],
   "source": []
  }
 ],
 "metadata": {
  "kernelspec": {
   "display_name": "Python 3",
   "language": "python",
   "name": "python3"
  },
  "language_info": {
   "codemirror_mode": {
    "name": "ipython",
    "version": 3
   },
   "file_extension": ".py",
   "mimetype": "text/x-python",
   "name": "python",
   "nbconvert_exporter": "python",
   "pygments_lexer": "ipython3",
   "version": "3.7.4"
  },
  "latex_envs": {
   "LaTeX_envs_menu_present": true,
   "autoclose": false,
   "autocomplete": true,
   "bibliofile": "biblio.bib",
   "cite_by": "apalike",
   "current_citInitial": 1,
   "eqLabelWithNumbers": true,
   "eqNumInitial": 1,
   "hotkeys": {
    "equation": "Ctrl-E",
    "itemize": "Ctrl-I"
   },
   "labels_anchors": false,
   "latex_user_defs": false,
   "report_style_numbering": false,
   "user_envs_cfg": false
  },
  "toc": {
   "base_numbering": 1,
   "nav_menu": {},
   "number_sections": true,
   "sideBar": true,
   "skip_h1_title": false,
   "title_cell": "Table of Contents",
   "title_sidebar": "Contents",
   "toc_cell": false,
   "toc_position": {},
   "toc_section_display": true,
   "toc_window_display": false
  },
  "varInspector": {
   "cols": {
    "lenName": 16,
    "lenType": 16,
    "lenVar": 40
   },
   "kernels_config": {
    "python": {
     "delete_cmd_postfix": "",
     "delete_cmd_prefix": "del ",
     "library": "var_list.py",
     "varRefreshCmd": "print(var_dic_list())"
    },
    "r": {
     "delete_cmd_postfix": ") ",
     "delete_cmd_prefix": "rm(",
     "library": "var_list.r",
     "varRefreshCmd": "cat(var_dic_list()) "
    }
   },
   "types_to_exclude": [
    "module",
    "function",
    "builtin_function_or_method",
    "instance",
    "_Feature"
   ],
   "window_display": false
  }
 },
 "nbformat": 4,
 "nbformat_minor": 2
}

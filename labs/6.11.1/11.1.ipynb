{
 "cells": [
  {
   "cell_type": "code",
   "execution_count": 1,
   "metadata": {
    "ExecuteTime": {
     "end_time": "2022-03-13T20:05:37.018516Z",
     "start_time": "2022-03-13T20:05:30.092662Z"
    }
   },
   "outputs": [],
   "source": [
    "import pandas as pd\n",
    "import numpy as np\n",
    "import matplotlib.pyplot as plt"
   ]
  },
  {
   "cell_type": "code",
   "execution_count": 135,
   "metadata": {
    "ExecuteTime": {
     "end_time": "2022-03-13T21:08:56.794525Z",
     "start_time": "2022-03-13T21:08:56.780700Z"
    }
   },
   "outputs": [],
   "source": [
    "# включим для графиков LaTeX и добавим русский\n",
    "from matplotlib import rc\n",
    "rc('font',**{'family':'serif'})\n",
    "rc('text', usetex=True)\n",
    "rc('text.latex', preamble='\\\\usepackage[utf8]{inputenc}')\n",
    "rc('text.latex', preamble='\\\\usepackage[russian]{babel}')"
   ]
  },
  {
   "cell_type": "code",
   "execution_count": 2,
   "metadata": {
    "ExecuteTime": {
     "end_time": "2022-03-13T20:16:59.417328Z",
     "start_time": "2022-03-13T20:16:59.399543Z"
    }
   },
   "outputs": [
    {
     "data": {
      "text/plain": [
       "Index(['U', 'R_cu', 'R_sc', 'T', 'σ_cu', 'σ_sc'], dtype='object')"
      ]
     },
     "execution_count": 2,
     "metadata": {},
     "output_type": "execute_result"
    }
   ],
   "source": [
    "data = pd.read_csv(\"data_11.1.csv\")\n",
    "data.columns"
   ]
  },
  {
   "cell_type": "code",
   "execution_count": 8,
   "metadata": {},
   "outputs": [
    {
     "name": "stdout",
     "output_type": "stream",
     "text": [
      "\\begin{tabular}{lrr}\n",
      "\\toprule\n",
      "{} &    R\\_cu &    R\\_sc \\\\\n",
      "\\midrule\n",
      "1 &  0.1859 &  0.2572 \\\\\n",
      "2 &  0.1879 &  0.2439 \\\\\n",
      "3 &  0.1894 &  0.2305 \\\\\n",
      "\\bottomrule\n",
      "\\end{tabular}\n",
      "\n"
     ]
    }
   ],
   "source": [
    "print(data.iloc[1:4, 1:3].to_latex())"
   ]
  },
  {
   "cell_type": "code",
   "execution_count": 229,
   "metadata": {
    "ExecuteTime": {
     "end_time": "2022-03-14T08:17:19.179526Z",
     "start_time": "2022-03-14T08:17:19.167534Z"
    }
   },
   "outputs": [],
   "source": [
    "l = 13.4;\n",
    "l2 = 39e-3;\n",
    "d = 0.07e-3;\n",
    "S = np.pi * d**2 / 4;\n",
    "S2 = 4e-3 * 4e-3;\n",
    "GetSigma = lambda R: l / R / S / 1000;\n",
    "GetSigma2 = lambda R: l2 / R / S2 / 1000;"
   ]
  },
  {
   "cell_type": "code",
   "execution_count": 230,
   "metadata": {
    "ExecuteTime": {
     "end_time": "2022-03-14T08:17:20.144802Z",
     "start_time": "2022-03-14T08:17:20.133831Z"
    }
   },
   "outputs": [],
   "source": [
    "err_R = 0.0005;"
   ]
  },
  {
   "cell_type": "code",
   "execution_count": 231,
   "metadata": {
    "ExecuteTime": {
     "end_time": "2022-03-14T08:17:20.549609Z",
     "start_time": "2022-03-14T08:17:20.526884Z"
    }
   },
   "outputs": [
    {
     "data": {
      "text/html": [
       "<div>\n",
       "<style scoped>\n",
       "    .dataframe tbody tr th:only-of-type {\n",
       "        vertical-align: middle;\n",
       "    }\n",
       "\n",
       "    .dataframe tbody tr th {\n",
       "        vertical-align: top;\n",
       "    }\n",
       "\n",
       "    .dataframe thead th {\n",
       "        text-align: right;\n",
       "    }\n",
       "</style>\n",
       "<table border=\"1\" class=\"dataframe\">\n",
       "  <thead>\n",
       "    <tr style=\"text-align: right;\">\n",
       "      <th></th>\n",
       "      <th>U</th>\n",
       "      <th>R_cu</th>\n",
       "      <th>R_sc</th>\n",
       "      <th>T</th>\n",
       "      <th>σ_cu</th>\n",
       "      <th>σ_sc</th>\n",
       "      <th>σ_cu_v2</th>\n",
       "      <th>sigma_cu</th>\n",
       "      <th>sigma_sc</th>\n",
       "    </tr>\n",
       "  </thead>\n",
       "  <tbody>\n",
       "    <tr>\n",
       "      <th>0</th>\n",
       "      <td>0.4</td>\n",
       "      <td>0.1831</td>\n",
       "      <td>0.2772</td>\n",
       "      <td>304.484211</td>\n",
       "      <td>1.901650e+10</td>\n",
       "      <td>1.256104e+10</td>\n",
       "      <td>1.901650e+10</td>\n",
       "      <td>1.901650e+07</td>\n",
       "      <td>8.793290</td>\n",
       "    </tr>\n",
       "    <tr>\n",
       "      <th>1</th>\n",
       "      <td>0.6</td>\n",
       "      <td>0.1859</td>\n",
       "      <td>0.2572</td>\n",
       "      <td>309.115789</td>\n",
       "      <td>1.873007e+10</td>\n",
       "      <td>1.353779e+10</td>\n",
       "      <td>1.873007e+10</td>\n",
       "      <td>1.873007e+07</td>\n",
       "      <td>9.477061</td>\n",
       "    </tr>\n",
       "    <tr>\n",
       "      <th>2</th>\n",
       "      <td>0.7</td>\n",
       "      <td>0.1879</td>\n",
       "      <td>0.2439</td>\n",
       "      <td>311.431579</td>\n",
       "      <td>1.853071e+10</td>\n",
       "      <td>1.427602e+10</td>\n",
       "      <td>1.853071e+10</td>\n",
       "      <td>1.853071e+07</td>\n",
       "      <td>9.993850</td>\n",
       "    </tr>\n",
       "    <tr>\n",
       "      <th>3</th>\n",
       "      <td>0.8</td>\n",
       "      <td>0.1894</td>\n",
       "      <td>0.2305</td>\n",
       "      <td>313.747368</td>\n",
       "      <td>1.838395e+10</td>\n",
       "      <td>1.510595e+10</td>\n",
       "      <td>1.838395e+10</td>\n",
       "      <td>1.838395e+07</td>\n",
       "      <td>10.574837</td>\n",
       "    </tr>\n",
       "    <tr>\n",
       "      <th>4</th>\n",
       "      <td>0.9</td>\n",
       "      <td>0.1910</td>\n",
       "      <td>0.2153</td>\n",
       "      <td>316.063158</td>\n",
       "      <td>1.822995e+10</td>\n",
       "      <td>1.617241e+10</td>\n",
       "      <td>1.822995e+10</td>\n",
       "      <td>1.822995e+07</td>\n",
       "      <td>11.321412</td>\n",
       "    </tr>\n",
       "  </tbody>\n",
       "</table>\n",
       "</div>"
      ],
      "text/plain": [
       "     U    R_cu    R_sc           T          σ_cu          σ_sc       σ_cu_v2  \\\n",
       "0  0.4  0.1831  0.2772  304.484211  1.901650e+10  1.256104e+10  1.901650e+10   \n",
       "1  0.6  0.1859  0.2572  309.115789  1.873007e+10  1.353779e+10  1.873007e+10   \n",
       "2  0.7  0.1879  0.2439  311.431579  1.853071e+10  1.427602e+10  1.853071e+10   \n",
       "3  0.8  0.1894  0.2305  313.747368  1.838395e+10  1.510595e+10  1.838395e+10   \n",
       "4  0.9  0.1910  0.2153  316.063158  1.822995e+10  1.617241e+10  1.822995e+10   \n",
       "\n",
       "       sigma_cu   sigma_sc  \n",
       "0  1.901650e+07   8.793290  \n",
       "1  1.873007e+07   9.477061  \n",
       "2  1.853071e+07   9.993850  \n",
       "3  1.838395e+07  10.574837  \n",
       "4  1.822995e+07  11.321412  "
      ]
     },
     "execution_count": 231,
     "metadata": {},
     "output_type": "execute_result"
    }
   ],
   "source": [
    "data[\"sigma_cu\"] = data[\"R_cu\"].map(GetSigma)\n",
    "data[\"sigma_sc\"] = data[\"R_sc\"].map(GetSigma2)\n",
    "data.head()"
   ]
  },
  {
   "cell_type": "code",
   "execution_count": 232,
   "metadata": {
    "ExecuteTime": {
     "end_time": "2022-03-14T08:17:26.562080Z",
     "start_time": "2022-03-14T08:17:26.544023Z"
    }
   },
   "outputs": [],
   "source": [
    "sigma_cu_0 = data[\"sigma_cu\"][0]\n",
    "sigma_sc_0 = data[\"sigma_sc\"][0]"
   ]
  },
  {
   "cell_type": "code",
   "execution_count": 233,
   "metadata": {
    "ExecuteTime": {
     "end_time": "2022-03-14T08:17:27.115947Z",
     "start_time": "2022-03-14T08:17:27.105948Z"
    }
   },
   "outputs": [],
   "source": [
    "ss = 4.5;"
   ]
  },
  {
   "cell_type": "code",
   "execution_count": 241,
   "metadata": {
    "ExecuteTime": {
     "end_time": "2022-03-14T08:35:49.348026Z",
     "start_time": "2022-03-14T08:35:48.815161Z"
    }
   },
   "outputs": [
    {
     "data": {
      "image/png": "[encoded data removed]",
      "text/plain": [
       "<Figure size 675x675 with 1 Axes>"
      ]
     },
     "metadata": {
      "needs_background": "light"
     },
     "output_type": "display_data"
    }
   ],
   "source": [
    "x = 1 / (data[\"T\"]-5)\n",
    "y = np.log(data[\"sigma_sc\"]/sigma_sc_0)\n",
    "xerr = 0\n",
    "yerr = (err_R + 0.02 * data[\"R_sc\"])/data[\"R_sc\"]\n",
    "\n",
    "\n",
    "start = 4;\n",
    "end   = None;\n",
    "[a, b], cov = np.polyfit(x[start:end], y[start:end], 1, cov=True)\n",
    "\n",
    "chi2 = np.sum((y[start:end] - a * x[start:end] - b)**2/yerr[start:end]**2)/(x.shape[0]-start-2);\n",
    "kB = 1.38e-23;\n",
    "Delta = -2 * kB * a / 1.6e-19;\n",
    "err_Delta = 2 * kB * cov[0][0]**0.5/ 1.6e-19\n",
    "                  \n",
    "fig, ax = plt.subplots(dpi=150, figsize=(ss, ss))\n",
    "# plt.scatter(x[start:end], y[start:end], color=\"g\", s=5)\n",
    "plt.errorbar(x[start:end], y[start:end], color=\"g\", fmt=\",\",\n",
    "             xerr=0, \n",
    "             yerr=yerr[start:end])\n",
    "plt.plot(x[start:end], a * x[start:end] + b, \"--k\")\n",
    "plt.title(\"полупроводник: $\\\\Delta = {:.3f} \\pm {:.3f}$ эВ,      $\\\\chi^2 = {:.2f}$\".format(Delta,err_Delta, chi2))\n",
    "\n",
    "plt.xlabel(\"$1/T$, K${}^{-1}$\")\n",
    "plt.ylabel(\"$\\\\ln(\\\\sigma/\\\\sigma_0)$\")\n",
    "ax.minorticks_on()\n",
    "ax.grid(b=True, which='major', color='k', linestyle='-', alpha=0.2)\n",
    "ax.grid(b=True, which='minor', color='k', linestyle='--', alpha=0.1)\n",
    "plt.savefig(\"plot_sc_6.11.1.pdf\", bbox_inches='tight', pad_inches=0)\n",
    "plt.show()"
   ]
  },
  {
   "cell_type": "code",
   "execution_count": 246,
   "metadata": {
    "ExecuteTime": {
     "end_time": "2022-03-14T08:36:05.019609Z",
     "start_time": "2022-03-14T08:36:04.512195Z"
    }
   },
   "outputs": [
    {
     "data": {
      "image/png": "[encoded data removed]",
      "text/plain": [
       "<Figure size 675x675 with 1 Axes>"
      ]
     },
     "metadata": {
      "needs_background": "light"
     },
     "output_type": "display_data"
    }
   ],
   "source": [
    "x = 1 / (data[\"T\"]-5)\n",
    "y = data[\"sigma_cu\"]/sigma_cu_0\n",
    "xerr = 0\n",
    "yerr = (0.0005 + 0.000 * data[\"R_cu\"])/data[\"R_cu\"] * data[\"sigma_cu\"]/sigma_cu_0\n",
    "\n",
    "\n",
    "start = 4;\n",
    "end   = None;\n",
    "[a, b], cov = np.polyfit(x[start:end], y[start:end], 1, cov=True)\n",
    "\n",
    "chi2 = np.sum((y[start:end] - a * x[start:end] - b)**2/yerr[start:end]**2)/(x.shape[0]-start-2);\n",
    "kB = 1.38e-23;\n",
    "Delta = -2 * kB * a / 1.6e-19;\n",
    "err_Delta = 2 * kB * cov[0][0]**0.5/ 1.6e-19\n",
    "                  \n",
    "fig, ax = plt.subplots(dpi=150, figsize=(ss, ss))\n",
    "# plt.scatter(x[start:end], y[start:end], color=\"g\", s=5)\n",
    "plt.errorbar(x[start:end], y[start:end], color=\"g\", fmt=\",\",\n",
    "             xerr=0, \n",
    "             yerr=yerr[start:end])\n",
    "plt.plot(x[start:end], a * x[start:end] + b, \"--k\")\n",
    "plt.title(\"медь: $\\\\chi^2 = {:.2f}$\".format(chi2))\n",
    "\n",
    "plt.xlabel(\"$1/T$, K${}^{-1}$\")\n",
    "plt.ylabel(\"$\\\\sigma/\\\\sigma_0$\")\n",
    "ax.minorticks_on()\n",
    "ax.grid(b=True, which='major', color='k', linestyle='-', alpha=0.2)\n",
    "ax.grid(b=True, which='minor', color='k', linestyle='--', alpha=0.1)\n",
    "plt.savefig(\"plot_cu_6.11.1.pdf\", bbox_inches='tight', pad_inches=0)\n",
    "plt.show()"
   ]
  },
  {
   "cell_type": "code",
   "execution_count": 240,
   "metadata": {
    "ExecuteTime": {
     "end_time": "2022-03-14T08:35:46.071251Z",
     "start_time": "2022-03-14T08:35:46.059284Z"
    }
   },
   "outputs": [
    {
     "data": {
      "text/plain": [
       "323.7225052009046"
      ]
     },
     "execution_count": 240,
     "metadata": {},
     "output_type": "execute_result"
    }
   ],
   "source": [
    "a"
   ]
  },
  {
   "cell_type": "code",
   "execution_count": 247,
   "metadata": {
    "ExecuteTime": {
     "end_time": "2022-03-14T08:36:07.166946Z",
     "start_time": "2022-03-14T08:36:07.153980Z"
    },
    "scrolled": true
   },
   "outputs": [
    {
     "data": {
      "text/plain": [
       "1.6375238239105823"
      ]
     },
     "execution_count": 247,
     "metadata": {},
     "output_type": "execute_result"
    }
   ],
   "source": [
    "cov[0][0]**0.5"
   ]
  },
  {
   "cell_type": "code",
   "execution_count": 243,
   "metadata": {
    "ExecuteTime": {
     "end_time": "2022-03-14T08:35:54.647754Z",
     "start_time": "2022-03-14T08:35:54.641737Z"
    }
   },
   "outputs": [
    {
     "data": {
      "text/plain": [
       "0.0527873195431608"
      ]
     },
     "execution_count": 243,
     "metadata": {},
     "output_type": "execute_result"
    }
   ],
   "source": [
    "cov[1][1]**0.5"
   ]
  },
  {
   "cell_type": "code",
   "execution_count": 244,
   "metadata": {
    "ExecuteTime": {
     "end_time": "2022-03-14T08:35:55.468473Z",
     "start_time": "2022-03-14T08:35:55.455017Z"
    }
   },
   "outputs": [
    {
     "data": {
      "text/plain": [
       "-3895.5140644689923"
      ]
     },
     "execution_count": 244,
     "metadata": {},
     "output_type": "execute_result"
    }
   ],
   "source": [
    "a"
   ]
  },
  {
   "cell_type": "code",
   "execution_count": 245,
   "metadata": {
    "ExecuteTime": {
     "end_time": "2022-03-14T08:35:55.898056Z",
     "start_time": "2022-03-14T08:35:55.884088Z"
    }
   },
   "outputs": [
    {
     "data": {
      "text/plain": [
       "12.711279755357213"
      ]
     },
     "execution_count": 245,
     "metadata": {},
     "output_type": "execute_result"
    }
   ],
   "source": [
    "b"
   ]
  },
  {
   "cell_type": "code",
   "execution_count": 238,
   "metadata": {
    "ExecuteTime": {
     "end_time": "2022-03-14T08:18:30.094734Z",
     "start_time": "2022-03-14T08:18:30.059920Z"
    },
    "scrolled": false
   },
   "outputs": [
    {
     "data": {
      "text/html": [
       "<div>\n",
       "<style scoped>\n",
       "    .dataframe tbody tr th:only-of-type {\n",
       "        vertical-align: middle;\n",
       "    }\n",
       "\n",
       "    .dataframe tbody tr th {\n",
       "        vertical-align: top;\n",
       "    }\n",
       "\n",
       "    .dataframe thead th {\n",
       "        text-align: right;\n",
       "    }\n",
       "</style>\n",
       "<table border=\"1\" class=\"dataframe\">\n",
       "  <thead>\n",
       "    <tr style=\"text-align: right;\">\n",
       "      <th></th>\n",
       "      <th>U</th>\n",
       "      <th>T</th>\n",
       "      <th>R_cu</th>\n",
       "      <th>R_sc</th>\n",
       "      <th>sigma_cu</th>\n",
       "      <th>sigma_sc</th>\n",
       "      <th>err_sigma_cu</th>\n",
       "      <th>err_sigma_sc</th>\n",
       "    </tr>\n",
       "  </thead>\n",
       "  <tbody>\n",
       "    <tr>\n",
       "      <th>0</th>\n",
       "      <td>0.40</td>\n",
       "      <td>299.5</td>\n",
       "      <td>0.183</td>\n",
       "      <td>0.277</td>\n",
       "      <td>1.90</td>\n",
       "      <td>0.88</td>\n",
       "      <td>0.04</td>\n",
       "      <td>0.02</td>\n",
       "    </tr>\n",
       "    <tr>\n",
       "      <th>1</th>\n",
       "      <td>0.60</td>\n",
       "      <td>304.1</td>\n",
       "      <td>0.186</td>\n",
       "      <td>0.257</td>\n",
       "      <td>1.87</td>\n",
       "      <td>0.95</td>\n",
       "      <td>0.04</td>\n",
       "      <td>0.02</td>\n",
       "    </tr>\n",
       "    <tr>\n",
       "      <th>2</th>\n",
       "      <td>0.70</td>\n",
       "      <td>306.4</td>\n",
       "      <td>0.188</td>\n",
       "      <td>0.244</td>\n",
       "      <td>1.85</td>\n",
       "      <td>1.00</td>\n",
       "      <td>0.04</td>\n",
       "      <td>0.02</td>\n",
       "    </tr>\n",
       "    <tr>\n",
       "      <th>3</th>\n",
       "      <td>0.80</td>\n",
       "      <td>308.7</td>\n",
       "      <td>0.189</td>\n",
       "      <td>0.230</td>\n",
       "      <td>1.84</td>\n",
       "      <td>1.06</td>\n",
       "      <td>0.04</td>\n",
       "      <td>0.02</td>\n",
       "    </tr>\n",
       "    <tr>\n",
       "      <th>4</th>\n",
       "      <td>0.90</td>\n",
       "      <td>311.1</td>\n",
       "      <td>0.191</td>\n",
       "      <td>0.215</td>\n",
       "      <td>1.82</td>\n",
       "      <td>1.13</td>\n",
       "      <td>0.04</td>\n",
       "      <td>0.03</td>\n",
       "    </tr>\n",
       "    <tr>\n",
       "      <th>5</th>\n",
       "      <td>1.00</td>\n",
       "      <td>313.4</td>\n",
       "      <td>0.192</td>\n",
       "      <td>0.204</td>\n",
       "      <td>1.81</td>\n",
       "      <td>1.20</td>\n",
       "      <td>0.04</td>\n",
       "      <td>0.03</td>\n",
       "    </tr>\n",
       "    <tr>\n",
       "      <th>6</th>\n",
       "      <td>1.13</td>\n",
       "      <td>316.4</td>\n",
       "      <td>0.194</td>\n",
       "      <td>0.184</td>\n",
       "      <td>1.79</td>\n",
       "      <td>1.32</td>\n",
       "      <td>0.04</td>\n",
       "      <td>0.03</td>\n",
       "    </tr>\n",
       "    <tr>\n",
       "      <th>7</th>\n",
       "      <td>1.21</td>\n",
       "      <td>318.2</td>\n",
       "      <td>0.196</td>\n",
       "      <td>0.174</td>\n",
       "      <td>1.78</td>\n",
       "      <td>1.40</td>\n",
       "      <td>0.04</td>\n",
       "      <td>0.03</td>\n",
       "    </tr>\n",
       "    <tr>\n",
       "      <th>8</th>\n",
       "      <td>1.30</td>\n",
       "      <td>320.3</td>\n",
       "      <td>0.197</td>\n",
       "      <td>0.163</td>\n",
       "      <td>1.77</td>\n",
       "      <td>1.49</td>\n",
       "      <td>0.04</td>\n",
       "      <td>0.03</td>\n",
       "    </tr>\n",
       "    <tr>\n",
       "      <th>9</th>\n",
       "      <td>1.44</td>\n",
       "      <td>323.6</td>\n",
       "      <td>0.200</td>\n",
       "      <td>0.144</td>\n",
       "      <td>1.74</td>\n",
       "      <td>1.69</td>\n",
       "      <td>0.04</td>\n",
       "      <td>0.04</td>\n",
       "    </tr>\n",
       "    <tr>\n",
       "      <th>10</th>\n",
       "      <td>1.70</td>\n",
       "      <td>329.6</td>\n",
       "      <td>0.204</td>\n",
       "      <td>0.117</td>\n",
       "      <td>1.71</td>\n",
       "      <td>2.09</td>\n",
       "      <td>0.04</td>\n",
       "      <td>0.05</td>\n",
       "    </tr>\n",
       "    <tr>\n",
       "      <th>11</th>\n",
       "      <td>1.91</td>\n",
       "      <td>334.5</td>\n",
       "      <td>0.207</td>\n",
       "      <td>0.098</td>\n",
       "      <td>1.68</td>\n",
       "      <td>2.48</td>\n",
       "      <td>0.04</td>\n",
       "      <td>0.06</td>\n",
       "    </tr>\n",
       "    <tr>\n",
       "      <th>12</th>\n",
       "      <td>2.00</td>\n",
       "      <td>336.5</td>\n",
       "      <td>0.209</td>\n",
       "      <td>0.090</td>\n",
       "      <td>1.67</td>\n",
       "      <td>2.71</td>\n",
       "      <td>0.04</td>\n",
       "      <td>0.07</td>\n",
       "    </tr>\n",
       "    <tr>\n",
       "      <th>13</th>\n",
       "      <td>2.10</td>\n",
       "      <td>338.9</td>\n",
       "      <td>0.210</td>\n",
       "      <td>0.084</td>\n",
       "      <td>1.66</td>\n",
       "      <td>2.91</td>\n",
       "      <td>0.04</td>\n",
       "      <td>0.08</td>\n",
       "    </tr>\n",
       "    <tr>\n",
       "      <th>14</th>\n",
       "      <td>2.22</td>\n",
       "      <td>341.6</td>\n",
       "      <td>0.212</td>\n",
       "      <td>0.076</td>\n",
       "      <td>1.64</td>\n",
       "      <td>3.19</td>\n",
       "      <td>0.04</td>\n",
       "      <td>0.09</td>\n",
       "    </tr>\n",
       "    <tr>\n",
       "      <th>15</th>\n",
       "      <td>2.40</td>\n",
       "      <td>345.8</td>\n",
       "      <td>0.215</td>\n",
       "      <td>0.066</td>\n",
       "      <td>1.62</td>\n",
       "      <td>3.69</td>\n",
       "      <td>0.04</td>\n",
       "      <td>0.10</td>\n",
       "    </tr>\n",
       "    <tr>\n",
       "      <th>16</th>\n",
       "      <td>2.50</td>\n",
       "      <td>348.1</td>\n",
       "      <td>0.217</td>\n",
       "      <td>0.061</td>\n",
       "      <td>1.61</td>\n",
       "      <td>4.02</td>\n",
       "      <td>0.04</td>\n",
       "      <td>0.11</td>\n",
       "    </tr>\n",
       "    <tr>\n",
       "      <th>17</th>\n",
       "      <td>2.70</td>\n",
       "      <td>352.7</td>\n",
       "      <td>0.220</td>\n",
       "      <td>0.052</td>\n",
       "      <td>1.58</td>\n",
       "      <td>4.68</td>\n",
       "      <td>0.04</td>\n",
       "      <td>0.14</td>\n",
       "    </tr>\n",
       "    <tr>\n",
       "      <th>18</th>\n",
       "      <td>2.90</td>\n",
       "      <td>357.4</td>\n",
       "      <td>0.223</td>\n",
       "      <td>0.045</td>\n",
       "      <td>1.56</td>\n",
       "      <td>5.42</td>\n",
       "      <td>0.03</td>\n",
       "      <td>0.17</td>\n",
       "    </tr>\n",
       "    <tr>\n",
       "      <th>19</th>\n",
       "      <td>3.10</td>\n",
       "      <td>362.0</td>\n",
       "      <td>0.226</td>\n",
       "      <td>0.039</td>\n",
       "      <td>1.54</td>\n",
       "      <td>6.22</td>\n",
       "      <td>0.03</td>\n",
       "      <td>0.20</td>\n",
       "    </tr>\n",
       "    <tr>\n",
       "      <th>20</th>\n",
       "      <td>3.35</td>\n",
       "      <td>367.8</td>\n",
       "      <td>0.230</td>\n",
       "      <td>0.033</td>\n",
       "      <td>1.51</td>\n",
       "      <td>7.41</td>\n",
       "      <td>0.03</td>\n",
       "      <td>0.26</td>\n",
       "    </tr>\n",
       "    <tr>\n",
       "      <th>21</th>\n",
       "      <td>3.70</td>\n",
       "      <td>375.9</td>\n",
       "      <td>0.236</td>\n",
       "      <td>0.026</td>\n",
       "      <td>1.48</td>\n",
       "      <td>9.30</td>\n",
       "      <td>0.03</td>\n",
       "      <td>0.37</td>\n",
       "    </tr>\n",
       "    <tr>\n",
       "      <th>22</th>\n",
       "      <td>4.11</td>\n",
       "      <td>385.4</td>\n",
       "      <td>0.242</td>\n",
       "      <td>0.020</td>\n",
       "      <td>1.44</td>\n",
       "      <td>12.01</td>\n",
       "      <td>0.03</td>\n",
       "      <td>0.54</td>\n",
       "    </tr>\n",
       "    <tr>\n",
       "      <th>23</th>\n",
       "      <td>4.28</td>\n",
       "      <td>389.3</td>\n",
       "      <td>0.244</td>\n",
       "      <td>0.018</td>\n",
       "      <td>1.42</td>\n",
       "      <td>13.25</td>\n",
       "      <td>0.03</td>\n",
       "      <td>0.64</td>\n",
       "    </tr>\n",
       "    <tr>\n",
       "      <th>24</th>\n",
       "      <td>4.52</td>\n",
       "      <td>394.9</td>\n",
       "      <td>0.248</td>\n",
       "      <td>0.016</td>\n",
       "      <td>1.40</td>\n",
       "      <td>15.23</td>\n",
       "      <td>0.03</td>\n",
       "      <td>0.78</td>\n",
       "    </tr>\n",
       "    <tr>\n",
       "      <th>25</th>\n",
       "      <td>4.85</td>\n",
       "      <td>402.5</td>\n",
       "      <td>0.253</td>\n",
       "      <td>0.013</td>\n",
       "      <td>1.38</td>\n",
       "      <td>18.33</td>\n",
       "      <td>0.03</td>\n",
       "      <td>1.08</td>\n",
       "    </tr>\n",
       "    <tr>\n",
       "      <th>26</th>\n",
       "      <td>5.05</td>\n",
       "      <td>407.2</td>\n",
       "      <td>0.256</td>\n",
       "      <td>0.012</td>\n",
       "      <td>1.36</td>\n",
       "      <td>20.31</td>\n",
       "      <td>0.03</td>\n",
       "      <td>1.25</td>\n",
       "    </tr>\n",
       "  </tbody>\n",
       "</table>\n",
       "</div>"
      ],
      "text/plain": [
       "       U      T   R_cu   R_sc  sigma_cu  sigma_sc  err_sigma_cu  err_sigma_sc\n",
       "0   0.40  299.5  0.183  0.277      1.90      0.88          0.04          0.02\n",
       "1   0.60  304.1  0.186  0.257      1.87      0.95          0.04          0.02\n",
       "2   0.70  306.4  0.188  0.244      1.85      1.00          0.04          0.02\n",
       "3   0.80  308.7  0.189  0.230      1.84      1.06          0.04          0.02\n",
       "4   0.90  311.1  0.191  0.215      1.82      1.13          0.04          0.03\n",
       "5   1.00  313.4  0.192  0.204      1.81      1.20          0.04          0.03\n",
       "6   1.13  316.4  0.194  0.184      1.79      1.32          0.04          0.03\n",
       "7   1.21  318.2  0.196  0.174      1.78      1.40          0.04          0.03\n",
       "8   1.30  320.3  0.197  0.163      1.77      1.49          0.04          0.03\n",
       "9   1.44  323.6  0.200  0.144      1.74      1.69          0.04          0.04\n",
       "10  1.70  329.6  0.204  0.117      1.71      2.09          0.04          0.05\n",
       "11  1.91  334.5  0.207  0.098      1.68      2.48          0.04          0.06\n",
       "12  2.00  336.5  0.209  0.090      1.67      2.71          0.04          0.07\n",
       "13  2.10  338.9  0.210  0.084      1.66      2.91          0.04          0.08\n",
       "14  2.22  341.6  0.212  0.076      1.64      3.19          0.04          0.09\n",
       "15  2.40  345.8  0.215  0.066      1.62      3.69          0.04          0.10\n",
       "16  2.50  348.1  0.217  0.061      1.61      4.02          0.04          0.11\n",
       "17  2.70  352.7  0.220  0.052      1.58      4.68          0.04          0.14\n",
       "18  2.90  357.4  0.223  0.045      1.56      5.42          0.03          0.17\n",
       "19  3.10  362.0  0.226  0.039      1.54      6.22          0.03          0.20\n",
       "20  3.35  367.8  0.230  0.033      1.51      7.41          0.03          0.26\n",
       "21  3.70  375.9  0.236  0.026      1.48      9.30          0.03          0.37\n",
       "22  4.11  385.4  0.242  0.020      1.44     12.01          0.03          0.54\n",
       "23  4.28  389.3  0.244  0.018      1.42     13.25          0.03          0.64\n",
       "24  4.52  394.9  0.248  0.016      1.40     15.23          0.03          0.78\n",
       "25  4.85  402.5  0.253  0.013      1.38     18.33          0.03          1.08\n",
       "26  5.05  407.2  0.256  0.012      1.36     20.31          0.03          1.25"
      ]
     },
     "execution_count": 238,
     "metadata": {},
     "output_type": "execute_result"
    }
   ],
   "source": [
    "data2 = data[[\"U\", \"T\", \"R_cu\", \"R_sc\", \"sigma_cu\", \"sigma_sc\"]].copy()\n",
    "data2[\"T\"] = np.round(data2[\"T\"]-5, 1)\n",
    "data2[\"R_cu\"] = np.round(data2[\"R_cu\"], 3)\n",
    "data2[\"R_sc\"] = np.round(data2[\"R_sc\"], 3)\n",
    "data2[\"sigma_cu\"] = np.round(data2[\"sigma_cu\"]/1e7, 2)\n",
    "data2[\"err_sigma_cu\"] = np.round((err_R + 0.02 * data[\"R_cu\"]) / data2[\"R_cu\"] * data2[\"sigma_cu\"], 2)\n",
    "data2[\"sigma_sc\"] = np.round(data2[\"sigma_sc\"]/1e1, 2)\n",
    "data2[\"err_sigma_sc\"] = np.round((err_R + 0.02 * data[\"R_sc\"]) / data2[\"R_sc\"] * data2[\"sigma_sc\"], 2)\n",
    "data2"
   ]
  },
  {
   "cell_type": "code",
   "execution_count": 194,
   "metadata": {
    "ExecuteTime": {
     "end_time": "2022-03-13T21:34:23.184852Z",
     "start_time": "2022-03-13T21:34:23.144328Z"
    }
   },
   "outputs": [
    {
     "name": "stdout",
     "output_type": "stream",
     "text": [
      "\\begin{tabular}{rrrrrrrr}\n",
      "\\toprule\n",
      "   U &     T &  R\\_cu &  R\\_sc &  sigma\\_cu &  sigma\\_sc &  err\\_sigma\\_cu &  err\\_sigma\\_sc \\\\\n",
      "\\midrule\n",
      "0.40 & 304.5 & 0.183 & 0.277 &      1.90 &      0.88 &          0.04 &          0.02 \\\\\n",
      "0.60 & 309.1 & 0.186 & 0.257 &      1.87 &      0.95 &          0.04 &          0.02 \\\\\n",
      "0.70 & 311.4 & 0.188 & 0.244 &      1.85 &      1.00 &          0.04 &          0.02 \\\\\n",
      "0.80 & 313.7 & 0.189 & 0.230 &      1.84 &      1.06 &          0.04 &          0.02 \\\\\n",
      "0.90 & 316.1 & 0.191 & 0.215 &      1.82 &      1.13 &          0.04 &          0.03 \\\\\n",
      "1.00 & 318.4 & 0.192 & 0.204 &      1.81 &      1.20 &          0.04 &          0.03 \\\\\n",
      "1.13 & 321.4 & 0.194 & 0.184 &      1.79 &      1.32 &          0.04 &          0.03 \\\\\n",
      "1.21 & 323.2 & 0.196 & 0.174 &      1.78 &      1.40 &          0.04 &          0.03 \\\\\n",
      "1.30 & 325.3 & 0.197 & 0.163 &      1.77 &      1.49 &          0.04 &          0.03 \\\\\n",
      "1.44 & 328.6 & 0.200 & 0.144 &      1.74 &      1.69 &          0.04 &          0.04 \\\\\n",
      "1.70 & 334.6 & 0.204 & 0.117 &      1.71 &      2.09 &          0.04 &          0.05 \\\\\n",
      "1.91 & 339.5 & 0.207 & 0.098 &      1.68 &      2.48 &          0.04 &          0.06 \\\\\n",
      "2.00 & 341.5 & 0.209 & 0.090 &      1.67 &      2.71 &          0.04 &          0.07 \\\\\n",
      "2.10 & 343.9 & 0.210 & 0.084 &      1.66 &      2.91 &          0.04 &          0.08 \\\\\n",
      "2.22 & 346.6 & 0.212 & 0.076 &      1.64 &      3.19 &          0.04 &          0.09 \\\\\n",
      "2.40 & 350.8 & 0.215 & 0.066 &      1.62 &      3.69 &          0.04 &          0.10 \\\\\n",
      "2.50 & 353.1 & 0.217 & 0.061 &      1.61 &      4.02 &          0.04 &          0.11 \\\\\n",
      "2.70 & 357.7 & 0.220 & 0.052 &      1.58 &      4.68 &          0.04 &          0.14 \\\\\n",
      "2.90 & 362.4 & 0.223 & 0.045 &      1.56 &      5.42 &          0.03 &          0.17 \\\\\n",
      "3.10 & 367.0 & 0.226 & 0.039 &      1.54 &      6.22 &          0.03 &          0.20 \\\\\n",
      "3.35 & 372.8 & 0.230 & 0.033 &      1.51 &      7.41 &          0.03 &          0.26 \\\\\n",
      "3.70 & 380.9 & 0.236 & 0.026 &      1.48 &      9.30 &          0.03 &          0.37 \\\\\n",
      "4.11 & 390.4 & 0.242 & 0.020 &      1.44 &     12.01 &          0.03 &          0.54 \\\\\n",
      "4.28 & 394.3 & 0.244 & 0.018 &      1.42 &     13.25 &          0.03 &          0.64 \\\\\n",
      "4.52 & 399.9 & 0.248 & 0.016 &      1.40 &     15.23 &          0.03 &          0.78 \\\\\n",
      "4.85 & 407.5 & 0.253 & 0.013 &      1.38 &     18.33 &          0.03 &          1.08 \\\\\n",
      "5.05 & 412.2 & 0.256 & 0.012 &      1.36 &     20.31 &          0.03 &          1.25 \\\\\n",
      "\\bottomrule\n",
      "\\end{tabular}\n",
      "\n"
     ]
    }
   ],
   "source": [
    "print(data2.to_latex(index = False))"
   ]
  }
 ],
 "metadata": {
  "kernelspec": {
   "display_name": "Python 3 (ipykernel)",
   "language": "python",
   "name": "python3"
  },
  "language_info": {
   "codemirror_mode": {
    "name": "ipython",
    "version": 3
   },
   "file_extension": ".py",
   "mimetype": "text/x-python",
   "name": "python",
   "nbconvert_exporter": "python",
   "pygments_lexer": "ipython3",
   "version": "3.9.7"
  },
  "latex_envs": {
   "LaTeX_envs_menu_present": true,
   "autoclose": false,
   "autocomplete": true,
   "bibliofile": "biblio.bib",
   "cite_by": "apalike",
   "current_citInitial": 1,
   "eqLabelWithNumbers": true,
   "eqNumInitial": 1,
   "hotkeys": {
    "equation": "Ctrl-E",
    "itemize": "Ctrl-I"
   },
   "labels_anchors": false,
   "latex_user_defs": false,
   "report_style_numbering": false,
   "user_envs_cfg": false
  },
  "toc": {
   "base_numbering": 1,
   "nav_menu": {},
   "number_sections": true,
   "sideBar": true,
   "skip_h1_title": false,
   "title_cell": "Table of Contents",
   "title_sidebar": "Contents",
   "toc_cell": false,
   "toc_position": {},
   "toc_section_display": true,
   "toc_window_display": false
  },
  "varInspector": {
   "cols": {
    "lenName": 16,
    "lenType": 16,
    "lenVar": 40
   },
   "kernels_config": {
    "python": {
     "delete_cmd_postfix": "",
     "delete_cmd_prefix": "del ",
     "library": "var_list.py",
     "varRefreshCmd": "print(var_dic_list())"
    },
    "r": {
     "delete_cmd_postfix": ") ",
     "delete_cmd_prefix": "rm(",
     "library": "var_list.r",
     "varRefreshCmd": "cat(var_dic_list()) "
    }
   },
   "types_to_exclude": [
    "module",
    "function",
    "builtin_function_or_method",
    "instance",
    "_Feature"
   ],
   "window_display": false
  }
 },
 "nbformat": 4,
 "nbformat_minor": 2
}
